{
 "cells": [
  {
   "cell_type": "code",
   "execution_count": 1,
   "id": "88f685a1-648c-4e8c-83b2-a7a3e6121d73",
   "metadata": {},
   "outputs": [],
   "source": [
    "import os\n",
    "import torch\n",
    "import torch.nn as nn\n",
    "import torch.nn.functional as F\n",
    "import torch.optim as optim\n",
    "from torch.utils.data import Dataset, DataLoader\n",
    "from torchvision import transforms\n",
    "import torchvision.models as models\n",
    "from PIL import Image\n",
    "import random, time, torchprofile\n",
    "from tqdm import tqdm\n",
    "from sklearn.metrics import precision_score, recall_score, f1_score\n",
    "\n",
    "device = 'cuda:0' if torch.cuda.is_available() else 'cpu'\n",
    "\n",
    "# Read and Transform Data\n",
    "class LoadData(Dataset):\n",
    "    def __init__(self, file, root):\n",
    "        self.root = root\n",
    "        \n",
    "        # Data tranformation\n",
    "        self.transform = transforms.Compose([\n",
    "            transforms.Resize(84),\n",
    "            transforms.CenterCrop(84),\n",
    "            transforms.RandomHorizontalFlip(0.5),\n",
    "            transforms.RandomVerticalFlip(0.1),\n",
    "            transforms.RandomPerspective(distortion_scale = 0.2, p = 0.2),\n",
    "            transforms.RandomRotation(15),\n",
    "            transforms.ToTensor(),\n",
    "            transforms.Normalize([0.485, 0.456, 0.406], [0.229, 0.224, 0.225]),\n",
    "        ])\n",
    "        \n",
    "        # Read the data file\n",
    "        with open(file, 'r') as files:\n",
    "            self.data = files.readlines()\n",
    "\n",
    "    def __len__(self):\n",
    "        return len(self.data)\n",
    "\n",
    "    def __getitem__(self, idx):\n",
    "        line = self.data[idx].strip()\n",
    "        img_path, label = line.split()\n",
    "        img_path = os.path.join(self.root, img_path)\n",
    "        img = Image.open(img_path).convert('RGB')\n",
    "        label = int(label)\n",
    "        img = self.transform(img)\n",
    "        return img, label"
   ]
  },
  {
   "cell_type": "code",
   "execution_count": 2,
   "id": "6bfbfa12-65da-4fd3-a5f1-47f8bec45d37",
   "metadata": {},
   "outputs": [],
   "source": [
    "# Create dataset instances\n",
    "train_dataset = LoadData(file = 'train.txt', root = '')\n",
    "val_dataset = LoadData(file = 'val.txt', root = '')\n",
    "test_dataset = LoadData(file = 'test.txt', root = '')\n",
    "\n",
    "# Create DataLoader instances\n",
    "train_loader = DataLoader(train_dataset, batch_size = 64, shuffle = True)\n",
    "val_loader = DataLoader(val_dataset, batch_size = 64, shuffle = False)\n",
    "test_loader = DataLoader(test_dataset, batch_size = 64, shuffle = False)"
   ]
  },
  {
   "cell_type": "markdown",
   "id": "32b85462-2438-4592-bc93-03bb4c839303",
   "metadata": {},
   "source": [
    "## Train handmade model"
   ]
  },
  {
   "cell_type": "code",
   "execution_count": 3,
   "id": "9bb5c9d0-1b46-4a7f-b3f0-28602ca4d45c",
   "metadata": {},
   "outputs": [
    {
     "data": {
      "text/plain": [
       "SimpleCNN(\n",
       "  (conv): DenseBlock(\n",
       "    (conv): Conv2d(3, 512, kernel_size=(5, 5), stride=(1, 1), padding=(1, 1))\n",
       "    (norm): BatchNorm2d(512, eps=1e-05, momentum=0.1, affine=True, track_running_stats=True)\n",
       "    (relu): ReLU(inplace=True)\n",
       "  )\n",
       "  (rrdb): RRDB(\n",
       "    (layers): ModuleList(\n",
       "      (0): DenseBlock(\n",
       "        (conv): Conv2d(512, 32, kernel_size=(3, 3), stride=(1, 1), padding=(1, 1))\n",
       "        (norm): BatchNorm2d(32, eps=1e-05, momentum=0.1, affine=True, track_running_stats=True)\n",
       "        (relu): ReLU(inplace=True)\n",
       "      )\n",
       "      (1): DenseBlock(\n",
       "        (conv): Conv2d(544, 32, kernel_size=(3, 3), stride=(1, 1), padding=(1, 1))\n",
       "        (norm): BatchNorm2d(32, eps=1e-05, momentum=0.1, affine=True, track_running_stats=True)\n",
       "        (relu): ReLU(inplace=True)\n",
       "      )\n",
       "      (2): DenseBlock(\n",
       "        (conv): Conv2d(576, 32, kernel_size=(3, 3), stride=(1, 1), padding=(1, 1))\n",
       "        (norm): BatchNorm2d(32, eps=1e-05, momentum=0.1, affine=True, track_running_stats=True)\n",
       "        (relu): ReLU(inplace=True)\n",
       "      )\n",
       "    )\n",
       "    (conv): Conv2d(608, 512, kernel_size=(1, 1), stride=(1, 1))\n",
       "    (relu): ReLU(inplace=True)\n",
       "  )\n",
       "  (pool1): MaxPool2d(kernel_size=2, stride=2, padding=0, dilation=1, ceil_mode=False)\n",
       "  (attention): SelfAttention(\n",
       "    (query_conv): Conv2d(512, 64, kernel_size=(1, 1), stride=(1, 1))\n",
       "    (key_conv): Conv2d(512, 64, kernel_size=(1, 1), stride=(1, 1))\n",
       "    (value_conv): Conv2d(512, 512, kernel_size=(1, 1), stride=(1, 1))\n",
       "  )\n",
       "  (pool2): AdaptiveAvgPool2d(output_size=(1, 1))\n",
       "  (dropout): Dropout(p=0.2, inplace=False)\n",
       "  (fc): Linear(in_features=512, out_features=50, bias=True)\n",
       ")"
      ]
     },
     "execution_count": 3,
     "metadata": {},
     "output_type": "execute_result"
    }
   ],
   "source": [
    "# Combine convolution, batch normalization, and ReLU into a module called dense block\n",
    "class DenseBlock(nn.Module):\n",
    "    def __init__(self, in_channels, growth_rate, kernel_size):\n",
    "        super(DenseBlock, self).__init__()\n",
    "        self.conv = nn.Conv2d(in_channels, growth_rate, kernel_size, padding = 1)\n",
    "        self.norm = nn.BatchNorm2d(growth_rate)\n",
    "        self.relu = nn.ReLU(inplace = True)\n",
    "    \n",
    "    def forward(self, x):\n",
    "        x = self.conv(x)\n",
    "        x = self.norm(x)\n",
    "        return self.relu(x)\n",
    "\n",
    "# Residual-in-Residual Dense Block (RRDB)\n",
    "class RRDB(nn.Module):\n",
    "    def __init__(self, in_channels, growth_rate = 32, kernel_size = 3, num_layers = 3):\n",
    "        super(RRDB, self).__init__()\n",
    "        self.num_layers = num_layers\n",
    "        self.layers = nn.ModuleList()\n",
    "        channels = in_channels\n",
    "        for i in range(num_layers):\n",
    "            self.layers.append(DenseBlock(channels, growth_rate, kernel_size))\n",
    "            channels += growth_rate\n",
    "\n",
    "        self.conv = nn.Conv2d(channels, in_channels, kernel_size = 1, padding = 0)\n",
    "        self.relu = nn.ReLU(inplace = True)\n",
    "\n",
    "    def forward(self, x):\n",
    "        out = x\n",
    "        for layer in self.layers:\n",
    "            new_out = layer(out)\n",
    "            out = torch.cat([out, new_out], 1)\n",
    "        out = self.conv(out)\n",
    "        out = self.relu(out)\n",
    "        return out + x\n",
    "\n",
    "# Self-Attention Layer\n",
    "class SelfAttention(nn.Module):\n",
    "    def __init__(self, in_channels):\n",
    "        super(SelfAttention, self).__init__()\n",
    "        self.query_conv = nn.Conv2d(in_channels, in_channels // 8, 1)\n",
    "        self.key_conv = nn.Conv2d(in_channels, in_channels // 8, 1)\n",
    "        self.value_conv = nn.Conv2d(in_channels, in_channels, 1)\n",
    "        self.scale = (in_channels // 8) ** -0.5\n",
    "\n",
    "    def forward(self, x):\n",
    "        batch_size, C, width, height = x.size()\n",
    "        query = self.query_conv(x).view(batch_size, -1, width * height).permute(0, 2, 1)\n",
    "        key = self.key_conv(x).view(batch_size, -1, width * height)\n",
    "        value = self.value_conv(x).view(batch_size, -1, height * width)\n",
    "        scores = torch.bmm(query, key) * self.scale\n",
    "        attention = F.softmax(scores, dim = -1)\n",
    "        out = torch.bmm(value, attention.permute(0, 2, 1))\n",
    "        out = out.view(batch_size, C, width, height)\n",
    "        return out + x\n",
    "\n",
    "class SimpleCNN(nn.Module):\n",
    "    def __init__(self, num_classes = 50):\n",
    "        super(SimpleCNN, self).__init__()\n",
    "        self.conv = DenseBlock(3, 512, 5)\n",
    "        self.rrdb = RRDB(512)\n",
    "        self.pool1 = nn.MaxPool2d(kernel_size = 2, stride = 2)\n",
    "        self.attention = SelfAttention(512)\n",
    "        self.pool2 = nn.AdaptiveAvgPool2d((1, 1))\n",
    "        self.dropout = nn.Dropout(0.2)\n",
    "        self.fc = nn.Linear(512, num_classes)\n",
    "\n",
    "    def forward(self, x):\n",
    "        x = self.conv(x)\n",
    "        x = self.rrdb(x)\n",
    "        x = self.pool1(x)\n",
    "        x = self.attention(x)\n",
    "        x = self.pool2(x)\n",
    "        x = x.view(x.size(0), -1)\n",
    "        x = self.dropout(x)\n",
    "        x = self.fc(x)\n",
    "        return x\n",
    "\n",
    "# Structure of model\n",
    "model = SimpleCNN(num_classes = 50)\n",
    "model.to(device)"
   ]
  },
  {
   "cell_type": "code",
   "execution_count": 4,
   "id": "f808c0f2-f979-4aae-9613-0b8ecd6ca7e7",
   "metadata": {},
   "outputs": [
    {
     "name": "stderr",
     "output_type": "stream",
     "text": [
      "Training Epoch #1: 100%|██████████| 990/990 [08:10<00:00,  2.02it/s, accuracy=9.57, loss=3.23] \n"
     ]
    },
    {
     "name": "stdout",
     "output_type": "stream",
     "text": [
      "Train Epoch: 1, Loss: 3.572188, Accuracy: 9.57%\n"
     ]
    },
    {
     "name": "stderr",
     "output_type": "stream",
     "text": [
      "Validation Epoch #1: 100%|██████████| 8/8 [00:01<00:00,  4.49it/s, accuracy=12.9, loss=3.28] \n"
     ]
    },
    {
     "name": "stdout",
     "output_type": "stream",
     "text": [
      "Validation Set: Average Loss: 3.2824, Accuracy: 12.89%\n",
      "Best Accuracy: 12.89%\n"
     ]
    },
    {
     "name": "stderr",
     "output_type": "stream",
     "text": [
      "Training Epoch #2: 100%|██████████| 990/990 [08:10<00:00,  2.02it/s, accuracy=14.6, loss=3.18]\n"
     ]
    },
    {
     "name": "stdout",
     "output_type": "stream",
     "text": [
      "Train Epoch: 2, Loss: 3.275644, Accuracy: 14.60%\n"
     ]
    },
    {
     "name": "stderr",
     "output_type": "stream",
     "text": [
      "Validation Epoch #2: 100%|██████████| 8/8 [00:01<00:00,  4.62it/s, accuracy=15.1, loss=3.22] \n"
     ]
    },
    {
     "name": "stdout",
     "output_type": "stream",
     "text": [
      "Validation Set: Average Loss: 3.2168, Accuracy: 15.11%\n",
      "Best Accuracy: 15.11%\n"
     ]
    },
    {
     "name": "stderr",
     "output_type": "stream",
     "text": [
      "Training Epoch #3: 100%|██████████| 990/990 [08:09<00:00,  2.02it/s, accuracy=17.2, loss=3.23]\n"
     ]
    },
    {
     "name": "stdout",
     "output_type": "stream",
     "text": [
      "Train Epoch: 3, Loss: 3.135660, Accuracy: 17.23%\n"
     ]
    },
    {
     "name": "stderr",
     "output_type": "stream",
     "text": [
      "Validation Epoch #3: 100%|██████████| 8/8 [00:01<00:00,  4.58it/s, accuracy=19.6, loss=3.12] \n"
     ]
    },
    {
     "name": "stdout",
     "output_type": "stream",
     "text": [
      "Validation Set: Average Loss: 3.1166, Accuracy: 19.56%\n",
      "Best Accuracy: 19.56%\n"
     ]
    },
    {
     "name": "stderr",
     "output_type": "stream",
     "text": [
      "Training Epoch #4: 100%|██████████| 990/990 [08:10<00:00,  2.02it/s, accuracy=19.1, loss=2.52]\n"
     ]
    },
    {
     "name": "stdout",
     "output_type": "stream",
     "text": [
      "Train Epoch: 4, Loss: 3.040904, Accuracy: 19.10%\n"
     ]
    },
    {
     "name": "stderr",
     "output_type": "stream",
     "text": [
      "Validation Epoch #4: 100%|██████████| 8/8 [00:01<00:00,  4.53it/s, accuracy=18.9, loss=2.96] \n"
     ]
    },
    {
     "name": "stdout",
     "output_type": "stream",
     "text": [
      "Validation Set: Average Loss: 2.9602, Accuracy: 18.89%\n"
     ]
    },
    {
     "name": "stderr",
     "output_type": "stream",
     "text": [
      "Training Epoch #5: 100%|██████████| 990/990 [08:10<00:00,  2.02it/s, accuracy=20.8, loss=2.83]\n"
     ]
    },
    {
     "name": "stdout",
     "output_type": "stream",
     "text": [
      "Train Epoch: 5, Loss: 2.964242, Accuracy: 20.81%\n"
     ]
    },
    {
     "name": "stderr",
     "output_type": "stream",
     "text": [
      "Validation Epoch #5: 100%|██████████| 8/8 [00:01<00:00,  4.60it/s, accuracy=20, loss=3]      \n"
     ]
    },
    {
     "name": "stdout",
     "output_type": "stream",
     "text": [
      "Validation Set: Average Loss: 3.0032, Accuracy: 20.00%\n",
      "Best Accuracy: 20.00%\n"
     ]
    },
    {
     "name": "stderr",
     "output_type": "stream",
     "text": [
      "Training Epoch #6: 100%|██████████| 990/990 [08:10<00:00,  2.02it/s, accuracy=22.3, loss=2.81]\n"
     ]
    },
    {
     "name": "stdout",
     "output_type": "stream",
     "text": [
      "Train Epoch: 6, Loss: 2.902017, Accuracy: 22.32%\n"
     ]
    },
    {
     "name": "stderr",
     "output_type": "stream",
     "text": [
      "Validation Epoch #6: 100%|██████████| 8/8 [00:01<00:00,  4.61it/s, accuracy=21.3, loss=2.89] \n"
     ]
    },
    {
     "name": "stdout",
     "output_type": "stream",
     "text": [
      "Validation Set: Average Loss: 2.8923, Accuracy: 21.33%\n",
      "Best Accuracy: 21.33%\n"
     ]
    },
    {
     "name": "stderr",
     "output_type": "stream",
     "text": [
      "Training Epoch #7: 100%|██████████| 990/990 [08:09<00:00,  2.02it/s, accuracy=23.1, loss=3.18]\n"
     ]
    },
    {
     "name": "stdout",
     "output_type": "stream",
     "text": [
      "Train Epoch: 7, Loss: 2.853516, Accuracy: 23.09%\n"
     ]
    },
    {
     "name": "stderr",
     "output_type": "stream",
     "text": [
      "Validation Epoch #7: 100%|██████████| 8/8 [00:01<00:00,  4.60it/s, accuracy=25.6, loss=2.76]\n"
     ]
    },
    {
     "name": "stdout",
     "output_type": "stream",
     "text": [
      "Validation Set: Average Loss: 2.7646, Accuracy: 25.56%\n",
      "Best Accuracy: 25.56%\n"
     ]
    },
    {
     "name": "stderr",
     "output_type": "stream",
     "text": [
      "Training Epoch #8: 100%|██████████| 990/990 [08:09<00:00,  2.02it/s, accuracy=24.2, loss=3.02]\n"
     ]
    },
    {
     "name": "stdout",
     "output_type": "stream",
     "text": [
      "Train Epoch: 8, Loss: 2.801965, Accuracy: 24.16%\n"
     ]
    },
    {
     "name": "stderr",
     "output_type": "stream",
     "text": [
      "Validation Epoch #8: 100%|██████████| 8/8 [00:01<00:00,  4.60it/s, accuracy=25.8, loss=2.73] \n"
     ]
    },
    {
     "name": "stdout",
     "output_type": "stream",
     "text": [
      "Validation Set: Average Loss: 2.7264, Accuracy: 25.78%\n",
      "Best Accuracy: 25.78%\n"
     ]
    },
    {
     "name": "stderr",
     "output_type": "stream",
     "text": [
      "Training Epoch #9: 100%|██████████| 990/990 [08:10<00:00,  2.02it/s, accuracy=24.5, loss=2.92]\n"
     ]
    },
    {
     "name": "stdout",
     "output_type": "stream",
     "text": [
      "Train Epoch: 9, Loss: 2.780587, Accuracy: 24.51%\n"
     ]
    },
    {
     "name": "stderr",
     "output_type": "stream",
     "text": [
      "Validation Epoch #9: 100%|██████████| 8/8 [00:01<00:00,  4.60it/s, accuracy=29.3, loss=2.71] \n"
     ]
    },
    {
     "name": "stdout",
     "output_type": "stream",
     "text": [
      "Validation Set: Average Loss: 2.7069, Accuracy: 29.33%\n",
      "Best Accuracy: 29.33%\n"
     ]
    },
    {
     "name": "stderr",
     "output_type": "stream",
     "text": [
      "Training Epoch #10: 100%|██████████| 990/990 [08:10<00:00,  2.02it/s, accuracy=25.5, loss=2.51]\n"
     ]
    },
    {
     "name": "stdout",
     "output_type": "stream",
     "text": [
      "Train Epoch: 10, Loss: 2.742629, Accuracy: 25.49%\n"
     ]
    },
    {
     "name": "stderr",
     "output_type": "stream",
     "text": [
      "Validation Epoch #10: 100%|██████████| 8/8 [00:01<00:00,  4.64it/s, accuracy=26.4, loss=2.75] \n"
     ]
    },
    {
     "name": "stdout",
     "output_type": "stream",
     "text": [
      "Validation Set: Average Loss: 2.7497, Accuracy: 26.44%\n"
     ]
    },
    {
     "name": "stderr",
     "output_type": "stream",
     "text": [
      "Training Epoch #11: 100%|██████████| 990/990 [08:10<00:00,  2.02it/s, accuracy=26.2, loss=2.04]\n"
     ]
    },
    {
     "name": "stdout",
     "output_type": "stream",
     "text": [
      "Train Epoch: 11, Loss: 2.707594, Accuracy: 26.16%\n"
     ]
    },
    {
     "name": "stderr",
     "output_type": "stream",
     "text": [
      "Validation Epoch #11: 100%|██████████| 8/8 [00:01<00:00,  4.57it/s, accuracy=27.1, loss=2.65] \n"
     ]
    },
    {
     "name": "stdout",
     "output_type": "stream",
     "text": [
      "Validation Set: Average Loss: 2.6506, Accuracy: 27.11%\n"
     ]
    },
    {
     "name": "stderr",
     "output_type": "stream",
     "text": [
      "Training Epoch #12: 100%|██████████| 990/990 [08:11<00:00,  2.01it/s, accuracy=26.6, loss=2.65]\n"
     ]
    },
    {
     "name": "stdout",
     "output_type": "stream",
     "text": [
      "Train Epoch: 12, Loss: 2.685022, Accuracy: 26.57%\n"
     ]
    },
    {
     "name": "stderr",
     "output_type": "stream",
     "text": [
      "Validation Epoch #12: 100%|██████████| 8/8 [00:01<00:00,  4.56it/s, accuracy=25.1, loss=2.66] \n"
     ]
    },
    {
     "name": "stdout",
     "output_type": "stream",
     "text": [
      "Validation Set: Average Loss: 2.6602, Accuracy: 25.11%\n"
     ]
    },
    {
     "name": "stderr",
     "output_type": "stream",
     "text": [
      "Training Epoch #13: 100%|██████████| 990/990 [08:12<00:00,  2.01it/s, accuracy=26.9, loss=2.82]\n"
     ]
    },
    {
     "name": "stdout",
     "output_type": "stream",
     "text": [
      "Train Epoch: 13, Loss: 2.669089, Accuracy: 26.86%\n"
     ]
    },
    {
     "name": "stderr",
     "output_type": "stream",
     "text": [
      "Validation Epoch #13: 100%|██████████| 8/8 [00:01<00:00,  4.52it/s, accuracy=30.7, loss=2.63]\n"
     ]
    },
    {
     "name": "stdout",
     "output_type": "stream",
     "text": [
      "Validation Set: Average Loss: 2.6301, Accuracy: 30.67%\n",
      "Best Accuracy: 30.67%\n"
     ]
    },
    {
     "name": "stderr",
     "output_type": "stream",
     "text": [
      "Training Epoch #14: 100%|██████████| 990/990 [08:12<00:00,  2.01it/s, accuracy=28, loss=2.54]  \n"
     ]
    },
    {
     "name": "stdout",
     "output_type": "stream",
     "text": [
      "Train Epoch: 14, Loss: 2.627513, Accuracy: 27.98%\n"
     ]
    },
    {
     "name": "stderr",
     "output_type": "stream",
     "text": [
      "Validation Epoch #14: 100%|██████████| 8/8 [00:01<00:00,  4.55it/s, accuracy=27.3, loss=2.54] \n"
     ]
    },
    {
     "name": "stdout",
     "output_type": "stream",
     "text": [
      "Validation Set: Average Loss: 2.5445, Accuracy: 27.33%\n",
      "Adjusted lr:0.010000000000000002\n"
     ]
    },
    {
     "name": "stderr",
     "output_type": "stream",
     "text": [
      "Training Epoch #15: 100%|██████████| 990/990 [08:12<00:00,  2.01it/s, accuracy=36.4, loss=2.25]\n"
     ]
    },
    {
     "name": "stdout",
     "output_type": "stream",
     "text": [
      "Train Epoch: 15, Loss: 2.283561, Accuracy: 36.38%\n"
     ]
    },
    {
     "name": "stderr",
     "output_type": "stream",
     "text": [
      "Validation Epoch #15: 100%|██████████| 8/8 [00:01<00:00,  4.57it/s, accuracy=39.1, loss=2.2]  \n"
     ]
    },
    {
     "name": "stdout",
     "output_type": "stream",
     "text": [
      "Validation Set: Average Loss: 2.1961, Accuracy: 39.11%\n",
      "Best Accuracy: 39.11%\n"
     ]
    },
    {
     "name": "stderr",
     "output_type": "stream",
     "text": [
      "Training Epoch #16: 100%|██████████| 990/990 [08:11<00:00,  2.01it/s, accuracy=38.4, loss=2.39]\n"
     ]
    },
    {
     "name": "stdout",
     "output_type": "stream",
     "text": [
      "Train Epoch: 16, Loss: 2.198301, Accuracy: 38.40%\n"
     ]
    },
    {
     "name": "stderr",
     "output_type": "stream",
     "text": [
      "Validation Epoch #16: 100%|██████████| 8/8 [00:01<00:00,  4.52it/s, accuracy=40.4, loss=2.12] \n"
     ]
    },
    {
     "name": "stdout",
     "output_type": "stream",
     "text": [
      "Validation Set: Average Loss: 2.1244, Accuracy: 40.44%\n",
      "Best Accuracy: 40.44%\n"
     ]
    },
    {
     "name": "stderr",
     "output_type": "stream",
     "text": [
      "Training Epoch #17: 100%|██████████| 990/990 [08:12<00:00,  2.01it/s, accuracy=39.4, loss=1.84]\n"
     ]
    },
    {
     "name": "stdout",
     "output_type": "stream",
     "text": [
      "Train Epoch: 17, Loss: 2.159731, Accuracy: 39.38%\n"
     ]
    },
    {
     "name": "stderr",
     "output_type": "stream",
     "text": [
      "Validation Epoch #17: 100%|██████████| 8/8 [00:01<00:00,  4.58it/s, accuracy=40.4, loss=2.13] \n"
     ]
    },
    {
     "name": "stdout",
     "output_type": "stream",
     "text": [
      "Validation Set: Average Loss: 2.1333, Accuracy: 40.44%\n"
     ]
    },
    {
     "name": "stderr",
     "output_type": "stream",
     "text": [
      "Training Epoch #18: 100%|██████████| 990/990 [08:12<00:00,  2.01it/s, accuracy=40.1, loss=1.53]\n"
     ]
    },
    {
     "name": "stdout",
     "output_type": "stream",
     "text": [
      "Train Epoch: 18, Loss: 2.131136, Accuracy: 40.13%\n"
     ]
    },
    {
     "name": "stderr",
     "output_type": "stream",
     "text": [
      "Validation Epoch #18: 100%|██████████| 8/8 [00:01<00:00,  4.59it/s, accuracy=44.7, loss=2.08] \n"
     ]
    },
    {
     "name": "stdout",
     "output_type": "stream",
     "text": [
      "Validation Set: Average Loss: 2.0754, Accuracy: 44.67%\n",
      "Best Accuracy: 44.67%\n"
     ]
    },
    {
     "name": "stderr",
     "output_type": "stream",
     "text": [
      "Training Epoch #19: 100%|██████████| 990/990 [08:12<00:00,  2.01it/s, accuracy=40.5, loss=2.22]\n"
     ]
    },
    {
     "name": "stdout",
     "output_type": "stream",
     "text": [
      "Train Epoch: 19, Loss: 2.107889, Accuracy: 40.50%\n"
     ]
    },
    {
     "name": "stderr",
     "output_type": "stream",
     "text": [
      "Validation Epoch #19: 100%|██████████| 8/8 [00:01<00:00,  4.59it/s, accuracy=40.7, loss=2.12] \n"
     ]
    },
    {
     "name": "stdout",
     "output_type": "stream",
     "text": [
      "Validation Set: Average Loss: 2.1213, Accuracy: 40.67%\n"
     ]
    },
    {
     "name": "stderr",
     "output_type": "stream",
     "text": [
      "Training Epoch #20: 100%|██████████| 990/990 [08:12<00:00,  2.01it/s, accuracy=41.1, loss=2]   \n"
     ]
    },
    {
     "name": "stdout",
     "output_type": "stream",
     "text": [
      "Train Epoch: 20, Loss: 2.084085, Accuracy: 41.06%\n"
     ]
    },
    {
     "name": "stderr",
     "output_type": "stream",
     "text": [
      "Validation Epoch #20: 100%|██████████| 8/8 [00:01<00:00,  4.60it/s, accuracy=40.4, loss=2.12] \n"
     ]
    },
    {
     "name": "stdout",
     "output_type": "stream",
     "text": [
      "Validation Set: Average Loss: 2.1176, Accuracy: 40.44%\n"
     ]
    },
    {
     "name": "stderr",
     "output_type": "stream",
     "text": [
      "Training Epoch #21: 100%|██████████| 990/990 [08:12<00:00,  2.01it/s, accuracy=41.5, loss=2.82]\n"
     ]
    },
    {
     "name": "stdout",
     "output_type": "stream",
     "text": [
      "Train Epoch: 21, Loss: 2.067728, Accuracy: 41.47%\n"
     ]
    },
    {
     "name": "stderr",
     "output_type": "stream",
     "text": [
      "Validation Epoch #21: 100%|██████████| 8/8 [00:01<00:00,  4.53it/s, accuracy=43.6, loss=2.06] \n"
     ]
    },
    {
     "name": "stdout",
     "output_type": "stream",
     "text": [
      "Validation Set: Average Loss: 2.0617, Accuracy: 43.56%\n"
     ]
    },
    {
     "name": "stderr",
     "output_type": "stream",
     "text": [
      "Training Epoch #22: 100%|██████████| 990/990 [08:13<00:00,  2.01it/s, accuracy=41.9, loss=2.04]\n"
     ]
    },
    {
     "name": "stdout",
     "output_type": "stream",
     "text": [
      "Train Epoch: 22, Loss: 2.049597, Accuracy: 41.94%\n"
     ]
    },
    {
     "name": "stderr",
     "output_type": "stream",
     "text": [
      "Validation Epoch #22: 100%|██████████| 8/8 [00:01<00:00,  4.60it/s, accuracy=42.4, loss=2.06] \n"
     ]
    },
    {
     "name": "stdout",
     "output_type": "stream",
     "text": [
      "Validation Set: Average Loss: 2.0601, Accuracy: 42.44%\n"
     ]
    },
    {
     "name": "stderr",
     "output_type": "stream",
     "text": [
      "Training Epoch #23: 100%|██████████| 990/990 [08:12<00:00,  2.01it/s, accuracy=42.3, loss=2.05]\n"
     ]
    },
    {
     "name": "stdout",
     "output_type": "stream",
     "text": [
      "Train Epoch: 23, Loss: 2.033004, Accuracy: 42.31%\n"
     ]
    },
    {
     "name": "stderr",
     "output_type": "stream",
     "text": [
      "Validation Epoch #23: 100%|██████████| 8/8 [00:01<00:00,  4.54it/s, accuracy=44.9, loss=2.05] \n"
     ]
    },
    {
     "name": "stdout",
     "output_type": "stream",
     "text": [
      "Validation Set: Average Loss: 2.0482, Accuracy: 44.89%\n",
      "Best Accuracy: 44.89%\n"
     ]
    },
    {
     "name": "stderr",
     "output_type": "stream",
     "text": [
      "Training Epoch #24: 100%|██████████| 990/990 [08:12<00:00,  2.01it/s, accuracy=42.7, loss=1.74]\n"
     ]
    },
    {
     "name": "stdout",
     "output_type": "stream",
     "text": [
      "Train Epoch: 24, Loss: 2.019466, Accuracy: 42.69%\n"
     ]
    },
    {
     "name": "stderr",
     "output_type": "stream",
     "text": [
      "Validation Epoch #24: 100%|██████████| 8/8 [00:01<00:00,  4.56it/s, accuracy=43.6, loss=1.97] \n"
     ]
    },
    {
     "name": "stdout",
     "output_type": "stream",
     "text": [
      "Validation Set: Average Loss: 1.9681, Accuracy: 43.56%\n"
     ]
    },
    {
     "name": "stderr",
     "output_type": "stream",
     "text": [
      "Training Epoch #25: 100%|██████████| 990/990 [08:12<00:00,  2.01it/s, accuracy=43.2, loss=1.92]\n"
     ]
    },
    {
     "name": "stdout",
     "output_type": "stream",
     "text": [
      "Train Epoch: 25, Loss: 1.997854, Accuracy: 43.24%\n"
     ]
    },
    {
     "name": "stderr",
     "output_type": "stream",
     "text": [
      "Validation Epoch #25: 100%|██████████| 8/8 [00:01<00:00,  4.61it/s, accuracy=45.6, loss=1.96] \n"
     ]
    },
    {
     "name": "stdout",
     "output_type": "stream",
     "text": [
      "Validation Set: Average Loss: 1.9609, Accuracy: 45.56%\n",
      "Best Accuracy: 45.56%\n"
     ]
    },
    {
     "name": "stderr",
     "output_type": "stream",
     "text": [
      "Training Epoch #26: 100%|██████████| 990/990 [08:12<00:00,  2.01it/s, accuracy=43.5, loss=1.65]\n"
     ]
    },
    {
     "name": "stdout",
     "output_type": "stream",
     "text": [
      "Train Epoch: 26, Loss: 1.987262, Accuracy: 43.50%\n"
     ]
    },
    {
     "name": "stderr",
     "output_type": "stream",
     "text": [
      "Validation Epoch #26: 100%|██████████| 8/8 [00:01<00:00,  4.57it/s, accuracy=44.9, loss=1.97] \n"
     ]
    },
    {
     "name": "stdout",
     "output_type": "stream",
     "text": [
      "Validation Set: Average Loss: 1.9651, Accuracy: 44.89%\n"
     ]
    },
    {
     "name": "stderr",
     "output_type": "stream",
     "text": [
      "Training Epoch #27: 100%|██████████| 990/990 [08:12<00:00,  2.01it/s, accuracy=43.8, loss=1.97]\n"
     ]
    },
    {
     "name": "stdout",
     "output_type": "stream",
     "text": [
      "Train Epoch: 27, Loss: 1.972862, Accuracy: 43.79%\n"
     ]
    },
    {
     "name": "stderr",
     "output_type": "stream",
     "text": [
      "Validation Epoch #27: 100%|██████████| 8/8 [00:01<00:00,  4.59it/s, accuracy=44.2, loss=2.01] \n"
     ]
    },
    {
     "name": "stdout",
     "output_type": "stream",
     "text": [
      "Validation Set: Average Loss: 2.0085, Accuracy: 44.22%\n"
     ]
    },
    {
     "name": "stderr",
     "output_type": "stream",
     "text": [
      "Training Epoch #28: 100%|██████████| 990/990 [08:12<00:00,  2.01it/s, accuracy=43.9, loss=1.68]\n"
     ]
    },
    {
     "name": "stdout",
     "output_type": "stream",
     "text": [
      "Train Epoch: 28, Loss: 1.965350, Accuracy: 43.92%\n"
     ]
    },
    {
     "name": "stderr",
     "output_type": "stream",
     "text": [
      "Validation Epoch #28: 100%|██████████| 8/8 [00:01<00:00,  4.58it/s, accuracy=45.6, loss=1.96] \n"
     ]
    },
    {
     "name": "stdout",
     "output_type": "stream",
     "text": [
      "Validation Set: Average Loss: 1.9551, Accuracy: 45.56%\n"
     ]
    },
    {
     "name": "stderr",
     "output_type": "stream",
     "text": [
      "Training Epoch #29: 100%|██████████| 990/990 [08:12<00:00,  2.01it/s, accuracy=44.4, loss=2.23]\n"
     ]
    },
    {
     "name": "stdout",
     "output_type": "stream",
     "text": [
      "Train Epoch: 29, Loss: 1.950256, Accuracy: 44.41%\n"
     ]
    },
    {
     "name": "stderr",
     "output_type": "stream",
     "text": [
      "Validation Epoch #29: 100%|██████████| 8/8 [00:01<00:00,  4.56it/s, accuracy=44.2, loss=2]    \n"
     ]
    },
    {
     "name": "stdout",
     "output_type": "stream",
     "text": [
      "Validation Set: Average Loss: 1.9983, Accuracy: 44.22%\n"
     ]
    },
    {
     "name": "stderr",
     "output_type": "stream",
     "text": [
      "Training Epoch #30: 100%|██████████| 990/990 [08:11<00:00,  2.01it/s, accuracy=44.9, loss=1.72]\n"
     ]
    },
    {
     "name": "stdout",
     "output_type": "stream",
     "text": [
      "Train Epoch: 30, Loss: 1.938726, Accuracy: 44.88%\n"
     ]
    },
    {
     "name": "stderr",
     "output_type": "stream",
     "text": [
      "Validation Epoch #30: 100%|██████████| 8/8 [00:01<00:00,  4.60it/s, accuracy=45.8, loss=1.93] "
     ]
    },
    {
     "name": "stdout",
     "output_type": "stream",
     "text": [
      "Validation Set: Average Loss: 1.9273, Accuracy: 45.78%\n",
      "Best Accuracy: 45.78%\n",
      "Final Best Accuracy: 45.78%\n"
     ]
    },
    {
     "name": "stderr",
     "output_type": "stream",
     "text": [
      "\n"
     ]
    }
   ],
   "source": [
    "epochs = 30\n",
    "lr = 0.1\n",
    "momentum = 0.9\n",
    "weight_decay = 1e-4\n",
    "optimizer = optim.SGD(model.parameters(), lr = lr, momentum = momentum, weight_decay = weight_decay)\n",
    "\n",
    "def adjust_lr(optimizer, epoch):\n",
    "    if epoch in [epochs * 0.5, epochs * 0.75, epochs * 0.85]:\n",
    "        for p in optimizer.param_groups:\n",
    "            p['lr'] *= 0.1\n",
    "            lr = p['lr']\n",
    "        print('Adjusted lr:' + str(lr))\n",
    "\n",
    "def train(epoch):\n",
    "    model.train()\n",
    "    avg_loss = 0.\n",
    "    train_acc = 0.\n",
    "    adjust_lr(optimizer, epoch)\n",
    "    train_loader_len = len(train_loader.dataset)\n",
    "    train_loader_iter = tqdm(enumerate(train_loader), total = len(train_loader), desc = \"Training Epoch #{}\".format(epoch))\n",
    "    \n",
    "    for batch_idx, (data, label) in train_loader_iter:\n",
    "        data, label = data.to(device), label.to(device)\n",
    "        optimizer.zero_grad()\n",
    "        output = model(data)\n",
    "        loss = F.cross_entropy(output, label)\n",
    "        avg_loss += loss.item()\n",
    "        pred = output.data.max(1, keepdim = True)[1]\n",
    "        train_acc += pred.eq(label.data.view_as(pred)).cpu().sum()\n",
    "        loss.backward()\n",
    "        \n",
    "        optimizer.step()\n",
    "        train_loader_iter.set_postfix(loss = loss.item(), accuracy = 100. * train_acc.item() / train_loader_len)    \n",
    "    print('Train Epoch: {}, Loss: {:.6f}, Accuracy: {:.2f}%'.format(epoch, avg_loss / len(train_loader), 100. * train_acc / train_loader_len))\n",
    "\n",
    "def val(epoch):\n",
    "    model.eval()\n",
    "    test_loss = 0.\n",
    "    correct = 0\n",
    "    val_loader_iter = tqdm(val_loader, total = len(val_loader), desc = \"Validation Epoch #{}\".format(epoch))\n",
    "    \n",
    "    with torch.no_grad():\n",
    "        for data, label in val_loader_iter:\n",
    "            data, label = data.to(device), label.to(device)\n",
    "            output = model(data)\n",
    "            test_loss += F.cross_entropy(output, label, reduction = 'sum').item()\n",
    "            pred = output.data.max(1, keepdim = True)[1]\n",
    "            correct += pred.eq(label.data.view_as(pred)).cpu().sum()\n",
    "            val_loader_iter.set_postfix(loss = test_loss / len(val_loader.dataset), accuracy = 100. * correct.item() / len(val_loader.dataset))\n",
    "    \n",
    "    test_loss /= len(val_loader.dataset)\n",
    "    accuracy = 100. * correct / len(val_loader.dataset)\n",
    "    print('Validation Set: Average Loss: {:.4f}, Accuracy: {:.2f}%'.format(test_loss, accuracy))\n",
    "    return accuracy\n",
    "\n",
    "best_val_acc = 0.\n",
    "for i in range(epochs):\n",
    "    train(i + 1)\n",
    "    temp_acc = val(i + 1)\n",
    "    if temp_acc > best_val_acc:\n",
    "        best_val_acc = temp_acc\n",
    "        torch.save(model.state_dict(), 'mycnn_best.pt')\n",
    "        print('Best Accuracy: {:.2f}%'.format(best_val_acc))\n",
    "print('Final Best Accuracy: {:.2f}%'.format(best_val_acc))"
   ]
  },
  {
   "cell_type": "markdown",
   "id": "35b30b86-64b6-4a9c-864a-94ee9a84fcd9",
   "metadata": {},
   "source": [
    "## Train ResNet34"
   ]
  },
  {
   "cell_type": "code",
   "execution_count": 5,
   "id": "9019b0c5-eb85-4b26-9640-e5633b51b282",
   "metadata": {},
   "outputs": [
    {
     "name": "stderr",
     "output_type": "stream",
     "text": [
      "/home/re6121029/.local/lib/python3.11/site-packages/torchvision/models/_utils.py:208: UserWarning: The parameter 'pretrained' is deprecated since 0.13 and may be removed in the future, please use 'weights' instead.\n",
      "  warnings.warn(\n",
      "/home/re6121029/.local/lib/python3.11/site-packages/torchvision/models/_utils.py:223: UserWarning: Arguments other than a weight enum or `None` for 'weights' are deprecated since 0.13 and may be removed in the future. The current behavior is equivalent to passing `weights=None`.\n",
      "  warnings.warn(msg)\n"
     ]
    },
    {
     "data": {
      "text/plain": [
       "ResNet(\n",
       "  (conv1): Conv2d(3, 64, kernel_size=(7, 7), stride=(2, 2), padding=(3, 3), bias=False)\n",
       "  (bn1): BatchNorm2d(64, eps=1e-05, momentum=0.1, affine=True, track_running_stats=True)\n",
       "  (relu): ReLU(inplace=True)\n",
       "  (maxpool): MaxPool2d(kernel_size=3, stride=2, padding=1, dilation=1, ceil_mode=False)\n",
       "  (layer1): Sequential(\n",
       "    (0): BasicBlock(\n",
       "      (conv1): Conv2d(64, 64, kernel_size=(3, 3), stride=(1, 1), padding=(1, 1), bias=False)\n",
       "      (bn1): BatchNorm2d(64, eps=1e-05, momentum=0.1, affine=True, track_running_stats=True)\n",
       "      (relu): ReLU(inplace=True)\n",
       "      (conv2): Conv2d(64, 64, kernel_size=(3, 3), stride=(1, 1), padding=(1, 1), bias=False)\n",
       "      (bn2): BatchNorm2d(64, eps=1e-05, momentum=0.1, affine=True, track_running_stats=True)\n",
       "    )\n",
       "    (1): BasicBlock(\n",
       "      (conv1): Conv2d(64, 64, kernel_size=(3, 3), stride=(1, 1), padding=(1, 1), bias=False)\n",
       "      (bn1): BatchNorm2d(64, eps=1e-05, momentum=0.1, affine=True, track_running_stats=True)\n",
       "      (relu): ReLU(inplace=True)\n",
       "      (conv2): Conv2d(64, 64, kernel_size=(3, 3), stride=(1, 1), padding=(1, 1), bias=False)\n",
       "      (bn2): BatchNorm2d(64, eps=1e-05, momentum=0.1, affine=True, track_running_stats=True)\n",
       "    )\n",
       "    (2): BasicBlock(\n",
       "      (conv1): Conv2d(64, 64, kernel_size=(3, 3), stride=(1, 1), padding=(1, 1), bias=False)\n",
       "      (bn1): BatchNorm2d(64, eps=1e-05, momentum=0.1, affine=True, track_running_stats=True)\n",
       "      (relu): ReLU(inplace=True)\n",
       "      (conv2): Conv2d(64, 64, kernel_size=(3, 3), stride=(1, 1), padding=(1, 1), bias=False)\n",
       "      (bn2): BatchNorm2d(64, eps=1e-05, momentum=0.1, affine=True, track_running_stats=True)\n",
       "    )\n",
       "  )\n",
       "  (layer2): Sequential(\n",
       "    (0): BasicBlock(\n",
       "      (conv1): Conv2d(64, 128, kernel_size=(3, 3), stride=(2, 2), padding=(1, 1), bias=False)\n",
       "      (bn1): BatchNorm2d(128, eps=1e-05, momentum=0.1, affine=True, track_running_stats=True)\n",
       "      (relu): ReLU(inplace=True)\n",
       "      (conv2): Conv2d(128, 128, kernel_size=(3, 3), stride=(1, 1), padding=(1, 1), bias=False)\n",
       "      (bn2): BatchNorm2d(128, eps=1e-05, momentum=0.1, affine=True, track_running_stats=True)\n",
       "      (downsample): Sequential(\n",
       "        (0): Conv2d(64, 128, kernel_size=(1, 1), stride=(2, 2), bias=False)\n",
       "        (1): BatchNorm2d(128, eps=1e-05, momentum=0.1, affine=True, track_running_stats=True)\n",
       "      )\n",
       "    )\n",
       "    (1): BasicBlock(\n",
       "      (conv1): Conv2d(128, 128, kernel_size=(3, 3), stride=(1, 1), padding=(1, 1), bias=False)\n",
       "      (bn1): BatchNorm2d(128, eps=1e-05, momentum=0.1, affine=True, track_running_stats=True)\n",
       "      (relu): ReLU(inplace=True)\n",
       "      (conv2): Conv2d(128, 128, kernel_size=(3, 3), stride=(1, 1), padding=(1, 1), bias=False)\n",
       "      (bn2): BatchNorm2d(128, eps=1e-05, momentum=0.1, affine=True, track_running_stats=True)\n",
       "    )\n",
       "    (2): BasicBlock(\n",
       "      (conv1): Conv2d(128, 128, kernel_size=(3, 3), stride=(1, 1), padding=(1, 1), bias=False)\n",
       "      (bn1): BatchNorm2d(128, eps=1e-05, momentum=0.1, affine=True, track_running_stats=True)\n",
       "      (relu): ReLU(inplace=True)\n",
       "      (conv2): Conv2d(128, 128, kernel_size=(3, 3), stride=(1, 1), padding=(1, 1), bias=False)\n",
       "      (bn2): BatchNorm2d(128, eps=1e-05, momentum=0.1, affine=True, track_running_stats=True)\n",
       "    )\n",
       "    (3): BasicBlock(\n",
       "      (conv1): Conv2d(128, 128, kernel_size=(3, 3), stride=(1, 1), padding=(1, 1), bias=False)\n",
       "      (bn1): BatchNorm2d(128, eps=1e-05, momentum=0.1, affine=True, track_running_stats=True)\n",
       "      (relu): ReLU(inplace=True)\n",
       "      (conv2): Conv2d(128, 128, kernel_size=(3, 3), stride=(1, 1), padding=(1, 1), bias=False)\n",
       "      (bn2): BatchNorm2d(128, eps=1e-05, momentum=0.1, affine=True, track_running_stats=True)\n",
       "    )\n",
       "  )\n",
       "  (layer3): Sequential(\n",
       "    (0): BasicBlock(\n",
       "      (conv1): Conv2d(128, 256, kernel_size=(3, 3), stride=(2, 2), padding=(1, 1), bias=False)\n",
       "      (bn1): BatchNorm2d(256, eps=1e-05, momentum=0.1, affine=True, track_running_stats=True)\n",
       "      (relu): ReLU(inplace=True)\n",
       "      (conv2): Conv2d(256, 256, kernel_size=(3, 3), stride=(1, 1), padding=(1, 1), bias=False)\n",
       "      (bn2): BatchNorm2d(256, eps=1e-05, momentum=0.1, affine=True, track_running_stats=True)\n",
       "      (downsample): Sequential(\n",
       "        (0): Conv2d(128, 256, kernel_size=(1, 1), stride=(2, 2), bias=False)\n",
       "        (1): BatchNorm2d(256, eps=1e-05, momentum=0.1, affine=True, track_running_stats=True)\n",
       "      )\n",
       "    )\n",
       "    (1): BasicBlock(\n",
       "      (conv1): Conv2d(256, 256, kernel_size=(3, 3), stride=(1, 1), padding=(1, 1), bias=False)\n",
       "      (bn1): BatchNorm2d(256, eps=1e-05, momentum=0.1, affine=True, track_running_stats=True)\n",
       "      (relu): ReLU(inplace=True)\n",
       "      (conv2): Conv2d(256, 256, kernel_size=(3, 3), stride=(1, 1), padding=(1, 1), bias=False)\n",
       "      (bn2): BatchNorm2d(256, eps=1e-05, momentum=0.1, affine=True, track_running_stats=True)\n",
       "    )\n",
       "    (2): BasicBlock(\n",
       "      (conv1): Conv2d(256, 256, kernel_size=(3, 3), stride=(1, 1), padding=(1, 1), bias=False)\n",
       "      (bn1): BatchNorm2d(256, eps=1e-05, momentum=0.1, affine=True, track_running_stats=True)\n",
       "      (relu): ReLU(inplace=True)\n",
       "      (conv2): Conv2d(256, 256, kernel_size=(3, 3), stride=(1, 1), padding=(1, 1), bias=False)\n",
       "      (bn2): BatchNorm2d(256, eps=1e-05, momentum=0.1, affine=True, track_running_stats=True)\n",
       "    )\n",
       "    (3): BasicBlock(\n",
       "      (conv1): Conv2d(256, 256, kernel_size=(3, 3), stride=(1, 1), padding=(1, 1), bias=False)\n",
       "      (bn1): BatchNorm2d(256, eps=1e-05, momentum=0.1, affine=True, track_running_stats=True)\n",
       "      (relu): ReLU(inplace=True)\n",
       "      (conv2): Conv2d(256, 256, kernel_size=(3, 3), stride=(1, 1), padding=(1, 1), bias=False)\n",
       "      (bn2): BatchNorm2d(256, eps=1e-05, momentum=0.1, affine=True, track_running_stats=True)\n",
       "    )\n",
       "    (4): BasicBlock(\n",
       "      (conv1): Conv2d(256, 256, kernel_size=(3, 3), stride=(1, 1), padding=(1, 1), bias=False)\n",
       "      (bn1): BatchNorm2d(256, eps=1e-05, momentum=0.1, affine=True, track_running_stats=True)\n",
       "      (relu): ReLU(inplace=True)\n",
       "      (conv2): Conv2d(256, 256, kernel_size=(3, 3), stride=(1, 1), padding=(1, 1), bias=False)\n",
       "      (bn2): BatchNorm2d(256, eps=1e-05, momentum=0.1, affine=True, track_running_stats=True)\n",
       "    )\n",
       "    (5): BasicBlock(\n",
       "      (conv1): Conv2d(256, 256, kernel_size=(3, 3), stride=(1, 1), padding=(1, 1), bias=False)\n",
       "      (bn1): BatchNorm2d(256, eps=1e-05, momentum=0.1, affine=True, track_running_stats=True)\n",
       "      (relu): ReLU(inplace=True)\n",
       "      (conv2): Conv2d(256, 256, kernel_size=(3, 3), stride=(1, 1), padding=(1, 1), bias=False)\n",
       "      (bn2): BatchNorm2d(256, eps=1e-05, momentum=0.1, affine=True, track_running_stats=True)\n",
       "    )\n",
       "  )\n",
       "  (layer4): Sequential(\n",
       "    (0): BasicBlock(\n",
       "      (conv1): Conv2d(256, 512, kernel_size=(3, 3), stride=(2, 2), padding=(1, 1), bias=False)\n",
       "      (bn1): BatchNorm2d(512, eps=1e-05, momentum=0.1, affine=True, track_running_stats=True)\n",
       "      (relu): ReLU(inplace=True)\n",
       "      (conv2): Conv2d(512, 512, kernel_size=(3, 3), stride=(1, 1), padding=(1, 1), bias=False)\n",
       "      (bn2): BatchNorm2d(512, eps=1e-05, momentum=0.1, affine=True, track_running_stats=True)\n",
       "      (downsample): Sequential(\n",
       "        (0): Conv2d(256, 512, kernel_size=(1, 1), stride=(2, 2), bias=False)\n",
       "        (1): BatchNorm2d(512, eps=1e-05, momentum=0.1, affine=True, track_running_stats=True)\n",
       "      )\n",
       "    )\n",
       "    (1): BasicBlock(\n",
       "      (conv1): Conv2d(512, 512, kernel_size=(3, 3), stride=(1, 1), padding=(1, 1), bias=False)\n",
       "      (bn1): BatchNorm2d(512, eps=1e-05, momentum=0.1, affine=True, track_running_stats=True)\n",
       "      (relu): ReLU(inplace=True)\n",
       "      (conv2): Conv2d(512, 512, kernel_size=(3, 3), stride=(1, 1), padding=(1, 1), bias=False)\n",
       "      (bn2): BatchNorm2d(512, eps=1e-05, momentum=0.1, affine=True, track_running_stats=True)\n",
       "    )\n",
       "    (2): BasicBlock(\n",
       "      (conv1): Conv2d(512, 512, kernel_size=(3, 3), stride=(1, 1), padding=(1, 1), bias=False)\n",
       "      (bn1): BatchNorm2d(512, eps=1e-05, momentum=0.1, affine=True, track_running_stats=True)\n",
       "      (relu): ReLU(inplace=True)\n",
       "      (conv2): Conv2d(512, 512, kernel_size=(3, 3), stride=(1, 1), padding=(1, 1), bias=False)\n",
       "      (bn2): BatchNorm2d(512, eps=1e-05, momentum=0.1, affine=True, track_running_stats=True)\n",
       "    )\n",
       "  )\n",
       "  (avgpool): AdaptiveAvgPool2d(output_size=(1, 1))\n",
       "  (fc): Linear(in_features=512, out_features=50, bias=True)\n",
       ")"
      ]
     },
     "execution_count": 5,
     "metadata": {},
     "output_type": "execute_result"
    }
   ],
   "source": [
    "model = models.resnet34(pretrained = False)\n",
    "model.fc = torch.nn.Linear(model.fc.in_features, 50)\n",
    "model.to(device)"
   ]
  },
  {
   "cell_type": "code",
   "execution_count": 6,
   "id": "8f06b19f-42fc-4ddd-a460-75552dff898a",
   "metadata": {},
   "outputs": [
    {
     "name": "stderr",
     "output_type": "stream",
     "text": [
      "Training Epoch #1: 100%|██████████| 990/990 [02:53<00:00,  5.72it/s, accuracy=10.4, loss=3.15] \n"
     ]
    },
    {
     "name": "stdout",
     "output_type": "stream",
     "text": [
      "Train Epoch: 1, Loss: 3.456496, Accuracy: 10.40%\n"
     ]
    },
    {
     "name": "stderr",
     "output_type": "stream",
     "text": [
      "Validation Epoch #1: 100%|██████████| 8/8 [00:01<00:00,  6.97it/s, accuracy=14.4, loss=3.15] \n"
     ]
    },
    {
     "name": "stdout",
     "output_type": "stream",
     "text": [
      "Validation Set: Average Loss: 3.1548, Accuracy: 14.44%\n",
      "Best Accuracy: 14.44%\n"
     ]
    },
    {
     "name": "stderr",
     "output_type": "stream",
     "text": [
      "Training Epoch #2: 100%|██████████| 990/990 [02:54<00:00,  5.69it/s, accuracy=19.5, loss=2.97]\n"
     ]
    },
    {
     "name": "stdout",
     "output_type": "stream",
     "text": [
      "Train Epoch: 2, Loss: 2.956795, Accuracy: 19.55%\n"
     ]
    },
    {
     "name": "stderr",
     "output_type": "stream",
     "text": [
      "Validation Epoch #2: 100%|██████████| 8/8 [00:01<00:00,  7.34it/s, accuracy=22.9, loss=3.02] \n"
     ]
    },
    {
     "name": "stdout",
     "output_type": "stream",
     "text": [
      "Validation Set: Average Loss: 3.0184, Accuracy: 22.89%\n",
      "Best Accuracy: 22.89%\n"
     ]
    },
    {
     "name": "stderr",
     "output_type": "stream",
     "text": [
      "Training Epoch #3: 100%|██████████| 990/990 [02:53<00:00,  5.70it/s, accuracy=25.3, loss=2.45]\n"
     ]
    },
    {
     "name": "stdout",
     "output_type": "stream",
     "text": [
      "Train Epoch: 3, Loss: 2.702284, Accuracy: 25.32%\n"
     ]
    },
    {
     "name": "stderr",
     "output_type": "stream",
     "text": [
      "Validation Epoch #3: 100%|██████████| 8/8 [00:01<00:00,  7.25it/s, accuracy=24.2, loss=2.74] \n"
     ]
    },
    {
     "name": "stdout",
     "output_type": "stream",
     "text": [
      "Validation Set: Average Loss: 2.7446, Accuracy: 24.22%\n",
      "Best Accuracy: 24.22%\n"
     ]
    },
    {
     "name": "stderr",
     "output_type": "stream",
     "text": [
      "Training Epoch #4: 100%|██████████| 990/990 [02:53<00:00,  5.70it/s, accuracy=29.8, loss=2.75]\n"
     ]
    },
    {
     "name": "stdout",
     "output_type": "stream",
     "text": [
      "Train Epoch: 4, Loss: 2.501828, Accuracy: 29.77%\n"
     ]
    },
    {
     "name": "stderr",
     "output_type": "stream",
     "text": [
      "Validation Epoch #4: 100%|██████████| 8/8 [00:01<00:00,  7.28it/s, accuracy=31.1, loss=2.42] \n"
     ]
    },
    {
     "name": "stdout",
     "output_type": "stream",
     "text": [
      "Validation Set: Average Loss: 2.4234, Accuracy: 31.11%\n",
      "Best Accuracy: 31.11%\n"
     ]
    },
    {
     "name": "stderr",
     "output_type": "stream",
     "text": [
      "Training Epoch #5: 100%|██████████| 990/990 [02:54<00:00,  5.68it/s, accuracy=33.6, loss=2.68]\n"
     ]
    },
    {
     "name": "stdout",
     "output_type": "stream",
     "text": [
      "Train Epoch: 5, Loss: 2.344059, Accuracy: 33.56%\n"
     ]
    },
    {
     "name": "stderr",
     "output_type": "stream",
     "text": [
      "Validation Epoch #5: 100%|██████████| 8/8 [00:01<00:00,  7.26it/s, accuracy=31.3, loss=2.41]\n"
     ]
    },
    {
     "name": "stdout",
     "output_type": "stream",
     "text": [
      "Validation Set: Average Loss: 2.4104, Accuracy: 31.33%\n",
      "Best Accuracy: 31.33%\n"
     ]
    },
    {
     "name": "stderr",
     "output_type": "stream",
     "text": [
      "Training Epoch #6: 100%|██████████| 990/990 [02:53<00:00,  5.70it/s, accuracy=37, loss=2.71]  \n"
     ]
    },
    {
     "name": "stdout",
     "output_type": "stream",
     "text": [
      "Train Epoch: 6, Loss: 2.214546, Accuracy: 37.03%\n"
     ]
    },
    {
     "name": "stderr",
     "output_type": "stream",
     "text": [
      "Validation Epoch #6: 100%|██████████| 8/8 [00:01<00:00,  7.13it/s, accuracy=34, loss=2.38]   \n"
     ]
    },
    {
     "name": "stdout",
     "output_type": "stream",
     "text": [
      "Validation Set: Average Loss: 2.3798, Accuracy: 34.00%\n",
      "Best Accuracy: 34.00%\n"
     ]
    },
    {
     "name": "stderr",
     "output_type": "stream",
     "text": [
      "Training Epoch #7: 100%|██████████| 990/990 [02:53<00:00,  5.69it/s, accuracy=39.6, loss=2.19]\n"
     ]
    },
    {
     "name": "stdout",
     "output_type": "stream",
     "text": [
      "Train Epoch: 7, Loss: 2.100825, Accuracy: 39.56%\n"
     ]
    },
    {
     "name": "stderr",
     "output_type": "stream",
     "text": [
      "Validation Epoch #7: 100%|██████████| 8/8 [00:01<00:00,  7.20it/s, accuracy=33.3, loss=2.42] \n"
     ]
    },
    {
     "name": "stdout",
     "output_type": "stream",
     "text": [
      "Validation Set: Average Loss: 2.4231, Accuracy: 33.33%\n"
     ]
    },
    {
     "name": "stderr",
     "output_type": "stream",
     "text": [
      "Training Epoch #8: 100%|██████████| 990/990 [02:53<00:00,  5.71it/s, accuracy=42.3, loss=1.94]\n"
     ]
    },
    {
     "name": "stdout",
     "output_type": "stream",
     "text": [
      "Train Epoch: 8, Loss: 1.989098, Accuracy: 42.30%\n"
     ]
    },
    {
     "name": "stderr",
     "output_type": "stream",
     "text": [
      "Validation Epoch #8: 100%|██████████| 8/8 [00:01<00:00,  7.25it/s, accuracy=39.1, loss=2.18] \n"
     ]
    },
    {
     "name": "stdout",
     "output_type": "stream",
     "text": [
      "Validation Set: Average Loss: 2.1795, Accuracy: 39.11%\n",
      "Best Accuracy: 39.11%\n"
     ]
    },
    {
     "name": "stderr",
     "output_type": "stream",
     "text": [
      "Training Epoch #9: 100%|██████████| 990/990 [02:53<00:00,  5.71it/s, accuracy=44.7, loss=1.89]\n"
     ]
    },
    {
     "name": "stdout",
     "output_type": "stream",
     "text": [
      "Train Epoch: 9, Loss: 1.902764, Accuracy: 44.69%\n"
     ]
    },
    {
     "name": "stderr",
     "output_type": "stream",
     "text": [
      "Validation Epoch #9: 100%|██████████| 8/8 [00:01<00:00,  7.23it/s, accuracy=41.3, loss=2.29] \n"
     ]
    },
    {
     "name": "stdout",
     "output_type": "stream",
     "text": [
      "Validation Set: Average Loss: 2.2886, Accuracy: 41.33%\n",
      "Best Accuracy: 41.33%\n"
     ]
    },
    {
     "name": "stderr",
     "output_type": "stream",
     "text": [
      "Training Epoch #10: 100%|██████████| 990/990 [02:53<00:00,  5.70it/s, accuracy=46.7, loss=1.35]\n"
     ]
    },
    {
     "name": "stdout",
     "output_type": "stream",
     "text": [
      "Train Epoch: 10, Loss: 1.819228, Accuracy: 46.70%\n"
     ]
    },
    {
     "name": "stderr",
     "output_type": "stream",
     "text": [
      "Validation Epoch #10: 100%|██████████| 8/8 [00:01<00:00,  7.12it/s, accuracy=34.9, loss=2.37] \n"
     ]
    },
    {
     "name": "stdout",
     "output_type": "stream",
     "text": [
      "Validation Set: Average Loss: 2.3722, Accuracy: 34.89%\n"
     ]
    },
    {
     "name": "stderr",
     "output_type": "stream",
     "text": [
      "Training Epoch #11: 100%|██████████| 990/990 [02:53<00:00,  5.70it/s, accuracy=48.5, loss=1.4] \n"
     ]
    },
    {
     "name": "stdout",
     "output_type": "stream",
     "text": [
      "Train Epoch: 11, Loss: 1.742086, Accuracy: 48.54%\n"
     ]
    },
    {
     "name": "stderr",
     "output_type": "stream",
     "text": [
      "Validation Epoch #11: 100%|██████████| 8/8 [00:01<00:00,  7.36it/s, accuracy=41.3, loss=2.14] \n"
     ]
    },
    {
     "name": "stdout",
     "output_type": "stream",
     "text": [
      "Validation Set: Average Loss: 2.1410, Accuracy: 41.33%\n"
     ]
    },
    {
     "name": "stderr",
     "output_type": "stream",
     "text": [
      "Training Epoch #12: 100%|██████████| 990/990 [02:53<00:00,  5.71it/s, accuracy=50.3, loss=1.63]\n"
     ]
    },
    {
     "name": "stdout",
     "output_type": "stream",
     "text": [
      "Train Epoch: 12, Loss: 1.680006, Accuracy: 50.26%\n"
     ]
    },
    {
     "name": "stderr",
     "output_type": "stream",
     "text": [
      "Validation Epoch #12: 100%|██████████| 8/8 [00:01<00:00,  7.23it/s, accuracy=44.7, loss=2.02] \n"
     ]
    },
    {
     "name": "stdout",
     "output_type": "stream",
     "text": [
      "Validation Set: Average Loss: 2.0233, Accuracy: 44.67%\n",
      "Best Accuracy: 44.67%\n"
     ]
    },
    {
     "name": "stderr",
     "output_type": "stream",
     "text": [
      "Training Epoch #13: 100%|██████████| 990/990 [02:53<00:00,  5.71it/s, accuracy=51.7, loss=1.89]\n"
     ]
    },
    {
     "name": "stdout",
     "output_type": "stream",
     "text": [
      "Train Epoch: 13, Loss: 1.619070, Accuracy: 51.75%\n"
     ]
    },
    {
     "name": "stderr",
     "output_type": "stream",
     "text": [
      "Validation Epoch #13: 100%|██████████| 8/8 [00:01<00:00,  7.21it/s, accuracy=43.6, loss=2.02] \n"
     ]
    },
    {
     "name": "stdout",
     "output_type": "stream",
     "text": [
      "Validation Set: Average Loss: 2.0156, Accuracy: 43.56%\n"
     ]
    },
    {
     "name": "stderr",
     "output_type": "stream",
     "text": [
      "Training Epoch #14: 100%|██████████| 990/990 [02:53<00:00,  5.71it/s, accuracy=53.5, loss=1.46]\n"
     ]
    },
    {
     "name": "stdout",
     "output_type": "stream",
     "text": [
      "Train Epoch: 14, Loss: 1.548111, Accuracy: 53.48%\n"
     ]
    },
    {
     "name": "stderr",
     "output_type": "stream",
     "text": [
      "Validation Epoch #14: 100%|██████████| 8/8 [00:01<00:00,  7.14it/s, accuracy=46, loss=1.94]   \n"
     ]
    },
    {
     "name": "stdout",
     "output_type": "stream",
     "text": [
      "Validation Set: Average Loss: 1.9430, Accuracy: 46.00%\n",
      "Best Accuracy: 46.00%\n",
      "Adjusted lr:0.001\n"
     ]
    },
    {
     "name": "stderr",
     "output_type": "stream",
     "text": [
      "Training Epoch #15: 100%|██████████| 990/990 [02:53<00:00,  5.70it/s, accuracy=62.1, loss=1.62] \n"
     ]
    },
    {
     "name": "stdout",
     "output_type": "stream",
     "text": [
      "Train Epoch: 15, Loss: 1.253000, Accuracy: 62.07%\n"
     ]
    },
    {
     "name": "stderr",
     "output_type": "stream",
     "text": [
      "Validation Epoch #15: 100%|██████████| 8/8 [00:01<00:00,  7.27it/s, accuracy=51.8, loss=1.67] \n"
     ]
    },
    {
     "name": "stdout",
     "output_type": "stream",
     "text": [
      "Validation Set: Average Loss: 1.6686, Accuracy: 51.78%\n",
      "Best Accuracy: 51.78%\n"
     ]
    },
    {
     "name": "stderr",
     "output_type": "stream",
     "text": [
      "Training Epoch #16: 100%|██████████| 990/990 [02:53<00:00,  5.72it/s, accuracy=64.2, loss=1.07] \n"
     ]
    },
    {
     "name": "stdout",
     "output_type": "stream",
     "text": [
      "Train Epoch: 16, Loss: 1.175235, Accuracy: 64.23%\n"
     ]
    },
    {
     "name": "stderr",
     "output_type": "stream",
     "text": [
      "Validation Epoch #16: 100%|██████████| 8/8 [00:01<00:00,  7.21it/s, accuracy=54.2, loss=1.62] \n"
     ]
    },
    {
     "name": "stdout",
     "output_type": "stream",
     "text": [
      "Validation Set: Average Loss: 1.6172, Accuracy: 54.22%\n",
      "Best Accuracy: 54.22%\n"
     ]
    },
    {
     "name": "stderr",
     "output_type": "stream",
     "text": [
      "Training Epoch #17: 100%|██████████| 990/990 [02:53<00:00,  5.71it/s, accuracy=65.6, loss=1.16] \n"
     ]
    },
    {
     "name": "stdout",
     "output_type": "stream",
     "text": [
      "Train Epoch: 17, Loss: 1.126613, Accuracy: 65.64%\n"
     ]
    },
    {
     "name": "stderr",
     "output_type": "stream",
     "text": [
      "Validation Epoch #17: 100%|██████████| 8/8 [00:01<00:00,  7.22it/s, accuracy=55.1, loss=1.62] \n"
     ]
    },
    {
     "name": "stdout",
     "output_type": "stream",
     "text": [
      "Validation Set: Average Loss: 1.6242, Accuracy: 55.11%\n",
      "Best Accuracy: 55.11%\n"
     ]
    },
    {
     "name": "stderr",
     "output_type": "stream",
     "text": [
      "Training Epoch #18: 100%|██████████| 990/990 [02:53<00:00,  5.69it/s, accuracy=66.5, loss=0.981]\n"
     ]
    },
    {
     "name": "stdout",
     "output_type": "stream",
     "text": [
      "Train Epoch: 18, Loss: 1.093567, Accuracy: 66.52%\n"
     ]
    },
    {
     "name": "stderr",
     "output_type": "stream",
     "text": [
      "Validation Epoch #18: 100%|██████████| 8/8 [00:01<00:00,  7.19it/s, accuracy=52, loss=1.68]   \n"
     ]
    },
    {
     "name": "stdout",
     "output_type": "stream",
     "text": [
      "Validation Set: Average Loss: 1.6836, Accuracy: 52.00%\n"
     ]
    },
    {
     "name": "stderr",
     "output_type": "stream",
     "text": [
      "Training Epoch #19: 100%|██████████| 990/990 [02:54<00:00,  5.68it/s, accuracy=67.1, loss=0.534]\n"
     ]
    },
    {
     "name": "stdout",
     "output_type": "stream",
     "text": [
      "Train Epoch: 19, Loss: 1.067953, Accuracy: 67.14%\n"
     ]
    },
    {
     "name": "stderr",
     "output_type": "stream",
     "text": [
      "Validation Epoch #19: 100%|██████████| 8/8 [00:01<00:00,  7.13it/s, accuracy=53.1, loss=1.77] \n"
     ]
    },
    {
     "name": "stdout",
     "output_type": "stream",
     "text": [
      "Validation Set: Average Loss: 1.7651, Accuracy: 53.11%\n"
     ]
    },
    {
     "name": "stderr",
     "output_type": "stream",
     "text": [
      "Training Epoch #20: 100%|██████████| 990/990 [02:53<00:00,  5.71it/s, accuracy=68.2, loss=1.65] \n"
     ]
    },
    {
     "name": "stdout",
     "output_type": "stream",
     "text": [
      "Train Epoch: 20, Loss: 1.037788, Accuracy: 68.20%\n"
     ]
    },
    {
     "name": "stderr",
     "output_type": "stream",
     "text": [
      "Validation Epoch #20: 100%|██████████| 8/8 [00:01<00:00,  7.32it/s, accuracy=54.4, loss=1.67] \n"
     ]
    },
    {
     "name": "stdout",
     "output_type": "stream",
     "text": [
      "Validation Set: Average Loss: 1.6740, Accuracy: 54.44%\n"
     ]
    },
    {
     "name": "stderr",
     "output_type": "stream",
     "text": [
      "Training Epoch #21: 100%|██████████| 990/990 [02:53<00:00,  5.70it/s, accuracy=68.9, loss=1.11] \n"
     ]
    },
    {
     "name": "stdout",
     "output_type": "stream",
     "text": [
      "Train Epoch: 21, Loss: 1.014990, Accuracy: 68.89%\n"
     ]
    },
    {
     "name": "stderr",
     "output_type": "stream",
     "text": [
      "Validation Epoch #21: 100%|██████████| 8/8 [00:01<00:00,  7.24it/s, accuracy=55.6, loss=1.66] \n"
     ]
    },
    {
     "name": "stdout",
     "output_type": "stream",
     "text": [
      "Validation Set: Average Loss: 1.6552, Accuracy: 55.56%\n",
      "Best Accuracy: 55.56%\n"
     ]
    },
    {
     "name": "stderr",
     "output_type": "stream",
     "text": [
      "Training Epoch #22: 100%|██████████| 990/990 [02:54<00:00,  5.69it/s, accuracy=69.7, loss=1.11] \n"
     ]
    },
    {
     "name": "stdout",
     "output_type": "stream",
     "text": [
      "Train Epoch: 22, Loss: 0.985857, Accuracy: 69.68%\n"
     ]
    },
    {
     "name": "stderr",
     "output_type": "stream",
     "text": [
      "Validation Epoch #22: 100%|██████████| 8/8 [00:01<00:00,  7.17it/s, accuracy=58.2, loss=1.66] \n"
     ]
    },
    {
     "name": "stdout",
     "output_type": "stream",
     "text": [
      "Validation Set: Average Loss: 1.6647, Accuracy: 58.22%\n",
      "Best Accuracy: 58.22%\n"
     ]
    },
    {
     "name": "stderr",
     "output_type": "stream",
     "text": [
      "Training Epoch #23: 100%|██████████| 990/990 [02:53<00:00,  5.71it/s, accuracy=70.7, loss=1.02] \n"
     ]
    },
    {
     "name": "stdout",
     "output_type": "stream",
     "text": [
      "Train Epoch: 23, Loss: 0.954692, Accuracy: 70.68%\n"
     ]
    },
    {
     "name": "stderr",
     "output_type": "stream",
     "text": [
      "Validation Epoch #23: 100%|██████████| 8/8 [00:01<00:00,  7.09it/s, accuracy=55.3, loss=1.66]\n"
     ]
    },
    {
     "name": "stdout",
     "output_type": "stream",
     "text": [
      "Validation Set: Average Loss: 1.6595, Accuracy: 55.33%\n"
     ]
    },
    {
     "name": "stderr",
     "output_type": "stream",
     "text": [
      "Training Epoch #24: 100%|██████████| 990/990 [02:53<00:00,  5.71it/s, accuracy=71.5, loss=0.872]\n"
     ]
    },
    {
     "name": "stdout",
     "output_type": "stream",
     "text": [
      "Train Epoch: 24, Loss: 0.926402, Accuracy: 71.49%\n"
     ]
    },
    {
     "name": "stderr",
     "output_type": "stream",
     "text": [
      "Validation Epoch #24: 100%|██████████| 8/8 [00:01<00:00,  7.36it/s, accuracy=55.8, loss=1.77] \n"
     ]
    },
    {
     "name": "stdout",
     "output_type": "stream",
     "text": [
      "Validation Set: Average Loss: 1.7694, Accuracy: 55.78%\n"
     ]
    },
    {
     "name": "stderr",
     "output_type": "stream",
     "text": [
      "Training Epoch #25: 100%|██████████| 990/990 [02:54<00:00,  5.69it/s, accuracy=72.3, loss=1.31] \n"
     ]
    },
    {
     "name": "stdout",
     "output_type": "stream",
     "text": [
      "Train Epoch: 25, Loss: 0.893856, Accuracy: 72.33%\n"
     ]
    },
    {
     "name": "stderr",
     "output_type": "stream",
     "text": [
      "Validation Epoch #25: 100%|██████████| 8/8 [00:01<00:00,  7.24it/s, accuracy=51.8, loss=1.78] \n"
     ]
    },
    {
     "name": "stdout",
     "output_type": "stream",
     "text": [
      "Validation Set: Average Loss: 1.7786, Accuracy: 51.78%\n"
     ]
    },
    {
     "name": "stderr",
     "output_type": "stream",
     "text": [
      "Training Epoch #26: 100%|██████████| 990/990 [02:53<00:00,  5.69it/s, accuracy=73.3, loss=1.24] \n"
     ]
    },
    {
     "name": "stdout",
     "output_type": "stream",
     "text": [
      "Train Epoch: 26, Loss: 0.867966, Accuracy: 73.30%\n"
     ]
    },
    {
     "name": "stderr",
     "output_type": "stream",
     "text": [
      "Validation Epoch #26: 100%|██████████| 8/8 [00:01<00:00,  7.24it/s, accuracy=52, loss=1.77]   \n"
     ]
    },
    {
     "name": "stdout",
     "output_type": "stream",
     "text": [
      "Validation Set: Average Loss: 1.7725, Accuracy: 52.00%\n"
     ]
    },
    {
     "name": "stderr",
     "output_type": "stream",
     "text": [
      "Training Epoch #27: 100%|██████████| 990/990 [02:54<00:00,  5.68it/s, accuracy=74.1, loss=0.632]\n"
     ]
    },
    {
     "name": "stdout",
     "output_type": "stream",
     "text": [
      "Train Epoch: 27, Loss: 0.840659, Accuracy: 74.09%\n"
     ]
    },
    {
     "name": "stderr",
     "output_type": "stream",
     "text": [
      "Validation Epoch #27: 100%|██████████| 8/8 [00:01<00:00,  7.14it/s, accuracy=54.4, loss=1.74] \n"
     ]
    },
    {
     "name": "stdout",
     "output_type": "stream",
     "text": [
      "Validation Set: Average Loss: 1.7380, Accuracy: 54.44%\n"
     ]
    },
    {
     "name": "stderr",
     "output_type": "stream",
     "text": [
      "Training Epoch #28: 100%|██████████| 990/990 [02:53<00:00,  5.70it/s, accuracy=75.1, loss=0.917]\n"
     ]
    },
    {
     "name": "stdout",
     "output_type": "stream",
     "text": [
      "Train Epoch: 28, Loss: 0.810891, Accuracy: 75.11%\n"
     ]
    },
    {
     "name": "stderr",
     "output_type": "stream",
     "text": [
      "Validation Epoch #28: 100%|██████████| 8/8 [00:01<00:00,  7.20it/s, accuracy=54.7, loss=1.75] \n"
     ]
    },
    {
     "name": "stdout",
     "output_type": "stream",
     "text": [
      "Validation Set: Average Loss: 1.7493, Accuracy: 54.67%\n"
     ]
    },
    {
     "name": "stderr",
     "output_type": "stream",
     "text": [
      "Training Epoch #29: 100%|██████████| 990/990 [02:53<00:00,  5.70it/s, accuracy=76.1, loss=1.19] \n"
     ]
    },
    {
     "name": "stdout",
     "output_type": "stream",
     "text": [
      "Train Epoch: 29, Loss: 0.780014, Accuracy: 76.06%\n"
     ]
    },
    {
     "name": "stderr",
     "output_type": "stream",
     "text": [
      "Validation Epoch #29: 100%|██████████| 8/8 [00:01<00:00,  7.21it/s, accuracy=50.7, loss=1.85] \n"
     ]
    },
    {
     "name": "stdout",
     "output_type": "stream",
     "text": [
      "Validation Set: Average Loss: 1.8484, Accuracy: 50.67%\n"
     ]
    },
    {
     "name": "stderr",
     "output_type": "stream",
     "text": [
      "Training Epoch #30: 100%|██████████| 990/990 [02:53<00:00,  5.69it/s, accuracy=76.9, loss=0.868]\n"
     ]
    },
    {
     "name": "stdout",
     "output_type": "stream",
     "text": [
      "Train Epoch: 30, Loss: 0.753628, Accuracy: 76.86%\n"
     ]
    },
    {
     "name": "stderr",
     "output_type": "stream",
     "text": [
      "Validation Epoch #30: 100%|██████████| 8/8 [00:01<00:00,  7.12it/s, accuracy=52.7, loss=1.87] "
     ]
    },
    {
     "name": "stdout",
     "output_type": "stream",
     "text": [
      "Validation Set: Average Loss: 1.8698, Accuracy: 52.67%\n",
      "Final Best Accuracy: 58.22%\n"
     ]
    },
    {
     "name": "stderr",
     "output_type": "stream",
     "text": [
      "\n"
     ]
    }
   ],
   "source": [
    "epochs = 30\n",
    "lr = 0.01\n",
    "momentum = 0.9\n",
    "weight_decay = 1e-4\n",
    "optimizer = optim.SGD(model.parameters(), lr = lr, momentum = momentum, weight_decay = weight_decay)\n",
    "\n",
    "def adjust_lr(optimizer, epoch):\n",
    "    if epoch in [epochs * 0.5, epochs * 0.75, epochs * 0.85]:\n",
    "        for p in optimizer.param_groups:\n",
    "            p['lr'] *= 0.1\n",
    "            lr = p['lr']\n",
    "        print('Adjusted lr:' + str(lr))\n",
    "\n",
    "def train(epoch):\n",
    "    model.train()\n",
    "    avg_loss = 0.\n",
    "    train_acc = 0.\n",
    "    adjust_lr(optimizer, epoch)\n",
    "    train_loader_len = len(train_loader.dataset)\n",
    "    train_loader_iter = tqdm(enumerate(train_loader), total = len(train_loader), desc = \"Training Epoch #{}\".format(epoch))\n",
    "    \n",
    "    for batch_idx, (data, label) in train_loader_iter:\n",
    "        data, label = data.to(device), label.to(device)\n",
    "        optimizer.zero_grad()\n",
    "        output = model(data)\n",
    "        loss = F.cross_entropy(output, label)\n",
    "        avg_loss += loss.item()\n",
    "        pred = output.data.max(1, keepdim = True)[1]\n",
    "        train_acc += pred.eq(label.data.view_as(pred)).cpu().sum()\n",
    "        loss.backward()\n",
    "        optimizer.step()\n",
    "        train_loader_iter.set_postfix(loss = loss.item(), accuracy = 100. * train_acc.item() / train_loader_len)    \n",
    "    print('Train Epoch: {}, Loss: {:.6f}, Accuracy: {:.2f}%'.format(epoch, avg_loss / len(train_loader), 100. * train_acc / train_loader_len))\n",
    "\n",
    "def val(epoch):\n",
    "    model.eval()\n",
    "    test_loss = 0.\n",
    "    correct = 0\n",
    "    val_loader_iter = tqdm(val_loader, total = len(val_loader), desc = \"Validation Epoch #{}\".format(epoch))\n",
    "    \n",
    "    with torch.no_grad():\n",
    "        for data, label in val_loader_iter:\n",
    "            data, label = data.to(device), label.to(device)\n",
    "            output = model(data)\n",
    "            test_loss += F.cross_entropy(output, label, reduction = 'sum').item()\n",
    "            pred = output.data.max(1, keepdim = True)[1]\n",
    "            correct += pred.eq(label.data.view_as(pred)).cpu().sum()\n",
    "            val_loader_iter.set_postfix(loss = test_loss / len(val_loader.dataset), accuracy = 100. * correct.item() / len(val_loader.dataset))\n",
    "    \n",
    "    test_loss /= len(val_loader.dataset)\n",
    "    accuracy = 100. * correct / len(val_loader.dataset)\n",
    "    print('Validation Set: Average Loss: {:.4f}, Accuracy: {:.2f}%'.format(test_loss, accuracy))\n",
    "    return accuracy\n",
    "\n",
    "best_val_acc = 0.\n",
    "for i in range(epochs):\n",
    "    train(i + 1)\n",
    "    temp_acc = val(i + 1)\n",
    "    if temp_acc > best_val_acc:\n",
    "        best_val_acc = temp_acc\n",
    "        torch.save(model.state_dict(), 'resnet34_best.pt')\n",
    "        print('Best Accuracy: {:.2f}%'.format(best_val_acc))\n",
    "print('Final Best Accuracy: {:.2f}%'.format(best_val_acc))"
   ]
  },
  {
   "cell_type": "markdown",
   "id": "opening-upset",
   "metadata": {},
   "source": [
    "## Test 2 models"
   ]
  },
  {
   "cell_type": "code",
   "execution_count": 12,
   "id": "9e32e536-6451-4858-9545-cf4f3b94a5d4",
   "metadata": {},
   "outputs": [
    {
     "data": {
      "text/plain": [
       "ResNet(\n",
       "  (conv1): Conv2d(3, 64, kernel_size=(7, 7), stride=(2, 2), padding=(3, 3), bias=False)\n",
       "  (bn1): BatchNorm2d(64, eps=1e-05, momentum=0.1, affine=True, track_running_stats=True)\n",
       "  (relu): ReLU(inplace=True)\n",
       "  (maxpool): MaxPool2d(kernel_size=3, stride=2, padding=1, dilation=1, ceil_mode=False)\n",
       "  (layer1): Sequential(\n",
       "    (0): BasicBlock(\n",
       "      (conv1): Conv2d(64, 64, kernel_size=(3, 3), stride=(1, 1), padding=(1, 1), bias=False)\n",
       "      (bn1): BatchNorm2d(64, eps=1e-05, momentum=0.1, affine=True, track_running_stats=True)\n",
       "      (relu): ReLU(inplace=True)\n",
       "      (conv2): Conv2d(64, 64, kernel_size=(3, 3), stride=(1, 1), padding=(1, 1), bias=False)\n",
       "      (bn2): BatchNorm2d(64, eps=1e-05, momentum=0.1, affine=True, track_running_stats=True)\n",
       "    )\n",
       "    (1): BasicBlock(\n",
       "      (conv1): Conv2d(64, 64, kernel_size=(3, 3), stride=(1, 1), padding=(1, 1), bias=False)\n",
       "      (bn1): BatchNorm2d(64, eps=1e-05, momentum=0.1, affine=True, track_running_stats=True)\n",
       "      (relu): ReLU(inplace=True)\n",
       "      (conv2): Conv2d(64, 64, kernel_size=(3, 3), stride=(1, 1), padding=(1, 1), bias=False)\n",
       "      (bn2): BatchNorm2d(64, eps=1e-05, momentum=0.1, affine=True, track_running_stats=True)\n",
       "    )\n",
       "    (2): BasicBlock(\n",
       "      (conv1): Conv2d(64, 64, kernel_size=(3, 3), stride=(1, 1), padding=(1, 1), bias=False)\n",
       "      (bn1): BatchNorm2d(64, eps=1e-05, momentum=0.1, affine=True, track_running_stats=True)\n",
       "      (relu): ReLU(inplace=True)\n",
       "      (conv2): Conv2d(64, 64, kernel_size=(3, 3), stride=(1, 1), padding=(1, 1), bias=False)\n",
       "      (bn2): BatchNorm2d(64, eps=1e-05, momentum=0.1, affine=True, track_running_stats=True)\n",
       "    )\n",
       "  )\n",
       "  (layer2): Sequential(\n",
       "    (0): BasicBlock(\n",
       "      (conv1): Conv2d(64, 128, kernel_size=(3, 3), stride=(2, 2), padding=(1, 1), bias=False)\n",
       "      (bn1): BatchNorm2d(128, eps=1e-05, momentum=0.1, affine=True, track_running_stats=True)\n",
       "      (relu): ReLU(inplace=True)\n",
       "      (conv2): Conv2d(128, 128, kernel_size=(3, 3), stride=(1, 1), padding=(1, 1), bias=False)\n",
       "      (bn2): BatchNorm2d(128, eps=1e-05, momentum=0.1, affine=True, track_running_stats=True)\n",
       "      (downsample): Sequential(\n",
       "        (0): Conv2d(64, 128, kernel_size=(1, 1), stride=(2, 2), bias=False)\n",
       "        (1): BatchNorm2d(128, eps=1e-05, momentum=0.1, affine=True, track_running_stats=True)\n",
       "      )\n",
       "    )\n",
       "    (1): BasicBlock(\n",
       "      (conv1): Conv2d(128, 128, kernel_size=(3, 3), stride=(1, 1), padding=(1, 1), bias=False)\n",
       "      (bn1): BatchNorm2d(128, eps=1e-05, momentum=0.1, affine=True, track_running_stats=True)\n",
       "      (relu): ReLU(inplace=True)\n",
       "      (conv2): Conv2d(128, 128, kernel_size=(3, 3), stride=(1, 1), padding=(1, 1), bias=False)\n",
       "      (bn2): BatchNorm2d(128, eps=1e-05, momentum=0.1, affine=True, track_running_stats=True)\n",
       "    )\n",
       "    (2): BasicBlock(\n",
       "      (conv1): Conv2d(128, 128, kernel_size=(3, 3), stride=(1, 1), padding=(1, 1), bias=False)\n",
       "      (bn1): BatchNorm2d(128, eps=1e-05, momentum=0.1, affine=True, track_running_stats=True)\n",
       "      (relu): ReLU(inplace=True)\n",
       "      (conv2): Conv2d(128, 128, kernel_size=(3, 3), stride=(1, 1), padding=(1, 1), bias=False)\n",
       "      (bn2): BatchNorm2d(128, eps=1e-05, momentum=0.1, affine=True, track_running_stats=True)\n",
       "    )\n",
       "    (3): BasicBlock(\n",
       "      (conv1): Conv2d(128, 128, kernel_size=(3, 3), stride=(1, 1), padding=(1, 1), bias=False)\n",
       "      (bn1): BatchNorm2d(128, eps=1e-05, momentum=0.1, affine=True, track_running_stats=True)\n",
       "      (relu): ReLU(inplace=True)\n",
       "      (conv2): Conv2d(128, 128, kernel_size=(3, 3), stride=(1, 1), padding=(1, 1), bias=False)\n",
       "      (bn2): BatchNorm2d(128, eps=1e-05, momentum=0.1, affine=True, track_running_stats=True)\n",
       "    )\n",
       "  )\n",
       "  (layer3): Sequential(\n",
       "    (0): BasicBlock(\n",
       "      (conv1): Conv2d(128, 256, kernel_size=(3, 3), stride=(2, 2), padding=(1, 1), bias=False)\n",
       "      (bn1): BatchNorm2d(256, eps=1e-05, momentum=0.1, affine=True, track_running_stats=True)\n",
       "      (relu): ReLU(inplace=True)\n",
       "      (conv2): Conv2d(256, 256, kernel_size=(3, 3), stride=(1, 1), padding=(1, 1), bias=False)\n",
       "      (bn2): BatchNorm2d(256, eps=1e-05, momentum=0.1, affine=True, track_running_stats=True)\n",
       "      (downsample): Sequential(\n",
       "        (0): Conv2d(128, 256, kernel_size=(1, 1), stride=(2, 2), bias=False)\n",
       "        (1): BatchNorm2d(256, eps=1e-05, momentum=0.1, affine=True, track_running_stats=True)\n",
       "      )\n",
       "    )\n",
       "    (1): BasicBlock(\n",
       "      (conv1): Conv2d(256, 256, kernel_size=(3, 3), stride=(1, 1), padding=(1, 1), bias=False)\n",
       "      (bn1): BatchNorm2d(256, eps=1e-05, momentum=0.1, affine=True, track_running_stats=True)\n",
       "      (relu): ReLU(inplace=True)\n",
       "      (conv2): Conv2d(256, 256, kernel_size=(3, 3), stride=(1, 1), padding=(1, 1), bias=False)\n",
       "      (bn2): BatchNorm2d(256, eps=1e-05, momentum=0.1, affine=True, track_running_stats=True)\n",
       "    )\n",
       "    (2): BasicBlock(\n",
       "      (conv1): Conv2d(256, 256, kernel_size=(3, 3), stride=(1, 1), padding=(1, 1), bias=False)\n",
       "      (bn1): BatchNorm2d(256, eps=1e-05, momentum=0.1, affine=True, track_running_stats=True)\n",
       "      (relu): ReLU(inplace=True)\n",
       "      (conv2): Conv2d(256, 256, kernel_size=(3, 3), stride=(1, 1), padding=(1, 1), bias=False)\n",
       "      (bn2): BatchNorm2d(256, eps=1e-05, momentum=0.1, affine=True, track_running_stats=True)\n",
       "    )\n",
       "    (3): BasicBlock(\n",
       "      (conv1): Conv2d(256, 256, kernel_size=(3, 3), stride=(1, 1), padding=(1, 1), bias=False)\n",
       "      (bn1): BatchNorm2d(256, eps=1e-05, momentum=0.1, affine=True, track_running_stats=True)\n",
       "      (relu): ReLU(inplace=True)\n",
       "      (conv2): Conv2d(256, 256, kernel_size=(3, 3), stride=(1, 1), padding=(1, 1), bias=False)\n",
       "      (bn2): BatchNorm2d(256, eps=1e-05, momentum=0.1, affine=True, track_running_stats=True)\n",
       "    )\n",
       "    (4): BasicBlock(\n",
       "      (conv1): Conv2d(256, 256, kernel_size=(3, 3), stride=(1, 1), padding=(1, 1), bias=False)\n",
       "      (bn1): BatchNorm2d(256, eps=1e-05, momentum=0.1, affine=True, track_running_stats=True)\n",
       "      (relu): ReLU(inplace=True)\n",
       "      (conv2): Conv2d(256, 256, kernel_size=(3, 3), stride=(1, 1), padding=(1, 1), bias=False)\n",
       "      (bn2): BatchNorm2d(256, eps=1e-05, momentum=0.1, affine=True, track_running_stats=True)\n",
       "    )\n",
       "    (5): BasicBlock(\n",
       "      (conv1): Conv2d(256, 256, kernel_size=(3, 3), stride=(1, 1), padding=(1, 1), bias=False)\n",
       "      (bn1): BatchNorm2d(256, eps=1e-05, momentum=0.1, affine=True, track_running_stats=True)\n",
       "      (relu): ReLU(inplace=True)\n",
       "      (conv2): Conv2d(256, 256, kernel_size=(3, 3), stride=(1, 1), padding=(1, 1), bias=False)\n",
       "      (bn2): BatchNorm2d(256, eps=1e-05, momentum=0.1, affine=True, track_running_stats=True)\n",
       "    )\n",
       "  )\n",
       "  (layer4): Sequential(\n",
       "    (0): BasicBlock(\n",
       "      (conv1): Conv2d(256, 512, kernel_size=(3, 3), stride=(2, 2), padding=(1, 1), bias=False)\n",
       "      (bn1): BatchNorm2d(512, eps=1e-05, momentum=0.1, affine=True, track_running_stats=True)\n",
       "      (relu): ReLU(inplace=True)\n",
       "      (conv2): Conv2d(512, 512, kernel_size=(3, 3), stride=(1, 1), padding=(1, 1), bias=False)\n",
       "      (bn2): BatchNorm2d(512, eps=1e-05, momentum=0.1, affine=True, track_running_stats=True)\n",
       "      (downsample): Sequential(\n",
       "        (0): Conv2d(256, 512, kernel_size=(1, 1), stride=(2, 2), bias=False)\n",
       "        (1): BatchNorm2d(512, eps=1e-05, momentum=0.1, affine=True, track_running_stats=True)\n",
       "      )\n",
       "    )\n",
       "    (1): BasicBlock(\n",
       "      (conv1): Conv2d(512, 512, kernel_size=(3, 3), stride=(1, 1), padding=(1, 1), bias=False)\n",
       "      (bn1): BatchNorm2d(512, eps=1e-05, momentum=0.1, affine=True, track_running_stats=True)\n",
       "      (relu): ReLU(inplace=True)\n",
       "      (conv2): Conv2d(512, 512, kernel_size=(3, 3), stride=(1, 1), padding=(1, 1), bias=False)\n",
       "      (bn2): BatchNorm2d(512, eps=1e-05, momentum=0.1, affine=True, track_running_stats=True)\n",
       "    )\n",
       "    (2): BasicBlock(\n",
       "      (conv1): Conv2d(512, 512, kernel_size=(3, 3), stride=(1, 1), padding=(1, 1), bias=False)\n",
       "      (bn1): BatchNorm2d(512, eps=1e-05, momentum=0.1, affine=True, track_running_stats=True)\n",
       "      (relu): ReLU(inplace=True)\n",
       "      (conv2): Conv2d(512, 512, kernel_size=(3, 3), stride=(1, 1), padding=(1, 1), bias=False)\n",
       "      (bn2): BatchNorm2d(512, eps=1e-05, momentum=0.1, affine=True, track_running_stats=True)\n",
       "    )\n",
       "  )\n",
       "  (avgpool): AdaptiveAvgPool2d(output_size=(1, 1))\n",
       "  (fc): Linear(in_features=512, out_features=50, bias=True)\n",
       ")"
      ]
     },
     "execution_count": 12,
     "metadata": {},
     "output_type": "execute_result"
    }
   ],
   "source": [
    "mycnn_model = SimpleCNN(num_classes = 50)\n",
    "mycnn_model.load_state_dict(torch.load(\"mycnn_best.pt\"))\n",
    "mycnn_model.to(device)\n",
    "mycnn_model.eval()\n",
    "resnet34_model = models.resnet34(pretrained = False)\n",
    "resnet34_model.fc = torch.nn.Linear(model.fc.in_features, 50)\n",
    "resnet34_model.load_state_dict(torch.load(\"resnet34_best.pt\"))\n",
    "resnet34_model.to(device)\n",
    "resnet34_model.eval()"
   ]
  },
  {
   "cell_type": "code",
   "execution_count": 13,
   "id": "4d31b270-cac7-43a3-a98f-11f4d6788397",
   "metadata": {},
   "outputs": [
    {
     "name": "stderr",
     "output_type": "stream",
     "text": [
      "Testing: 100%|██████████| 8/8 [00:01<00:00,  4.58it/s, accuracy=46.9]\n",
      "/home/re6121029/.local/lib/python3.11/site-packages/torchprofile/profile.py:22: UserWarning: No handlers found: \"aten::permute\". Skipped.\n",
      "  warnings.warn('No handlers found: \"{}\". Skipped.'.format(\n"
     ]
    },
    {
     "name": "stdout",
     "output_type": "stream",
     "text": [
      "Accuracy: 46.89%, Precision: 51.6421, Recall: 46.8889, F1 Score: 46.7216, FLOPS: 7697151972, Elapsed Time: 1.75 seconds\n"
     ]
    },
    {
     "name": "stderr",
     "output_type": "stream",
     "text": [
      "Testing: 100%|██████████| 8/8 [00:01<00:00,  7.22it/s, accuracy=55.1]\n"
     ]
    },
    {
     "name": "stdout",
     "output_type": "stream",
     "text": [
      "Accuracy: 55.11%, Precision: 55.8879, Recall: 55.1111, F1 Score: 54.2161, FLOPS: 612876800, Elapsed Time: 1.11 seconds\n"
     ]
    }
   ],
   "source": [
    "def test(model):\n",
    "    model.eval()\n",
    "    correct = 0\n",
    "    test_dataset = LoadData(file = 'test.txt', root = '')\n",
    "    test_loader = DataLoader(test_dataset, batch_size = 64, shuffle = False)\n",
    "    test_loader_len = len(test_loader.dataset)\n",
    "    test_loader_iter = tqdm(test_loader, total = len(test_loader), desc = \"Testing\")\n",
    "    \n",
    "    all_preds = []\n",
    "    all_targets = []\n",
    "    \n",
    "    start_time = time.time()\n",
    "    \n",
    "    with torch.no_grad():\n",
    "        for data, label in test_loader_iter:\n",
    "            data, label = data.to(device), label.to(device)\n",
    "            output = model(data)\n",
    "            pred = output.data.max(1, keepdim = True)[1]\n",
    "            correct += pred.eq(label.data.view_as(pred)).cpu().sum()\n",
    "            \n",
    "            all_preds.extend(pred.cpu().numpy())\n",
    "            all_targets.extend(label.cpu().numpy())\n",
    "            \n",
    "            test_loader_iter.set_postfix(accuracy = 100. * correct.item() / test_loader_len)\n",
    "    \n",
    "\n",
    "    end_time = time.time()\n",
    "    elapsed_time = end_time - start_time\n",
    "    \n",
    "    accuracy = 100. * correct / test_loader_len\n",
    "    \n",
    "\n",
    "    # Calculate precision, recall, and F1-score\n",
    "    precision = 100. * precision_score(all_targets, all_preds, average = 'macro')\n",
    "    recall = 100. * recall_score(all_targets, all_preds, average = 'macro')\n",
    "    f1 = 100. * f1_score(all_targets, all_preds, average = 'macro')\n",
    "    \n",
    "    # Calculate FLOPS\n",
    "    flops = torchprofile.profile_macs(model, torch.randn(1, *data.shape[1:]).to(device))\n",
    "    \n",
    "    return accuracy.item(), precision, recall, f1, flops, elapsed_time\n",
    "\n",
    "mycnn_acc, mycnn_precision, mycnn_recall, mycnn_f1, mycnn_flops, mycnn_elapsed_time = test(mycnn_model)\n",
    "print(f\"Accuracy: {mycnn_acc:.2f}%, Precision: {mycnn_precision:.4f}, Recall: {mycnn_recall:.4f}, F1 Score: {mycnn_f1:.4f}, FLOPS: {mycnn_flops:d}, Elapsed Time: {mycnn_elapsed_time:.2f} seconds\")\n",
    "\n",
    "resnet_acc, resnet_precision, resnet_recall, resnet_f1, resnet_flops, resnet_elapsed_time = test(resnet34_model)\n",
    "print(f\"Accuracy: {resnet_acc:.2f}%, Precision: {resnet_precision:.4f}, Recall: {resnet_recall:.4f}, F1 Score: {resnet_f1:.4f}, FLOPS: {resnet_flops:d}, Elapsed Time: {resnet_elapsed_time:.2f} seconds\")"
   ]
  }
 ],
 "metadata": {
  "kernelspec": {
   "display_name": "Python 3",
   "language": "python",
   "name": "python3"
  },
  "language_info": {
   "codemirror_mode": {
    "name": "ipython",
    "version": 3
   },
   "file_extension": ".py",
   "mimetype": "text/x-python",
   "name": "python",
   "nbconvert_exporter": "python",
   "pygments_lexer": "ipython3",
   "version": "3.8.7"
  }
 },
 "nbformat": 4,
 "nbformat_minor": 5
}
