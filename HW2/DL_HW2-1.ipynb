{
 "cells": [
  {
   "cell_type": "code",
   "execution_count": 1,
   "id": "3ff0d368-a98f-47d6-a15f-9bda83ddbd02",
   "metadata": {},
   "outputs": [],
   "source": [
    "import os\n",
    "import torch\n",
    "import torch.nn as nn\n",
    "import torch.nn.functional as F\n",
    "import torch.optim as optim\n",
    "from torch.utils.data import Dataset, DataLoader\n",
    "from torchvision import transforms\n",
    "import torchvision.models as models\n",
    "from PIL import Image\n",
    "import random, time, torchprofile\n",
    "from tqdm import tqdm\n",
    "from sklearn.metrics import precision_score, recall_score, f1_score\n",
    "\n",
    "device = 'cuda:0' if torch.cuda.is_available() else 'cpu'\n",
    "\n",
    "# Read and Transform Data\n",
    "class LoadData(Dataset):\n",
    "    def __init__(self, file, root):\n",
    "        self.root = root\n",
    "        \n",
    "        # Data tranformation\n",
    "        self.transform = transforms.Compose([\n",
    "            transforms.Resize(84),\n",
    "            transforms.CenterCrop(84),\n",
    "            transforms.RandomHorizontalFlip(1),\n",
    "            transforms.RandomVerticalFlip(0.1),\n",
    "            transforms.RandomPerspective(distortion_scale = 0.2, p = 0.2),\n",
    "            transforms.RandomRotation(15),\n",
    "            RandomChannel(),\n",
    "            transforms.ToTensor(),\n",
    "            transforms.Normalize([0.485, 0.456, 0.406], [0.229, 0.224, 0.225]),\n",
    "        ])\n",
    "        \n",
    "        # Read the data file\n",
    "        with open(file, 'r') as files:\n",
    "            self.data = files.readlines()\n",
    "\n",
    "    def __len__(self):\n",
    "        return len(self.data)\n",
    "\n",
    "    def __getitem__(self, idx):\n",
    "        line = self.data[idx].strip()\n",
    "        img_path, label = line.split()\n",
    "        img_path = os.path.join(self.root, img_path)\n",
    "        img = Image.open(img_path).convert('RGB')\n",
    "        label = int(label)\n",
    "        img = self.transform(img)\n",
    "        return img, label\n",
    "\n",
    "class RandomChannel:\n",
    "    def __init__(self):\n",
    "        self.all_channel = [\n",
    "            (0, 1, 2),  # RGB\n",
    "            (0, 1),     # RG\n",
    "            (0, 2),     # RB\n",
    "            (1, 2),     # GB\n",
    "            (0,),       # R\n",
    "            (1,),       # G\n",
    "            (2,)        # B\n",
    "        ]\n",
    "\n",
    "    def __call__(self, img):\n",
    "        channels = list(img.split())\n",
    "        random_channel = random.choice(self.all_channel)\n",
    "        img_merged = Image.merge('RGB', [channels[i] if i in random_channel else Image.new('L', img.size) for i in range(3)])\n",
    "        return img_merged\n",
    "\n",
    "class DynamicConv2D(nn.Module):\n",
    "    def __init__(self, in_channels, out_channels, kernel_size, stride = 1, padding = 0, bias = True):\n",
    "        super(DynamicConv2D, self).__init__()\n",
    "        self.in_channels = in_channels\n",
    "        self.out_channels = out_channels\n",
    "        self.kernel_size = kernel_size\n",
    "        self.stride = stride\n",
    "        self.padding = padding\n",
    "        self.bias = bias\n",
    "\n",
    "        # Define convoluion weight and bias\n",
    "        self.weight = nn.Parameter(torch.randn(out_channels, in_channels, kernel_size, kernel_size))\n",
    "        if bias:\n",
    "            self.bias = nn.Parameter(torch.randn(out_channels))\n",
    "        else:\n",
    "            self.register_parameter('bias', None)\n",
    "\n",
    "    def forward(self, x):\n",
    "        \n",
    "        # Adjust weight based on input channels\n",
    "        channels = x.size(1)\n",
    "        if channels < self.in_channels:\n",
    "            weight = self.weight[:, :channels, :, :]\n",
    "        else:\n",
    "            weight = self.weight\n",
    "        return F.conv2d(x, weight, self.bias, self.stride, self.padding)"
   ]
  },
  {
   "cell_type": "markdown",
   "id": "a08ea611-9489-44cc-8ffc-7bae290410b3",
   "metadata": {},
   "source": [
    "## Train ResNet18 with DynamicConv2D"
   ]
  },
  {
   "cell_type": "code",
   "execution_count": 2,
   "id": "8326d086-a87a-4ff9-8065-6e8ba42a78fb",
   "metadata": {},
   "outputs": [],
   "source": [
    "# Create dataset instances\n",
    "train_dataset = LoadData(file = 'train.txt', root = '')\n",
    "val_dataset = LoadData(file = 'val.txt', root = '')\n",
    "test_dataset = LoadData(file = 'test.txt', root = '')\n",
    "\n",
    "# Create DataLoader instances\n",
    "train_loader = DataLoader(train_dataset, batch_size = 64, shuffle = True)\n",
    "val_loader = DataLoader(val_dataset, batch_size = 64, shuffle = False)\n",
    "test_loader = DataLoader(test_dataset, batch_size = 64, shuffle = False)"
   ]
  },
  {
   "cell_type": "code",
   "execution_count": 3,
   "id": "1a71c7fd-d761-4741-b69a-1917497ec28d",
   "metadata": {},
   "outputs": [
    {
     "name": "stderr",
     "output_type": "stream",
     "text": [
      "/home/re6121029/.local/lib/python3.11/site-packages/torchvision/models/_utils.py:208: UserWarning: The parameter 'pretrained' is deprecated since 0.13 and may be removed in the future, please use 'weights' instead.\n",
      "  warnings.warn(\n",
      "/home/re6121029/.local/lib/python3.11/site-packages/torchvision/models/_utils.py:223: UserWarning: Arguments other than a weight enum or `None` for 'weights' are deprecated since 0.13 and may be removed in the future. The current behavior is equivalent to passing `weights=None`.\n",
      "  warnings.warn(msg)\n"
     ]
    },
    {
     "data": {
      "text/plain": [
       "ResNet(\n",
       "  (conv1): DynamicConv2D()\n",
       "  (bn1): BatchNorm2d(64, eps=1e-05, momentum=0.1, affine=True, track_running_stats=True)\n",
       "  (relu): ReLU(inplace=True)\n",
       "  (maxpool): MaxPool2d(kernel_size=3, stride=2, padding=1, dilation=1, ceil_mode=False)\n",
       "  (layer1): Sequential(\n",
       "    (0): BasicBlock(\n",
       "      (conv1): Conv2d(64, 64, kernel_size=(3, 3), stride=(1, 1), padding=(1, 1), bias=False)\n",
       "      (bn1): BatchNorm2d(64, eps=1e-05, momentum=0.1, affine=True, track_running_stats=True)\n",
       "      (relu): ReLU(inplace=True)\n",
       "      (conv2): Conv2d(64, 64, kernel_size=(3, 3), stride=(1, 1), padding=(1, 1), bias=False)\n",
       "      (bn2): BatchNorm2d(64, eps=1e-05, momentum=0.1, affine=True, track_running_stats=True)\n",
       "    )\n",
       "    (1): BasicBlock(\n",
       "      (conv1): Conv2d(64, 64, kernel_size=(3, 3), stride=(1, 1), padding=(1, 1), bias=False)\n",
       "      (bn1): BatchNorm2d(64, eps=1e-05, momentum=0.1, affine=True, track_running_stats=True)\n",
       "      (relu): ReLU(inplace=True)\n",
       "      (conv2): Conv2d(64, 64, kernel_size=(3, 3), stride=(1, 1), padding=(1, 1), bias=False)\n",
       "      (bn2): BatchNorm2d(64, eps=1e-05, momentum=0.1, affine=True, track_running_stats=True)\n",
       "    )\n",
       "  )\n",
       "  (layer2): Sequential(\n",
       "    (0): BasicBlock(\n",
       "      (conv1): Conv2d(64, 128, kernel_size=(3, 3), stride=(2, 2), padding=(1, 1), bias=False)\n",
       "      (bn1): BatchNorm2d(128, eps=1e-05, momentum=0.1, affine=True, track_running_stats=True)\n",
       "      (relu): ReLU(inplace=True)\n",
       "      (conv2): Conv2d(128, 128, kernel_size=(3, 3), stride=(1, 1), padding=(1, 1), bias=False)\n",
       "      (bn2): BatchNorm2d(128, eps=1e-05, momentum=0.1, affine=True, track_running_stats=True)\n",
       "      (downsample): Sequential(\n",
       "        (0): Conv2d(64, 128, kernel_size=(1, 1), stride=(2, 2), bias=False)\n",
       "        (1): BatchNorm2d(128, eps=1e-05, momentum=0.1, affine=True, track_running_stats=True)\n",
       "      )\n",
       "    )\n",
       "    (1): BasicBlock(\n",
       "      (conv1): Conv2d(128, 128, kernel_size=(3, 3), stride=(1, 1), padding=(1, 1), bias=False)\n",
       "      (bn1): BatchNorm2d(128, eps=1e-05, momentum=0.1, affine=True, track_running_stats=True)\n",
       "      (relu): ReLU(inplace=True)\n",
       "      (conv2): Conv2d(128, 128, kernel_size=(3, 3), stride=(1, 1), padding=(1, 1), bias=False)\n",
       "      (bn2): BatchNorm2d(128, eps=1e-05, momentum=0.1, affine=True, track_running_stats=True)\n",
       "    )\n",
       "  )\n",
       "  (layer3): Sequential(\n",
       "    (0): BasicBlock(\n",
       "      (conv1): Conv2d(128, 256, kernel_size=(3, 3), stride=(2, 2), padding=(1, 1), bias=False)\n",
       "      (bn1): BatchNorm2d(256, eps=1e-05, momentum=0.1, affine=True, track_running_stats=True)\n",
       "      (relu): ReLU(inplace=True)\n",
       "      (conv2): Conv2d(256, 256, kernel_size=(3, 3), stride=(1, 1), padding=(1, 1), bias=False)\n",
       "      (bn2): BatchNorm2d(256, eps=1e-05, momentum=0.1, affine=True, track_running_stats=True)\n",
       "      (downsample): Sequential(\n",
       "        (0): Conv2d(128, 256, kernel_size=(1, 1), stride=(2, 2), bias=False)\n",
       "        (1): BatchNorm2d(256, eps=1e-05, momentum=0.1, affine=True, track_running_stats=True)\n",
       "      )\n",
       "    )\n",
       "    (1): BasicBlock(\n",
       "      (conv1): Conv2d(256, 256, kernel_size=(3, 3), stride=(1, 1), padding=(1, 1), bias=False)\n",
       "      (bn1): BatchNorm2d(256, eps=1e-05, momentum=0.1, affine=True, track_running_stats=True)\n",
       "      (relu): ReLU(inplace=True)\n",
       "      (conv2): Conv2d(256, 256, kernel_size=(3, 3), stride=(1, 1), padding=(1, 1), bias=False)\n",
       "      (bn2): BatchNorm2d(256, eps=1e-05, momentum=0.1, affine=True, track_running_stats=True)\n",
       "    )\n",
       "  )\n",
       "  (layer4): Sequential(\n",
       "    (0): BasicBlock(\n",
       "      (conv1): Conv2d(256, 512, kernel_size=(3, 3), stride=(2, 2), padding=(1, 1), bias=False)\n",
       "      (bn1): BatchNorm2d(512, eps=1e-05, momentum=0.1, affine=True, track_running_stats=True)\n",
       "      (relu): ReLU(inplace=True)\n",
       "      (conv2): Conv2d(512, 512, kernel_size=(3, 3), stride=(1, 1), padding=(1, 1), bias=False)\n",
       "      (bn2): BatchNorm2d(512, eps=1e-05, momentum=0.1, affine=True, track_running_stats=True)\n",
       "      (downsample): Sequential(\n",
       "        (0): Conv2d(256, 512, kernel_size=(1, 1), stride=(2, 2), bias=False)\n",
       "        (1): BatchNorm2d(512, eps=1e-05, momentum=0.1, affine=True, track_running_stats=True)\n",
       "      )\n",
       "    )\n",
       "    (1): BasicBlock(\n",
       "      (conv1): Conv2d(512, 512, kernel_size=(3, 3), stride=(1, 1), padding=(1, 1), bias=False)\n",
       "      (bn1): BatchNorm2d(512, eps=1e-05, momentum=0.1, affine=True, track_running_stats=True)\n",
       "      (relu): ReLU(inplace=True)\n",
       "      (conv2): Conv2d(512, 512, kernel_size=(3, 3), stride=(1, 1), padding=(1, 1), bias=False)\n",
       "      (bn2): BatchNorm2d(512, eps=1e-05, momentum=0.1, affine=True, track_running_stats=True)\n",
       "    )\n",
       "  )\n",
       "  (avgpool): AdaptiveAvgPool2d(output_size=(1, 1))\n",
       "  (fc): Linear(in_features=512, out_features=50, bias=True)\n",
       ")"
      ]
     },
     "execution_count": 3,
     "metadata": {},
     "output_type": "execute_result"
    }
   ],
   "source": [
    "model = models.resnet18(pretrained = False)\n",
    "model.conv1 = DynamicConv2D(in_channels = 3, out_channels = 64, kernel_size = 7, padding = 1)\n",
    "model.fc = torch.nn.Linear(model.fc.in_features, 50)\n",
    "model.to(device)"
   ]
  },
  {
   "cell_type": "code",
   "execution_count": 4,
   "id": "73cb2760-cf87-42a2-a1c8-c3a9a6822bb6",
   "metadata": {},
   "outputs": [
    {
     "name": "stderr",
     "output_type": "stream",
     "text": [
      "Training Epoch #1: 100%|██████████| 990/990 [03:12<00:00,  5.14it/s, accuracy=4.58, loss=3.55] \n"
     ]
    },
    {
     "name": "stdout",
     "output_type": "stream",
     "text": [
      "Train Epoch: 1, Loss: 3.811792, Accuracy: 4.58%\n"
     ]
    },
    {
     "name": "stderr",
     "output_type": "stream",
     "text": [
      "Validation Epoch #1: 100%|██████████| 8/8 [00:01<00:00,  6.56it/s, accuracy=10, loss=3.58]  \n"
     ]
    },
    {
     "name": "stdout",
     "output_type": "stream",
     "text": [
      "Validation Set: Average Loss: 3.5834, Accuracy: 10.00%\n",
      "Best Accuracy: 10.00%\n"
     ]
    },
    {
     "name": "stderr",
     "output_type": "stream",
     "text": [
      "Training Epoch #2: 100%|██████████| 990/990 [03:10<00:00,  5.21it/s, accuracy=10.7, loss=2.97] \n"
     ]
    },
    {
     "name": "stdout",
     "output_type": "stream",
     "text": [
      "Train Epoch: 2, Loss: 3.398106, Accuracy: 10.72%\n"
     ]
    },
    {
     "name": "stderr",
     "output_type": "stream",
     "text": [
      "Validation Epoch #2: 100%|██████████| 8/8 [00:01<00:00,  6.68it/s, accuracy=10.2, loss=3.42] \n"
     ]
    },
    {
     "name": "stdout",
     "output_type": "stream",
     "text": [
      "Validation Set: Average Loss: 3.4197, Accuracy: 10.22%\n",
      "Best Accuracy: 10.22%\n"
     ]
    },
    {
     "name": "stderr",
     "output_type": "stream",
     "text": [
      "Training Epoch #3: 100%|██████████| 990/990 [03:10<00:00,  5.21it/s, accuracy=15.6, loss=3.32] \n"
     ]
    },
    {
     "name": "stdout",
     "output_type": "stream",
     "text": [
      "Train Epoch: 3, Loss: 3.166864, Accuracy: 15.63%\n"
     ]
    },
    {
     "name": "stderr",
     "output_type": "stream",
     "text": [
      "Validation Epoch #3: 100%|██████████| 8/8 [00:01<00:00,  6.87it/s, accuracy=13.6, loss=3.19] \n"
     ]
    },
    {
     "name": "stdout",
     "output_type": "stream",
     "text": [
      "Validation Set: Average Loss: 3.1871, Accuracy: 13.56%\n",
      "Best Accuracy: 13.56%\n"
     ]
    },
    {
     "name": "stderr",
     "output_type": "stream",
     "text": [
      "Training Epoch #4: 100%|██████████| 990/990 [03:13<00:00,  5.12it/s, accuracy=20, loss=2.61]  \n"
     ]
    },
    {
     "name": "stdout",
     "output_type": "stream",
     "text": [
      "Train Epoch: 4, Loss: 2.961041, Accuracy: 19.99%\n"
     ]
    },
    {
     "name": "stderr",
     "output_type": "stream",
     "text": [
      "Validation Epoch #4: 100%|██████████| 8/8 [00:01<00:00,  6.78it/s, accuracy=19.8, loss=2.99] \n"
     ]
    },
    {
     "name": "stdout",
     "output_type": "stream",
     "text": [
      "Validation Set: Average Loss: 2.9865, Accuracy: 19.78%\n",
      "Best Accuracy: 19.78%\n"
     ]
    },
    {
     "name": "stderr",
     "output_type": "stream",
     "text": [
      "Training Epoch #5: 100%|██████████| 990/990 [03:11<00:00,  5.16it/s, accuracy=25.2, loss=2.51]\n"
     ]
    },
    {
     "name": "stdout",
     "output_type": "stream",
     "text": [
      "Train Epoch: 5, Loss: 2.728448, Accuracy: 25.15%\n"
     ]
    },
    {
     "name": "stderr",
     "output_type": "stream",
     "text": [
      "Validation Epoch #5: 100%|██████████| 8/8 [00:01<00:00,  6.99it/s, accuracy=25.3, loss=2.69] \n"
     ]
    },
    {
     "name": "stdout",
     "output_type": "stream",
     "text": [
      "Validation Set: Average Loss: 2.6858, Accuracy: 25.33%\n",
      "Best Accuracy: 25.33%\n"
     ]
    },
    {
     "name": "stderr",
     "output_type": "stream",
     "text": [
      "Training Epoch #6: 100%|██████████| 990/990 [03:11<00:00,  5.17it/s, accuracy=29.6, loss=2.17]\n"
     ]
    },
    {
     "name": "stdout",
     "output_type": "stream",
     "text": [
      "Train Epoch: 6, Loss: 2.531418, Accuracy: 29.60%\n"
     ]
    },
    {
     "name": "stderr",
     "output_type": "stream",
     "text": [
      "Validation Epoch #6: 100%|██████████| 8/8 [00:01<00:00,  6.74it/s, accuracy=26.7, loss=2.61] \n"
     ]
    },
    {
     "name": "stdout",
     "output_type": "stream",
     "text": [
      "Validation Set: Average Loss: 2.6096, Accuracy: 26.67%\n",
      "Best Accuracy: 26.67%\n"
     ]
    },
    {
     "name": "stderr",
     "output_type": "stream",
     "text": [
      "Training Epoch #7: 100%|██████████| 990/990 [03:10<00:00,  5.21it/s, accuracy=33.7, loss=2.62]\n"
     ]
    },
    {
     "name": "stdout",
     "output_type": "stream",
     "text": [
      "Train Epoch: 7, Loss: 2.357561, Accuracy: 33.67%\n"
     ]
    },
    {
     "name": "stderr",
     "output_type": "stream",
     "text": [
      "Validation Epoch #7: 100%|██████████| 8/8 [00:01<00:00,  6.89it/s, accuracy=26.9, loss=2.73] \n"
     ]
    },
    {
     "name": "stdout",
     "output_type": "stream",
     "text": [
      "Validation Set: Average Loss: 2.7325, Accuracy: 26.89%\n",
      "Best Accuracy: 26.89%\n"
     ]
    },
    {
     "name": "stderr",
     "output_type": "stream",
     "text": [
      "Training Epoch #8: 100%|██████████| 990/990 [03:10<00:00,  5.21it/s, accuracy=36.9, loss=2.32]\n"
     ]
    },
    {
     "name": "stdout",
     "output_type": "stream",
     "text": [
      "Train Epoch: 8, Loss: 2.220832, Accuracy: 36.87%\n"
     ]
    },
    {
     "name": "stderr",
     "output_type": "stream",
     "text": [
      "Validation Epoch #8: 100%|██████████| 8/8 [00:01<00:00,  6.68it/s, accuracy=30.7, loss=2.53] \n"
     ]
    },
    {
     "name": "stdout",
     "output_type": "stream",
     "text": [
      "Validation Set: Average Loss: 2.5290, Accuracy: 30.67%\n",
      "Best Accuracy: 30.67%\n"
     ]
    },
    {
     "name": "stderr",
     "output_type": "stream",
     "text": [
      "Training Epoch #9: 100%|██████████| 990/990 [03:08<00:00,  5.25it/s, accuracy=39.7, loss=2.88]\n"
     ]
    },
    {
     "name": "stdout",
     "output_type": "stream",
     "text": [
      "Train Epoch: 9, Loss: 2.111002, Accuracy: 39.73%\n"
     ]
    },
    {
     "name": "stderr",
     "output_type": "stream",
     "text": [
      "Validation Epoch #9: 100%|██████████| 8/8 [00:01<00:00,  6.89it/s, accuracy=31.6, loss=2.53] \n"
     ]
    },
    {
     "name": "stdout",
     "output_type": "stream",
     "text": [
      "Validation Set: Average Loss: 2.5331, Accuracy: 31.56%\n",
      "Best Accuracy: 31.56%\n"
     ]
    },
    {
     "name": "stderr",
     "output_type": "stream",
     "text": [
      "Training Epoch #10: 100%|██████████| 990/990 [03:06<00:00,  5.30it/s, accuracy=42, loss=1.88]  \n"
     ]
    },
    {
     "name": "stdout",
     "output_type": "stream",
     "text": [
      "Train Epoch: 10, Loss: 2.011834, Accuracy: 42.03%\n"
     ]
    },
    {
     "name": "stderr",
     "output_type": "stream",
     "text": [
      "Validation Epoch #10: 100%|██████████| 8/8 [00:01<00:00,  6.90it/s, accuracy=35.3, loss=2.39] \n"
     ]
    },
    {
     "name": "stdout",
     "output_type": "stream",
     "text": [
      "Validation Set: Average Loss: 2.3908, Accuracy: 35.33%\n",
      "Best Accuracy: 35.33%\n"
     ]
    },
    {
     "name": "stderr",
     "output_type": "stream",
     "text": [
      "Training Epoch #11: 100%|██████████| 990/990 [03:10<00:00,  5.20it/s, accuracy=44.3, loss=2.12]\n"
     ]
    },
    {
     "name": "stdout",
     "output_type": "stream",
     "text": [
      "Train Epoch: 11, Loss: 1.927272, Accuracy: 44.30%\n"
     ]
    },
    {
     "name": "stderr",
     "output_type": "stream",
     "text": [
      "Validation Epoch #11: 100%|██████████| 8/8 [00:01<00:00,  6.72it/s, accuracy=39.1, loss=2.25] \n"
     ]
    },
    {
     "name": "stdout",
     "output_type": "stream",
     "text": [
      "Validation Set: Average Loss: 2.2468, Accuracy: 39.11%\n",
      "Best Accuracy: 39.11%\n"
     ]
    },
    {
     "name": "stderr",
     "output_type": "stream",
     "text": [
      "Training Epoch #12: 100%|██████████| 990/990 [03:12<00:00,  5.14it/s, accuracy=46, loss=2.19]  \n"
     ]
    },
    {
     "name": "stdout",
     "output_type": "stream",
     "text": [
      "Train Epoch: 12, Loss: 1.852095, Accuracy: 46.03%\n"
     ]
    },
    {
     "name": "stderr",
     "output_type": "stream",
     "text": [
      "Validation Epoch #12: 100%|██████████| 8/8 [00:01<00:00,  6.73it/s, accuracy=38.2, loss=2.15] \n"
     ]
    },
    {
     "name": "stdout",
     "output_type": "stream",
     "text": [
      "Validation Set: Average Loss: 2.1513, Accuracy: 38.22%\n"
     ]
    },
    {
     "name": "stderr",
     "output_type": "stream",
     "text": [
      "Training Epoch #13: 100%|██████████| 990/990 [03:10<00:00,  5.18it/s, accuracy=47.8, loss=1.53]\n"
     ]
    },
    {
     "name": "stdout",
     "output_type": "stream",
     "text": [
      "Train Epoch: 13, Loss: 1.786854, Accuracy: 47.76%\n"
     ]
    },
    {
     "name": "stderr",
     "output_type": "stream",
     "text": [
      "Validation Epoch #13: 100%|██████████| 8/8 [00:01<00:00,  6.69it/s, accuracy=38.7, loss=2.27] \n"
     ]
    },
    {
     "name": "stdout",
     "output_type": "stream",
     "text": [
      "Validation Set: Average Loss: 2.2728, Accuracy: 38.67%\n"
     ]
    },
    {
     "name": "stderr",
     "output_type": "stream",
     "text": [
      "Training Epoch #14: 100%|██████████| 990/990 [03:08<00:00,  5.26it/s, accuracy=49.6, loss=1.83]\n"
     ]
    },
    {
     "name": "stdout",
     "output_type": "stream",
     "text": [
      "Train Epoch: 14, Loss: 1.724606, Accuracy: 49.56%\n"
     ]
    },
    {
     "name": "stderr",
     "output_type": "stream",
     "text": [
      "Validation Epoch #14: 100%|██████████| 8/8 [00:01<00:00,  6.88it/s, accuracy=35.1, loss=2.51] \n"
     ]
    },
    {
     "name": "stdout",
     "output_type": "stream",
     "text": [
      "Validation Set: Average Loss: 2.5074, Accuracy: 35.11%\n",
      "Adjusted lr:0.010000000000000002\n"
     ]
    },
    {
     "name": "stderr",
     "output_type": "stream",
     "text": [
      "Training Epoch #15: 100%|██████████| 990/990 [03:07<00:00,  5.28it/s, accuracy=61.6, loss=1]    \n"
     ]
    },
    {
     "name": "stdout",
     "output_type": "stream",
     "text": [
      "Train Epoch: 15, Loss: 1.299005, Accuracy: 61.56%\n"
     ]
    },
    {
     "name": "stderr",
     "output_type": "stream",
     "text": [
      "Validation Epoch #15: 100%|██████████| 8/8 [00:01<00:00,  6.71it/s, accuracy=48.9, loss=1.77] \n"
     ]
    },
    {
     "name": "stdout",
     "output_type": "stream",
     "text": [
      "Validation Set: Average Loss: 1.7658, Accuracy: 48.89%\n",
      "Best Accuracy: 48.89%\n"
     ]
    },
    {
     "name": "stderr",
     "output_type": "stream",
     "text": [
      "Training Epoch #16: 100%|██████████| 990/990 [03:08<00:00,  5.24it/s, accuracy=65.2, loss=0.86] \n"
     ]
    },
    {
     "name": "stdout",
     "output_type": "stream",
     "text": [
      "Train Epoch: 16, Loss: 1.158642, Accuracy: 65.21%\n"
     ]
    },
    {
     "name": "stderr",
     "output_type": "stream",
     "text": [
      "Validation Epoch #16: 100%|██████████| 8/8 [00:01<00:00,  6.66it/s, accuracy=50.7, loss=1.69] \n"
     ]
    },
    {
     "name": "stdout",
     "output_type": "stream",
     "text": [
      "Validation Set: Average Loss: 1.6905, Accuracy: 50.67%\n",
      "Best Accuracy: 50.67%\n"
     ]
    },
    {
     "name": "stderr",
     "output_type": "stream",
     "text": [
      "Training Epoch #17: 100%|██████████| 990/990 [03:09<00:00,  5.22it/s, accuracy=67.1, loss=1.14] \n"
     ]
    },
    {
     "name": "stdout",
     "output_type": "stream",
     "text": [
      "Train Epoch: 17, Loss: 1.087204, Accuracy: 67.14%\n"
     ]
    },
    {
     "name": "stderr",
     "output_type": "stream",
     "text": [
      "Validation Epoch #17: 100%|██████████| 8/8 [00:01<00:00,  6.78it/s, accuracy=55.1, loss=1.64] \n"
     ]
    },
    {
     "name": "stdout",
     "output_type": "stream",
     "text": [
      "Validation Set: Average Loss: 1.6441, Accuracy: 55.11%\n",
      "Best Accuracy: 55.11%\n"
     ]
    },
    {
     "name": "stderr",
     "output_type": "stream",
     "text": [
      "Training Epoch #18: 100%|██████████| 990/990 [03:12<00:00,  5.15it/s, accuracy=68.8, loss=1.03] \n"
     ]
    },
    {
     "name": "stdout",
     "output_type": "stream",
     "text": [
      "Train Epoch: 18, Loss: 1.029867, Accuracy: 68.82%\n"
     ]
    },
    {
     "name": "stderr",
     "output_type": "stream",
     "text": [
      "Validation Epoch #18: 100%|██████████| 8/8 [00:01<00:00,  6.60it/s, accuracy=51.8, loss=1.75] \n"
     ]
    },
    {
     "name": "stdout",
     "output_type": "stream",
     "text": [
      "Validation Set: Average Loss: 1.7514, Accuracy: 51.78%\n"
     ]
    },
    {
     "name": "stderr",
     "output_type": "stream",
     "text": [
      "Training Epoch #19: 100%|██████████| 990/990 [03:10<00:00,  5.21it/s, accuracy=70.4, loss=0.729]\n"
     ]
    },
    {
     "name": "stdout",
     "output_type": "stream",
     "text": [
      "Train Epoch: 19, Loss: 0.971468, Accuracy: 70.38%\n"
     ]
    },
    {
     "name": "stderr",
     "output_type": "stream",
     "text": [
      "Validation Epoch #19: 100%|██████████| 8/8 [00:01<00:00,  6.61it/s, accuracy=50.9, loss=1.74] \n"
     ]
    },
    {
     "name": "stdout",
     "output_type": "stream",
     "text": [
      "Validation Set: Average Loss: 1.7382, Accuracy: 50.89%\n"
     ]
    },
    {
     "name": "stderr",
     "output_type": "stream",
     "text": [
      "Training Epoch #20: 100%|██████████| 990/990 [03:09<00:00,  5.23it/s, accuracy=72.2, loss=0.878]\n"
     ]
    },
    {
     "name": "stdout",
     "output_type": "stream",
     "text": [
      "Train Epoch: 20, Loss: 0.912340, Accuracy: 72.23%\n"
     ]
    },
    {
     "name": "stderr",
     "output_type": "stream",
     "text": [
      "Validation Epoch #20: 100%|██████████| 8/8 [00:01<00:00,  6.59it/s, accuracy=52.2, loss=1.73] \n"
     ]
    },
    {
     "name": "stdout",
     "output_type": "stream",
     "text": [
      "Validation Set: Average Loss: 1.7251, Accuracy: 52.22%\n"
     ]
    },
    {
     "name": "stderr",
     "output_type": "stream",
     "text": [
      "Training Epoch #21: 100%|██████████| 990/990 [03:08<00:00,  5.25it/s, accuracy=73.5, loss=0.794]\n"
     ]
    },
    {
     "name": "stdout",
     "output_type": "stream",
     "text": [
      "Train Epoch: 21, Loss: 0.868522, Accuracy: 73.53%\n"
     ]
    },
    {
     "name": "stderr",
     "output_type": "stream",
     "text": [
      "Validation Epoch #21: 100%|██████████| 8/8 [00:01<00:00,  6.63it/s, accuracy=54.7, loss=1.72] \n"
     ]
    },
    {
     "name": "stdout",
     "output_type": "stream",
     "text": [
      "Validation Set: Average Loss: 1.7200, Accuracy: 54.67%\n"
     ]
    },
    {
     "name": "stderr",
     "output_type": "stream",
     "text": [
      "Training Epoch #22: 100%|██████████| 990/990 [03:10<00:00,  5.19it/s, accuracy=75, loss=0.983]  \n"
     ]
    },
    {
     "name": "stdout",
     "output_type": "stream",
     "text": [
      "Train Epoch: 22, Loss: 0.820496, Accuracy: 75.02%\n"
     ]
    },
    {
     "name": "stderr",
     "output_type": "stream",
     "text": [
      "Validation Epoch #22: 100%|██████████| 8/8 [00:01<00:00,  6.79it/s, accuracy=49.3, loss=1.82] \n"
     ]
    },
    {
     "name": "stdout",
     "output_type": "stream",
     "text": [
      "Validation Set: Average Loss: 1.8182, Accuracy: 49.33%\n"
     ]
    },
    {
     "name": "stderr",
     "output_type": "stream",
     "text": [
      "Training Epoch #23: 100%|██████████| 990/990 [03:12<00:00,  5.14it/s, accuracy=76.6, loss=0.727]\n"
     ]
    },
    {
     "name": "stdout",
     "output_type": "stream",
     "text": [
      "Train Epoch: 23, Loss: 0.774457, Accuracy: 76.59%\n"
     ]
    },
    {
     "name": "stderr",
     "output_type": "stream",
     "text": [
      "Validation Epoch #23: 100%|██████████| 8/8 [00:01<00:00,  6.69it/s, accuracy=52, loss=1.81]   \n"
     ]
    },
    {
     "name": "stdout",
     "output_type": "stream",
     "text": [
      "Validation Set: Average Loss: 1.8141, Accuracy: 52.00%\n"
     ]
    },
    {
     "name": "stderr",
     "output_type": "stream",
     "text": [
      "Training Epoch #24: 100%|██████████| 990/990 [03:11<00:00,  5.18it/s, accuracy=77.9, loss=0.615]\n"
     ]
    },
    {
     "name": "stdout",
     "output_type": "stream",
     "text": [
      "Train Epoch: 24, Loss: 0.731243, Accuracy: 77.88%\n"
     ]
    },
    {
     "name": "stderr",
     "output_type": "stream",
     "text": [
      "Validation Epoch #24: 100%|██████████| 8/8 [00:01<00:00,  6.65it/s, accuracy=51.3, loss=1.84] \n"
     ]
    },
    {
     "name": "stdout",
     "output_type": "stream",
     "text": [
      "Validation Set: Average Loss: 1.8445, Accuracy: 51.33%\n"
     ]
    },
    {
     "name": "stderr",
     "output_type": "stream",
     "text": [
      "Training Epoch #25: 100%|██████████| 990/990 [03:05<00:00,  5.35it/s, accuracy=78.9, loss=0.659]\n"
     ]
    },
    {
     "name": "stdout",
     "output_type": "stream",
     "text": [
      "Train Epoch: 25, Loss: 0.698982, Accuracy: 78.86%\n"
     ]
    },
    {
     "name": "stderr",
     "output_type": "stream",
     "text": [
      "Validation Epoch #25: 100%|██████████| 8/8 [00:01<00:00,  6.58it/s, accuracy=51.3, loss=1.84] \n"
     ]
    },
    {
     "name": "stdout",
     "output_type": "stream",
     "text": [
      "Validation Set: Average Loss: 1.8417, Accuracy: 51.33%\n"
     ]
    },
    {
     "name": "stderr",
     "output_type": "stream",
     "text": [
      "Training Epoch #26: 100%|██████████| 990/990 [03:09<00:00,  5.22it/s, accuracy=80.5, loss=0.637]\n"
     ]
    },
    {
     "name": "stdout",
     "output_type": "stream",
     "text": [
      "Train Epoch: 26, Loss: 0.660659, Accuracy: 80.47%\n"
     ]
    },
    {
     "name": "stderr",
     "output_type": "stream",
     "text": [
      "Validation Epoch #26: 100%|██████████| 8/8 [00:01<00:00,  6.77it/s, accuracy=51.3, loss=1.93] \n"
     ]
    },
    {
     "name": "stdout",
     "output_type": "stream",
     "text": [
      "Validation Set: Average Loss: 1.9322, Accuracy: 51.33%\n"
     ]
    },
    {
     "name": "stderr",
     "output_type": "stream",
     "text": [
      "Training Epoch #27: 100%|██████████| 990/990 [03:08<00:00,  5.26it/s, accuracy=81.1, loss=0.642]\n"
     ]
    },
    {
     "name": "stdout",
     "output_type": "stream",
     "text": [
      "Train Epoch: 27, Loss: 0.632375, Accuracy: 81.10%\n"
     ]
    },
    {
     "name": "stderr",
     "output_type": "stream",
     "text": [
      "Validation Epoch #27: 100%|██████████| 8/8 [00:01<00:00,  6.59it/s, accuracy=51.6, loss=1.93] \n"
     ]
    },
    {
     "name": "stdout",
     "output_type": "stream",
     "text": [
      "Validation Set: Average Loss: 1.9341, Accuracy: 51.56%\n"
     ]
    },
    {
     "name": "stderr",
     "output_type": "stream",
     "text": [
      "Training Epoch #28: 100%|██████████| 990/990 [03:10<00:00,  5.20it/s, accuracy=81.9, loss=0.672]\n"
     ]
    },
    {
     "name": "stdout",
     "output_type": "stream",
     "text": [
      "Train Epoch: 28, Loss: 0.599173, Accuracy: 81.93%\n"
     ]
    },
    {
     "name": "stderr",
     "output_type": "stream",
     "text": [
      "Validation Epoch #28: 100%|██████████| 8/8 [00:01<00:00,  6.72it/s, accuracy=49.6, loss=2.1]  \n"
     ]
    },
    {
     "name": "stdout",
     "output_type": "stream",
     "text": [
      "Validation Set: Average Loss: 2.0969, Accuracy: 49.56%\n"
     ]
    },
    {
     "name": "stderr",
     "output_type": "stream",
     "text": [
      "Training Epoch #29: 100%|██████████| 990/990 [03:10<00:00,  5.20it/s, accuracy=82.8, loss=0.402]\n"
     ]
    },
    {
     "name": "stdout",
     "output_type": "stream",
     "text": [
      "Train Epoch: 29, Loss: 0.579697, Accuracy: 82.82%\n"
     ]
    },
    {
     "name": "stderr",
     "output_type": "stream",
     "text": [
      "Validation Epoch #29: 100%|██████████| 8/8 [00:01<00:00,  6.78it/s, accuracy=50.4, loss=2.04] \n"
     ]
    },
    {
     "name": "stdout",
     "output_type": "stream",
     "text": [
      "Validation Set: Average Loss: 2.0369, Accuracy: 50.44%\n"
     ]
    },
    {
     "name": "stderr",
     "output_type": "stream",
     "text": [
      "Training Epoch #30: 100%|██████████| 990/990 [03:10<00:00,  5.20it/s, accuracy=83.6, loss=0.484]\n"
     ]
    },
    {
     "name": "stdout",
     "output_type": "stream",
     "text": [
      "Train Epoch: 30, Loss: 0.555541, Accuracy: 83.61%\n"
     ]
    },
    {
     "name": "stderr",
     "output_type": "stream",
     "text": [
      "Validation Epoch #30: 100%|██████████| 8/8 [00:01<00:00,  6.93it/s, accuracy=48.2, loss=2.11] "
     ]
    },
    {
     "name": "stdout",
     "output_type": "stream",
     "text": [
      "Validation Set: Average Loss: 2.1070, Accuracy: 48.22%\n",
      "Final Best Accuracy: 55.11%\n"
     ]
    },
    {
     "name": "stderr",
     "output_type": "stream",
     "text": [
      "\n"
     ]
    }
   ],
   "source": [
    "epochs = 30\n",
    "lr = 0.1\n",
    "momentum = 0.9\n",
    "weight_decay = 1e-4\n",
    "optimizer = optim.SGD(model.parameters(), lr = lr, momentum = momentum, weight_decay = weight_decay)\n",
    "\n",
    "def adjust_lr(optimizer, epoch):\n",
    "    if epoch in [epochs * 0.5, epochs * 0.75, epochs * 0.85]:\n",
    "        for p in optimizer.param_groups:\n",
    "            p['lr'] *= 0.1\n",
    "            lr = p['lr']\n",
    "        print('Adjusted lr:' + str(lr))\n",
    "\n",
    "def train(epoch):\n",
    "    model.train()\n",
    "    avg_loss = 0.\n",
    "    train_acc = 0.\n",
    "    adjust_lr(optimizer, epoch)\n",
    "    train_loader_len = len(train_loader.dataset)\n",
    "    train_loader_iter = tqdm(enumerate(train_loader), total = len(train_loader), desc = \"Training Epoch #{}\".format(epoch))\n",
    "    \n",
    "    for batch_idx, (data, label) in train_loader_iter:\n",
    "        data, label = data.to(device), label.to(device)\n",
    "        optimizer.zero_grad()\n",
    "        output = model(data)\n",
    "        loss = F.cross_entropy(output, label)\n",
    "        avg_loss += loss.item()\n",
    "        pred = output.data.max(1, keepdim = True)[1]\n",
    "        train_acc += pred.eq(label.data.view_as(pred)).cpu().sum()\n",
    "        loss.backward()\n",
    "        optimizer.step()\n",
    "        train_loader_iter.set_postfix(loss = loss.item(), accuracy = 100. * train_acc.item() / train_loader_len)    \n",
    "    print('Train Epoch: {}, Loss: {:.6f}, Accuracy: {:.2f}%'.format(epoch, avg_loss / len(train_loader), 100. * train_acc / train_loader_len))\n",
    "\n",
    "def val(epoch):\n",
    "    model.eval()\n",
    "    test_loss = 0.\n",
    "    correct = 0\n",
    "    val_loader_iter = tqdm(val_loader, total = len(val_loader), desc = \"Validation Epoch #{}\".format(epoch))\n",
    "    \n",
    "    with torch.no_grad():\n",
    "        for data, label in val_loader_iter:\n",
    "            data, label = data.to(device), label.to(device)\n",
    "            output = model(data)\n",
    "            test_loss += F.cross_entropy(output, label, reduction = 'sum').item()\n",
    "            pred = output.data.max(1, keepdim = True)[1]\n",
    "            correct += pred.eq(label.data.view_as(pred)).cpu().sum()\n",
    "            val_loader_iter.set_postfix(loss = test_loss / len(val_loader.dataset), accuracy = 100. * correct.item() / len(val_loader.dataset))\n",
    "    \n",
    "    test_loss /= len(val_loader.dataset)\n",
    "    accuracy = 100. * correct / len(val_loader.dataset)\n",
    "    print('Validation Set: Average Loss: {:.4f}, Accuracy: {:.2f}%'.format(test_loss, accuracy))\n",
    "    return accuracy\n",
    "\n",
    "best_val_acc = 0.\n",
    "for i in range(epochs):\n",
    "    train(i + 1)\n",
    "    temp_acc = val(i + 1)\n",
    "    if temp_acc > best_val_acc:\n",
    "        best_val_acc = temp_acc\n",
    "        torch.save(model.state_dict(), 'best_1.pt')\n",
    "        print('Best Accuracy: {:.2f}%'.format(best_val_acc))\n",
    "print('Final Best Accuracy: {:.2f}%'.format(best_val_acc))"
   ]
  },
  {
   "cell_type": "markdown",
   "id": "294607f1-fd2b-44fa-ab7f-2f202e29a785",
   "metadata": {},
   "source": [
    "## Load ResNet18 with DynamicConv2D"
   ]
  },
  {
   "cell_type": "code",
   "execution_count": 5,
   "id": "aff938b2-52a6-4d3f-b0c5-f5a38e385e2b",
   "metadata": {},
   "outputs": [
    {
     "data": {
      "text/plain": [
       "ResNet(\n",
       "  (conv1): DynamicConv2D()\n",
       "  (bn1): BatchNorm2d(64, eps=1e-05, momentum=0.1, affine=True, track_running_stats=True)\n",
       "  (relu): ReLU(inplace=True)\n",
       "  (maxpool): MaxPool2d(kernel_size=3, stride=2, padding=1, dilation=1, ceil_mode=False)\n",
       "  (layer1): Sequential(\n",
       "    (0): BasicBlock(\n",
       "      (conv1): Conv2d(64, 64, kernel_size=(3, 3), stride=(1, 1), padding=(1, 1), bias=False)\n",
       "      (bn1): BatchNorm2d(64, eps=1e-05, momentum=0.1, affine=True, track_running_stats=True)\n",
       "      (relu): ReLU(inplace=True)\n",
       "      (conv2): Conv2d(64, 64, kernel_size=(3, 3), stride=(1, 1), padding=(1, 1), bias=False)\n",
       "      (bn2): BatchNorm2d(64, eps=1e-05, momentum=0.1, affine=True, track_running_stats=True)\n",
       "    )\n",
       "    (1): BasicBlock(\n",
       "      (conv1): Conv2d(64, 64, kernel_size=(3, 3), stride=(1, 1), padding=(1, 1), bias=False)\n",
       "      (bn1): BatchNorm2d(64, eps=1e-05, momentum=0.1, affine=True, track_running_stats=True)\n",
       "      (relu): ReLU(inplace=True)\n",
       "      (conv2): Conv2d(64, 64, kernel_size=(3, 3), stride=(1, 1), padding=(1, 1), bias=False)\n",
       "      (bn2): BatchNorm2d(64, eps=1e-05, momentum=0.1, affine=True, track_running_stats=True)\n",
       "    )\n",
       "  )\n",
       "  (layer2): Sequential(\n",
       "    (0): BasicBlock(\n",
       "      (conv1): Conv2d(64, 128, kernel_size=(3, 3), stride=(2, 2), padding=(1, 1), bias=False)\n",
       "      (bn1): BatchNorm2d(128, eps=1e-05, momentum=0.1, affine=True, track_running_stats=True)\n",
       "      (relu): ReLU(inplace=True)\n",
       "      (conv2): Conv2d(128, 128, kernel_size=(3, 3), stride=(1, 1), padding=(1, 1), bias=False)\n",
       "      (bn2): BatchNorm2d(128, eps=1e-05, momentum=0.1, affine=True, track_running_stats=True)\n",
       "      (downsample): Sequential(\n",
       "        (0): Conv2d(64, 128, kernel_size=(1, 1), stride=(2, 2), bias=False)\n",
       "        (1): BatchNorm2d(128, eps=1e-05, momentum=0.1, affine=True, track_running_stats=True)\n",
       "      )\n",
       "    )\n",
       "    (1): BasicBlock(\n",
       "      (conv1): Conv2d(128, 128, kernel_size=(3, 3), stride=(1, 1), padding=(1, 1), bias=False)\n",
       "      (bn1): BatchNorm2d(128, eps=1e-05, momentum=0.1, affine=True, track_running_stats=True)\n",
       "      (relu): ReLU(inplace=True)\n",
       "      (conv2): Conv2d(128, 128, kernel_size=(3, 3), stride=(1, 1), padding=(1, 1), bias=False)\n",
       "      (bn2): BatchNorm2d(128, eps=1e-05, momentum=0.1, affine=True, track_running_stats=True)\n",
       "    )\n",
       "  )\n",
       "  (layer3): Sequential(\n",
       "    (0): BasicBlock(\n",
       "      (conv1): Conv2d(128, 256, kernel_size=(3, 3), stride=(2, 2), padding=(1, 1), bias=False)\n",
       "      (bn1): BatchNorm2d(256, eps=1e-05, momentum=0.1, affine=True, track_running_stats=True)\n",
       "      (relu): ReLU(inplace=True)\n",
       "      (conv2): Conv2d(256, 256, kernel_size=(3, 3), stride=(1, 1), padding=(1, 1), bias=False)\n",
       "      (bn2): BatchNorm2d(256, eps=1e-05, momentum=0.1, affine=True, track_running_stats=True)\n",
       "      (downsample): Sequential(\n",
       "        (0): Conv2d(128, 256, kernel_size=(1, 1), stride=(2, 2), bias=False)\n",
       "        (1): BatchNorm2d(256, eps=1e-05, momentum=0.1, affine=True, track_running_stats=True)\n",
       "      )\n",
       "    )\n",
       "    (1): BasicBlock(\n",
       "      (conv1): Conv2d(256, 256, kernel_size=(3, 3), stride=(1, 1), padding=(1, 1), bias=False)\n",
       "      (bn1): BatchNorm2d(256, eps=1e-05, momentum=0.1, affine=True, track_running_stats=True)\n",
       "      (relu): ReLU(inplace=True)\n",
       "      (conv2): Conv2d(256, 256, kernel_size=(3, 3), stride=(1, 1), padding=(1, 1), bias=False)\n",
       "      (bn2): BatchNorm2d(256, eps=1e-05, momentum=0.1, affine=True, track_running_stats=True)\n",
       "    )\n",
       "  )\n",
       "  (layer4): Sequential(\n",
       "    (0): BasicBlock(\n",
       "      (conv1): Conv2d(256, 512, kernel_size=(3, 3), stride=(2, 2), padding=(1, 1), bias=False)\n",
       "      (bn1): BatchNorm2d(512, eps=1e-05, momentum=0.1, affine=True, track_running_stats=True)\n",
       "      (relu): ReLU(inplace=True)\n",
       "      (conv2): Conv2d(512, 512, kernel_size=(3, 3), stride=(1, 1), padding=(1, 1), bias=False)\n",
       "      (bn2): BatchNorm2d(512, eps=1e-05, momentum=0.1, affine=True, track_running_stats=True)\n",
       "      (downsample): Sequential(\n",
       "        (0): Conv2d(256, 512, kernel_size=(1, 1), stride=(2, 2), bias=False)\n",
       "        (1): BatchNorm2d(512, eps=1e-05, momentum=0.1, affine=True, track_running_stats=True)\n",
       "      )\n",
       "    )\n",
       "    (1): BasicBlock(\n",
       "      (conv1): Conv2d(512, 512, kernel_size=(3, 3), stride=(1, 1), padding=(1, 1), bias=False)\n",
       "      (bn1): BatchNorm2d(512, eps=1e-05, momentum=0.1, affine=True, track_running_stats=True)\n",
       "      (relu): ReLU(inplace=True)\n",
       "      (conv2): Conv2d(512, 512, kernel_size=(3, 3), stride=(1, 1), padding=(1, 1), bias=False)\n",
       "      (bn2): BatchNorm2d(512, eps=1e-05, momentum=0.1, affine=True, track_running_stats=True)\n",
       "    )\n",
       "  )\n",
       "  (avgpool): AdaptiveAvgPool2d(output_size=(1, 1))\n",
       "  (fc): Linear(in_features=512, out_features=50, bias=True)\n",
       ")"
      ]
     },
     "execution_count": 5,
     "metadata": {},
     "output_type": "execute_result"
    }
   ],
   "source": [
    "model = models.resnet18(pretrained = False)\n",
    "model.conv1 = DynamicConv2D(in_channels = 3, out_channels = 64, kernel_size = 7, padding = 1)\n",
    "model.fc = torch.nn.Linear(model.fc.in_features, 50)\n",
    "model.load_state_dict(torch.load(\"best_1.pt\"))\n",
    "model.to(device)\n",
    "model.eval()"
   ]
  },
  {
   "cell_type": "markdown",
   "id": "8491740c-cf6e-46fc-9a36-ee7fcf641b8d",
   "metadata": {},
   "source": [
    "## Evaluate by Testing Dataset"
   ]
  },
  {
   "cell_type": "code",
   "execution_count": 6,
   "id": "69d9460f-1c0e-49f2-ac41-178fd97127e5",
   "metadata": {},
   "outputs": [
    {
     "name": "stderr",
     "output_type": "stream",
     "text": [
      "Testing: 100%|██████████| 8/8 [00:01<00:00,  6.80it/s, accuracy=54.2]\n"
     ]
    },
    {
     "name": "stdout",
     "output_type": "stream",
     "text": [
      "RGB Set: RGB, Accuracy: 54.22%, Precision: 56.11%, Recall: 54.22%, F1 Score: 53.69%, FLOPS: 926579712, Elapsed Time: 1.18 seconds\n"
     ]
    },
    {
     "name": "stderr",
     "output_type": "stream",
     "text": [
      "Testing: 100%|██████████| 8/8 [00:01<00:00,  6.80it/s, accuracy=53.6]\n"
     ]
    },
    {
     "name": "stdout",
     "output_type": "stream",
     "text": [
      "RGB Set: RG, Accuracy: 53.56%, Precision: 53.97%, Recall: 53.56%, F1 Score: 52.56%, FLOPS: 926579712, Elapsed Time: 1.18 seconds\n"
     ]
    },
    {
     "name": "stderr",
     "output_type": "stream",
     "text": [
      "Testing: 100%|██████████| 8/8 [00:01<00:00,  6.80it/s, accuracy=52]  \n"
     ]
    },
    {
     "name": "stdout",
     "output_type": "stream",
     "text": [
      "RGB Set: RB, Accuracy: 52.00%, Precision: 52.44%, Recall: 52.00%, F1 Score: 50.86%, FLOPS: 926579712, Elapsed Time: 1.18 seconds\n"
     ]
    },
    {
     "name": "stderr",
     "output_type": "stream",
     "text": [
      "Testing: 100%|██████████| 8/8 [00:01<00:00,  6.70it/s, accuracy=54.2]\n"
     ]
    },
    {
     "name": "stdout",
     "output_type": "stream",
     "text": [
      "RGB Set: GB, Accuracy: 54.22%, Precision: 56.55%, Recall: 54.22%, F1 Score: 54.08%, FLOPS: 926579712, Elapsed Time: 1.19 seconds\n"
     ]
    },
    {
     "name": "stderr",
     "output_type": "stream",
     "text": [
      "Testing: 100%|██████████| 8/8 [00:01<00:00,  6.78it/s, accuracy=50]  \n"
     ]
    },
    {
     "name": "stdout",
     "output_type": "stream",
     "text": [
      "RGB Set: R, Accuracy: 50.00%, Precision: 51.50%, Recall: 50.00%, F1 Score: 48.99%, FLOPS: 926579712, Elapsed Time: 1.18 seconds\n"
     ]
    },
    {
     "name": "stderr",
     "output_type": "stream",
     "text": [
      "Testing: 100%|██████████| 8/8 [00:01<00:00,  6.80it/s, accuracy=52.7]\n"
     ]
    },
    {
     "name": "stdout",
     "output_type": "stream",
     "text": [
      "RGB Set: G, Accuracy: 52.67%, Precision: 54.41%, Recall: 52.67%, F1 Score: 51.93%, FLOPS: 926579712, Elapsed Time: 1.18 seconds\n"
     ]
    },
    {
     "name": "stderr",
     "output_type": "stream",
     "text": [
      "Testing: 100%|██████████| 8/8 [00:01<00:00,  6.65it/s, accuracy=52]  \n"
     ]
    },
    {
     "name": "stdout",
     "output_type": "stream",
     "text": [
      "RGB Set: B, Accuracy: 52.00%, Precision: 54.26%, Recall: 52.00%, F1 Score: 51.44%, FLOPS: 926579712, Elapsed Time: 1.20 seconds\n"
     ]
    }
   ],
   "source": [
    "def test(model):\n",
    "    model.eval()\n",
    "    correct = 0\n",
    "    test_dataset = LoadData(file = 'test.txt', root = '')\n",
    "    test_loader = DataLoader(test_dataset, batch_size = 64, shuffle = False)\n",
    "    test_loader_len = len(test_loader.dataset)\n",
    "    test_loader_iter = tqdm(test_loader, total = len(test_loader), desc = \"Testing\")\n",
    "    \n",
    "    all_preds = []\n",
    "    all_targets = []\n",
    "    \n",
    "    start_time = time.time()\n",
    "    \n",
    "    with torch.no_grad():\n",
    "        for data, label in test_loader_iter:\n",
    "            data, label = data.to(device), label.to(device)\n",
    "            output = model(data)\n",
    "            pred = output.data.max(1, keepdim = True)[1]\n",
    "            correct += pred.eq(label.data.view_as(pred)).cpu().sum()\n",
    "            \n",
    "            all_preds.extend(pred.cpu().numpy())\n",
    "            all_targets.extend(label.cpu().numpy())\n",
    "            \n",
    "            test_loader_iter.set_postfix(accuracy = 100. * correct.item() / test_loader_len)\n",
    "    \n",
    "    end_time = time.time()\n",
    "    elapsed_time = end_time - start_time\n",
    "    \n",
    "    accuracy = 100. * correct / test_loader_len\n",
    "    \n",
    "\n",
    "    # Calculate precision, recall, and F1-score\n",
    "    precision = 100. * precision_score(all_targets, all_preds, average = 'macro')\n",
    "    recall = 100. * recall_score(all_targets, all_preds, average = 'macro')\n",
    "    f1 = 100. * f1_score(all_targets, all_preds, average = 'macro')\n",
    "    \n",
    "    # Calculate FLOPS\n",
    "    flops = torchprofile.profile_macs(model, torch.randn(1, *data.shape[1:]).to(device))\n",
    "    \n",
    "    return accuracy.item(), precision, recall, f1, flops, elapsed_time\n",
    "\n",
    "rgb_list = [\"RGB\", \"RG\", \"RB\", \"GB\", \"R\", \"G\", \"B\"]\n",
    "for rgb in rgb_list:\n",
    "    resnet_acc, resnet_precision, resnet_recall, resnet_f1, resnet_flops, resnet_elapsed_time = test(model)\n",
    "    print(f\"RGB Set: {rgb:s}, Accuracy: {resnet_acc:.2f}%, Precision: {resnet_precision:.2f}%, Recall: {resnet_recall:.2f}%, F1 Score: {resnet_f1:.2f}%, FLOPS: {resnet_flops:d}, Elapsed Time: {resnet_elapsed_time:.2f} seconds\")"
   ]
  },
  {
   "cell_type": "markdown",
   "id": "4f0fafd2-2044-4f59-a5d8-bf187e683a07",
   "metadata": {},
   "source": [
    "## Train ResNet18"
   ]
  },
  {
   "cell_type": "code",
   "execution_count": 7,
   "id": "277fd6d4-2d3b-4f6d-af41-5094caa7a219",
   "metadata": {},
   "outputs": [
    {
     "name": "stderr",
     "output_type": "stream",
     "text": [
      "/home/re6121029/.local/lib/python3.11/site-packages/torchvision/models/_utils.py:208: UserWarning: The parameter 'pretrained' is deprecated since 0.13 and may be removed in the future, please use 'weights' instead.\n",
      "  warnings.warn(\n",
      "/home/re6121029/.local/lib/python3.11/site-packages/torchvision/models/_utils.py:223: UserWarning: Arguments other than a weight enum or `None` for 'weights' are deprecated since 0.13 and may be removed in the future. The current behavior is equivalent to passing `weights=None`.\n",
      "  warnings.warn(msg)\n"
     ]
    },
    {
     "data": {
      "text/plain": [
       "ResNet(\n",
       "  (conv1): Conv2d(3, 64, kernel_size=(7, 7), stride=(2, 2), padding=(3, 3), bias=False)\n",
       "  (bn1): BatchNorm2d(64, eps=1e-05, momentum=0.1, affine=True, track_running_stats=True)\n",
       "  (relu): ReLU(inplace=True)\n",
       "  (maxpool): MaxPool2d(kernel_size=3, stride=2, padding=1, dilation=1, ceil_mode=False)\n",
       "  (layer1): Sequential(\n",
       "    (0): BasicBlock(\n",
       "      (conv1): Conv2d(64, 64, kernel_size=(3, 3), stride=(1, 1), padding=(1, 1), bias=False)\n",
       "      (bn1): BatchNorm2d(64, eps=1e-05, momentum=0.1, affine=True, track_running_stats=True)\n",
       "      (relu): ReLU(inplace=True)\n",
       "      (conv2): Conv2d(64, 64, kernel_size=(3, 3), stride=(1, 1), padding=(1, 1), bias=False)\n",
       "      (bn2): BatchNorm2d(64, eps=1e-05, momentum=0.1, affine=True, track_running_stats=True)\n",
       "    )\n",
       "    (1): BasicBlock(\n",
       "      (conv1): Conv2d(64, 64, kernel_size=(3, 3), stride=(1, 1), padding=(1, 1), bias=False)\n",
       "      (bn1): BatchNorm2d(64, eps=1e-05, momentum=0.1, affine=True, track_running_stats=True)\n",
       "      (relu): ReLU(inplace=True)\n",
       "      (conv2): Conv2d(64, 64, kernel_size=(3, 3), stride=(1, 1), padding=(1, 1), bias=False)\n",
       "      (bn2): BatchNorm2d(64, eps=1e-05, momentum=0.1, affine=True, track_running_stats=True)\n",
       "    )\n",
       "  )\n",
       "  (layer2): Sequential(\n",
       "    (0): BasicBlock(\n",
       "      (conv1): Conv2d(64, 128, kernel_size=(3, 3), stride=(2, 2), padding=(1, 1), bias=False)\n",
       "      (bn1): BatchNorm2d(128, eps=1e-05, momentum=0.1, affine=True, track_running_stats=True)\n",
       "      (relu): ReLU(inplace=True)\n",
       "      (conv2): Conv2d(128, 128, kernel_size=(3, 3), stride=(1, 1), padding=(1, 1), bias=False)\n",
       "      (bn2): BatchNorm2d(128, eps=1e-05, momentum=0.1, affine=True, track_running_stats=True)\n",
       "      (downsample): Sequential(\n",
       "        (0): Conv2d(64, 128, kernel_size=(1, 1), stride=(2, 2), bias=False)\n",
       "        (1): BatchNorm2d(128, eps=1e-05, momentum=0.1, affine=True, track_running_stats=True)\n",
       "      )\n",
       "    )\n",
       "    (1): BasicBlock(\n",
       "      (conv1): Conv2d(128, 128, kernel_size=(3, 3), stride=(1, 1), padding=(1, 1), bias=False)\n",
       "      (bn1): BatchNorm2d(128, eps=1e-05, momentum=0.1, affine=True, track_running_stats=True)\n",
       "      (relu): ReLU(inplace=True)\n",
       "      (conv2): Conv2d(128, 128, kernel_size=(3, 3), stride=(1, 1), padding=(1, 1), bias=False)\n",
       "      (bn2): BatchNorm2d(128, eps=1e-05, momentum=0.1, affine=True, track_running_stats=True)\n",
       "    )\n",
       "  )\n",
       "  (layer3): Sequential(\n",
       "    (0): BasicBlock(\n",
       "      (conv1): Conv2d(128, 256, kernel_size=(3, 3), stride=(2, 2), padding=(1, 1), bias=False)\n",
       "      (bn1): BatchNorm2d(256, eps=1e-05, momentum=0.1, affine=True, track_running_stats=True)\n",
       "      (relu): ReLU(inplace=True)\n",
       "      (conv2): Conv2d(256, 256, kernel_size=(3, 3), stride=(1, 1), padding=(1, 1), bias=False)\n",
       "      (bn2): BatchNorm2d(256, eps=1e-05, momentum=0.1, affine=True, track_running_stats=True)\n",
       "      (downsample): Sequential(\n",
       "        (0): Conv2d(128, 256, kernel_size=(1, 1), stride=(2, 2), bias=False)\n",
       "        (1): BatchNorm2d(256, eps=1e-05, momentum=0.1, affine=True, track_running_stats=True)\n",
       "      )\n",
       "    )\n",
       "    (1): BasicBlock(\n",
       "      (conv1): Conv2d(256, 256, kernel_size=(3, 3), stride=(1, 1), padding=(1, 1), bias=False)\n",
       "      (bn1): BatchNorm2d(256, eps=1e-05, momentum=0.1, affine=True, track_running_stats=True)\n",
       "      (relu): ReLU(inplace=True)\n",
       "      (conv2): Conv2d(256, 256, kernel_size=(3, 3), stride=(1, 1), padding=(1, 1), bias=False)\n",
       "      (bn2): BatchNorm2d(256, eps=1e-05, momentum=0.1, affine=True, track_running_stats=True)\n",
       "    )\n",
       "  )\n",
       "  (layer4): Sequential(\n",
       "    (0): BasicBlock(\n",
       "      (conv1): Conv2d(256, 512, kernel_size=(3, 3), stride=(2, 2), padding=(1, 1), bias=False)\n",
       "      (bn1): BatchNorm2d(512, eps=1e-05, momentum=0.1, affine=True, track_running_stats=True)\n",
       "      (relu): ReLU(inplace=True)\n",
       "      (conv2): Conv2d(512, 512, kernel_size=(3, 3), stride=(1, 1), padding=(1, 1), bias=False)\n",
       "      (bn2): BatchNorm2d(512, eps=1e-05, momentum=0.1, affine=True, track_running_stats=True)\n",
       "      (downsample): Sequential(\n",
       "        (0): Conv2d(256, 512, kernel_size=(1, 1), stride=(2, 2), bias=False)\n",
       "        (1): BatchNorm2d(512, eps=1e-05, momentum=0.1, affine=True, track_running_stats=True)\n",
       "      )\n",
       "    )\n",
       "    (1): BasicBlock(\n",
       "      (conv1): Conv2d(512, 512, kernel_size=(3, 3), stride=(1, 1), padding=(1, 1), bias=False)\n",
       "      (bn1): BatchNorm2d(512, eps=1e-05, momentum=0.1, affine=True, track_running_stats=True)\n",
       "      (relu): ReLU(inplace=True)\n",
       "      (conv2): Conv2d(512, 512, kernel_size=(3, 3), stride=(1, 1), padding=(1, 1), bias=False)\n",
       "      (bn2): BatchNorm2d(512, eps=1e-05, momentum=0.1, affine=True, track_running_stats=True)\n",
       "    )\n",
       "  )\n",
       "  (avgpool): AdaptiveAvgPool2d(output_size=(1, 1))\n",
       "  (fc): Linear(in_features=512, out_features=50, bias=True)\n",
       ")"
      ]
     },
     "execution_count": 7,
     "metadata": {},
     "output_type": "execute_result"
    }
   ],
   "source": [
    "model = models.resnet18(pretrained = False)\n",
    "model.fc = torch.nn.Linear(model.fc.in_features, 50)\n",
    "model.to(device)"
   ]
  },
  {
   "cell_type": "code",
   "execution_count": 8,
   "id": "51f61198-6891-4711-9df1-448667f5b844",
   "metadata": {},
   "outputs": [
    {
     "name": "stderr",
     "output_type": "stream",
     "text": [
      "Training Epoch #1: 100%|██████████| 990/990 [02:51<00:00,  5.77it/s, accuracy=4.09, loss=3.71] \n"
     ]
    },
    {
     "name": "stdout",
     "output_type": "stream",
     "text": [
      "Train Epoch: 1, Loss: 3.841783, Accuracy: 4.09%\n"
     ]
    },
    {
     "name": "stderr",
     "output_type": "stream",
     "text": [
      "Validation Epoch #1: 100%|██████████| 8/8 [00:01<00:00,  6.75it/s, accuracy=6, loss=3.64]    \n"
     ]
    },
    {
     "name": "stdout",
     "output_type": "stream",
     "text": [
      "Validation Set: Average Loss: 3.6436, Accuracy: 6.00%\n",
      "Best Accuracy: 6.00%\n"
     ]
    },
    {
     "name": "stderr",
     "output_type": "stream",
     "text": [
      "Training Epoch #2: 100%|██████████| 990/990 [02:53<00:00,  5.71it/s, accuracy=7.14, loss=3.55] \n"
     ]
    },
    {
     "name": "stdout",
     "output_type": "stream",
     "text": [
      "Train Epoch: 2, Loss: 3.622614, Accuracy: 7.14%\n"
     ]
    },
    {
     "name": "stderr",
     "output_type": "stream",
     "text": [
      "Validation Epoch #2: 100%|██████████| 8/8 [00:01<00:00,  7.06it/s, accuracy=10.4, loss=3.54] \n"
     ]
    },
    {
     "name": "stdout",
     "output_type": "stream",
     "text": [
      "Validation Set: Average Loss: 3.5381, Accuracy: 10.44%\n",
      "Best Accuracy: 10.44%\n"
     ]
    },
    {
     "name": "stderr",
     "output_type": "stream",
     "text": [
      "Training Epoch #3: 100%|██████████| 990/990 [02:53<00:00,  5.71it/s, accuracy=10.3, loss=3.85] \n"
     ]
    },
    {
     "name": "stdout",
     "output_type": "stream",
     "text": [
      "Train Epoch: 3, Loss: 3.464272, Accuracy: 10.29%\n"
     ]
    },
    {
     "name": "stderr",
     "output_type": "stream",
     "text": [
      "Validation Epoch #3: 100%|██████████| 8/8 [00:01<00:00,  6.85it/s, accuracy=10.4, loss=3.44]  \n"
     ]
    },
    {
     "name": "stdout",
     "output_type": "stream",
     "text": [
      "Validation Set: Average Loss: 3.4352, Accuracy: 10.44%\n"
     ]
    },
    {
     "name": "stderr",
     "output_type": "stream",
     "text": [
      "Training Epoch #4: 100%|██████████| 990/990 [02:53<00:00,  5.70it/s, accuracy=13.5, loss=3.3]  \n"
     ]
    },
    {
     "name": "stdout",
     "output_type": "stream",
     "text": [
      "Train Epoch: 4, Loss: 3.298670, Accuracy: 13.49%\n"
     ]
    },
    {
     "name": "stderr",
     "output_type": "stream",
     "text": [
      "Validation Epoch #4: 100%|██████████| 8/8 [00:01<00:00,  6.94it/s, accuracy=13.8, loss=3.42] \n"
     ]
    },
    {
     "name": "stdout",
     "output_type": "stream",
     "text": [
      "Validation Set: Average Loss: 3.4183, Accuracy: 13.78%\n",
      "Best Accuracy: 13.78%\n"
     ]
    },
    {
     "name": "stderr",
     "output_type": "stream",
     "text": [
      "Training Epoch #5: 100%|██████████| 990/990 [02:53<00:00,  5.71it/s, accuracy=16.2, loss=2.98]\n"
     ]
    },
    {
     "name": "stdout",
     "output_type": "stream",
     "text": [
      "Train Epoch: 5, Loss: 3.164157, Accuracy: 16.16%\n"
     ]
    },
    {
     "name": "stderr",
     "output_type": "stream",
     "text": [
      "Validation Epoch #5: 100%|██████████| 8/8 [00:01<00:00,  7.00it/s, accuracy=18.7, loss=3.24] \n"
     ]
    },
    {
     "name": "stdout",
     "output_type": "stream",
     "text": [
      "Validation Set: Average Loss: 3.2370, Accuracy: 18.67%\n",
      "Best Accuracy: 18.67%\n"
     ]
    },
    {
     "name": "stderr",
     "output_type": "stream",
     "text": [
      "Training Epoch #6: 100%|██████████| 990/990 [02:53<00:00,  5.72it/s, accuracy=19, loss=3.02]  \n"
     ]
    },
    {
     "name": "stdout",
     "output_type": "stream",
     "text": [
      "Train Epoch: 6, Loss: 3.027364, Accuracy: 19.02%\n"
     ]
    },
    {
     "name": "stderr",
     "output_type": "stream",
     "text": [
      "Validation Epoch #6: 100%|██████████| 8/8 [00:01<00:00,  7.05it/s, accuracy=15.3, loss=3.38] \n"
     ]
    },
    {
     "name": "stdout",
     "output_type": "stream",
     "text": [
      "Validation Set: Average Loss: 3.3764, Accuracy: 15.33%\n"
     ]
    },
    {
     "name": "stderr",
     "output_type": "stream",
     "text": [
      "Training Epoch #7: 100%|██████████| 990/990 [02:53<00:00,  5.70it/s, accuracy=21.7, loss=3.09]\n"
     ]
    },
    {
     "name": "stdout",
     "output_type": "stream",
     "text": [
      "Train Epoch: 7, Loss: 2.901107, Accuracy: 21.66%\n"
     ]
    },
    {
     "name": "stderr",
     "output_type": "stream",
     "text": [
      "Validation Epoch #7: 100%|██████████| 8/8 [00:01<00:00,  7.17it/s, accuracy=18.4, loss=3.12] \n"
     ]
    },
    {
     "name": "stdout",
     "output_type": "stream",
     "text": [
      "Validation Set: Average Loss: 3.1183, Accuracy: 18.44%\n"
     ]
    },
    {
     "name": "stderr",
     "output_type": "stream",
     "text": [
      "Training Epoch #8: 100%|██████████| 990/990 [02:53<00:00,  5.72it/s, accuracy=24, loss=3.34]  \n"
     ]
    },
    {
     "name": "stdout",
     "output_type": "stream",
     "text": [
      "Train Epoch: 8, Loss: 2.797129, Accuracy: 23.98%\n"
     ]
    },
    {
     "name": "stderr",
     "output_type": "stream",
     "text": [
      "Validation Epoch #8: 100%|██████████| 8/8 [00:01<00:00,  7.04it/s, accuracy=20.7, loss=2.98]\n"
     ]
    },
    {
     "name": "stdout",
     "output_type": "stream",
     "text": [
      "Validation Set: Average Loss: 2.9762, Accuracy: 20.67%\n",
      "Best Accuracy: 20.67%\n"
     ]
    },
    {
     "name": "stderr",
     "output_type": "stream",
     "text": [
      "Training Epoch #9: 100%|██████████| 990/990 [02:53<00:00,  5.70it/s, accuracy=26.5, loss=2.81]\n"
     ]
    },
    {
     "name": "stdout",
     "output_type": "stream",
     "text": [
      "Train Epoch: 9, Loss: 2.691924, Accuracy: 26.54%\n"
     ]
    },
    {
     "name": "stderr",
     "output_type": "stream",
     "text": [
      "Validation Epoch #9: 100%|██████████| 8/8 [00:01<00:00,  6.99it/s, accuracy=18, loss=3.27]   \n"
     ]
    },
    {
     "name": "stdout",
     "output_type": "stream",
     "text": [
      "Validation Set: Average Loss: 3.2705, Accuracy: 18.00%\n"
     ]
    },
    {
     "name": "stderr",
     "output_type": "stream",
     "text": [
      "Training Epoch #10: 100%|██████████| 990/990 [02:53<00:00,  5.71it/s, accuracy=28.5, loss=2.69]\n"
     ]
    },
    {
     "name": "stdout",
     "output_type": "stream",
     "text": [
      "Train Epoch: 10, Loss: 2.605707, Accuracy: 28.53%\n"
     ]
    },
    {
     "name": "stderr",
     "output_type": "stream",
     "text": [
      "Validation Epoch #10: 100%|██████████| 8/8 [00:01<00:00,  7.09it/s, accuracy=24.4, loss=2.79] \n"
     ]
    },
    {
     "name": "stdout",
     "output_type": "stream",
     "text": [
      "Validation Set: Average Loss: 2.7882, Accuracy: 24.44%\n",
      "Best Accuracy: 24.44%\n"
     ]
    },
    {
     "name": "stderr",
     "output_type": "stream",
     "text": [
      "Training Epoch #11: 100%|██████████| 990/990 [02:53<00:00,  5.70it/s, accuracy=30.5, loss=3]   \n"
     ]
    },
    {
     "name": "stdout",
     "output_type": "stream",
     "text": [
      "Train Epoch: 11, Loss: 2.513652, Accuracy: 30.50%\n"
     ]
    },
    {
     "name": "stderr",
     "output_type": "stream",
     "text": [
      "Validation Epoch #11: 100%|██████████| 8/8 [00:01<00:00,  6.96it/s, accuracy=22.9, loss=3.06] \n"
     ]
    },
    {
     "name": "stdout",
     "output_type": "stream",
     "text": [
      "Validation Set: Average Loss: 3.0596, Accuracy: 22.89%\n"
     ]
    },
    {
     "name": "stderr",
     "output_type": "stream",
     "text": [
      "Training Epoch #12: 100%|██████████| 990/990 [02:53<00:00,  5.70it/s, accuracy=32.3, loss=2.57]\n"
     ]
    },
    {
     "name": "stdout",
     "output_type": "stream",
     "text": [
      "Train Epoch: 12, Loss: 2.436449, Accuracy: 32.30%\n"
     ]
    },
    {
     "name": "stderr",
     "output_type": "stream",
     "text": [
      "Validation Epoch #12: 100%|██████████| 8/8 [00:01<00:00,  7.03it/s, accuracy=26.2, loss=2.81] \n"
     ]
    },
    {
     "name": "stdout",
     "output_type": "stream",
     "text": [
      "Validation Set: Average Loss: 2.8121, Accuracy: 26.22%\n",
      "Best Accuracy: 26.22%\n"
     ]
    },
    {
     "name": "stderr",
     "output_type": "stream",
     "text": [
      "Training Epoch #13: 100%|██████████| 990/990 [02:54<00:00,  5.69it/s, accuracy=34.5, loss=2.55]\n"
     ]
    },
    {
     "name": "stdout",
     "output_type": "stream",
     "text": [
      "Train Epoch: 13, Loss: 2.350140, Accuracy: 34.46%\n"
     ]
    },
    {
     "name": "stderr",
     "output_type": "stream",
     "text": [
      "Validation Epoch #13: 100%|██████████| 8/8 [00:01<00:00,  6.92it/s, accuracy=24.7, loss=2.84] \n"
     ]
    },
    {
     "name": "stdout",
     "output_type": "stream",
     "text": [
      "Validation Set: Average Loss: 2.8418, Accuracy: 24.67%\n"
     ]
    },
    {
     "name": "stderr",
     "output_type": "stream",
     "text": [
      "Training Epoch #14: 100%|██████████| 990/990 [02:53<00:00,  5.69it/s, accuracy=36.1, loss=2.25]\n"
     ]
    },
    {
     "name": "stdout",
     "output_type": "stream",
     "text": [
      "Train Epoch: 14, Loss: 2.274475, Accuracy: 36.15%\n"
     ]
    },
    {
     "name": "stderr",
     "output_type": "stream",
     "text": [
      "Validation Epoch #14: 100%|██████████| 8/8 [00:01<00:00,  7.01it/s, accuracy=26.4, loss=2.8]  \n"
     ]
    },
    {
     "name": "stdout",
     "output_type": "stream",
     "text": [
      "Validation Set: Average Loss: 2.8005, Accuracy: 26.44%\n",
      "Best Accuracy: 26.44%\n",
      "Adjusted lr:0.010000000000000002\n"
     ]
    },
    {
     "name": "stderr",
     "output_type": "stream",
     "text": [
      "Training Epoch #15: 100%|██████████| 990/990 [02:53<00:00,  5.71it/s, accuracy=47.2, loss=1.47]\n"
     ]
    },
    {
     "name": "stdout",
     "output_type": "stream",
     "text": [
      "Train Epoch: 15, Loss: 1.852447, Accuracy: 47.15%\n"
     ]
    },
    {
     "name": "stderr",
     "output_type": "stream",
     "text": [
      "Validation Epoch #15: 100%|██████████| 8/8 [00:01<00:00,  7.07it/s, accuracy=36, loss=2.27]   \n"
     ]
    },
    {
     "name": "stdout",
     "output_type": "stream",
     "text": [
      "Validation Set: Average Loss: 2.2663, Accuracy: 36.00%\n",
      "Best Accuracy: 36.00%\n"
     ]
    },
    {
     "name": "stderr",
     "output_type": "stream",
     "text": [
      "Training Epoch #16: 100%|██████████| 990/990 [02:53<00:00,  5.70it/s, accuracy=51.3, loss=2.37]\n"
     ]
    },
    {
     "name": "stdout",
     "output_type": "stream",
     "text": [
      "Train Epoch: 16, Loss: 1.695119, Accuracy: 51.30%\n"
     ]
    },
    {
     "name": "stderr",
     "output_type": "stream",
     "text": [
      "Validation Epoch #16: 100%|██████████| 8/8 [00:01<00:00,  6.92it/s, accuracy=35.6, loss=2.38] \n"
     ]
    },
    {
     "name": "stdout",
     "output_type": "stream",
     "text": [
      "Validation Set: Average Loss: 2.3775, Accuracy: 35.56%\n"
     ]
    },
    {
     "name": "stderr",
     "output_type": "stream",
     "text": [
      "Training Epoch #17: 100%|██████████| 990/990 [02:53<00:00,  5.72it/s, accuracy=53.3, loss=2.21]\n"
     ]
    },
    {
     "name": "stdout",
     "output_type": "stream",
     "text": [
      "Train Epoch: 17, Loss: 1.609303, Accuracy: 53.31%\n"
     ]
    },
    {
     "name": "stderr",
     "output_type": "stream",
     "text": [
      "Validation Epoch #17: 100%|██████████| 8/8 [00:01<00:00,  7.00it/s, accuracy=34.4, loss=2.39] \n"
     ]
    },
    {
     "name": "stdout",
     "output_type": "stream",
     "text": [
      "Validation Set: Average Loss: 2.3894, Accuracy: 34.44%\n"
     ]
    },
    {
     "name": "stderr",
     "output_type": "stream",
     "text": [
      "Training Epoch #18: 100%|██████████| 990/990 [02:53<00:00,  5.71it/s, accuracy=55.6, loss=1.85] \n"
     ]
    },
    {
     "name": "stdout",
     "output_type": "stream",
     "text": [
      "Train Epoch: 18, Loss: 1.530552, Accuracy: 55.63%\n"
     ]
    },
    {
     "name": "stderr",
     "output_type": "stream",
     "text": [
      "Validation Epoch #18: 100%|██████████| 8/8 [00:01<00:00,  6.85it/s, accuracy=37.1, loss=2.34] \n"
     ]
    },
    {
     "name": "stdout",
     "output_type": "stream",
     "text": [
      "Validation Set: Average Loss: 2.3381, Accuracy: 37.11%\n",
      "Best Accuracy: 37.11%\n"
     ]
    },
    {
     "name": "stderr",
     "output_type": "stream",
     "text": [
      "Training Epoch #19: 100%|██████████| 990/990 [02:54<00:00,  5.69it/s, accuracy=57.7, loss=1.27] \n"
     ]
    },
    {
     "name": "stdout",
     "output_type": "stream",
     "text": [
      "Train Epoch: 19, Loss: 1.445913, Accuracy: 57.74%\n"
     ]
    },
    {
     "name": "stderr",
     "output_type": "stream",
     "text": [
      "Validation Epoch #19: 100%|██████████| 8/8 [00:01<00:00,  6.99it/s, accuracy=36.4, loss=2.39] \n"
     ]
    },
    {
     "name": "stdout",
     "output_type": "stream",
     "text": [
      "Validation Set: Average Loss: 2.3884, Accuracy: 36.44%\n"
     ]
    },
    {
     "name": "stderr",
     "output_type": "stream",
     "text": [
      "Training Epoch #20: 100%|██████████| 990/990 [02:53<00:00,  5.70it/s, accuracy=59.7, loss=1.69] \n"
     ]
    },
    {
     "name": "stdout",
     "output_type": "stream",
     "text": [
      "Train Epoch: 20, Loss: 1.382534, Accuracy: 59.67%\n"
     ]
    },
    {
     "name": "stderr",
     "output_type": "stream",
     "text": [
      "Validation Epoch #20: 100%|██████████| 8/8 [00:01<00:00,  6.82it/s, accuracy=36, loss=2.45]   \n"
     ]
    },
    {
     "name": "stdout",
     "output_type": "stream",
     "text": [
      "Validation Set: Average Loss: 2.4470, Accuracy: 36.00%\n"
     ]
    },
    {
     "name": "stderr",
     "output_type": "stream",
     "text": [
      "Training Epoch #21: 100%|██████████| 990/990 [02:53<00:00,  5.70it/s, accuracy=61.7, loss=1.81] \n"
     ]
    },
    {
     "name": "stdout",
     "output_type": "stream",
     "text": [
      "Train Epoch: 21, Loss: 1.314273, Accuracy: 61.72%\n"
     ]
    },
    {
     "name": "stderr",
     "output_type": "stream",
     "text": [
      "Validation Epoch #21: 100%|██████████| 8/8 [00:01<00:00,  6.97it/s, accuracy=34, loss=2.51]   \n"
     ]
    },
    {
     "name": "stdout",
     "output_type": "stream",
     "text": [
      "Validation Set: Average Loss: 2.5071, Accuracy: 34.00%\n"
     ]
    },
    {
     "name": "stderr",
     "output_type": "stream",
     "text": [
      "Training Epoch #22: 100%|██████████| 990/990 [02:53<00:00,  5.70it/s, accuracy=63.8, loss=1.16] \n"
     ]
    },
    {
     "name": "stdout",
     "output_type": "stream",
     "text": [
      "Train Epoch: 22, Loss: 1.240137, Accuracy: 63.84%\n"
     ]
    },
    {
     "name": "stderr",
     "output_type": "stream",
     "text": [
      "Validation Epoch #22: 100%|██████████| 8/8 [00:01<00:00,  7.02it/s, accuracy=35.3, loss=2.48] \n"
     ]
    },
    {
     "name": "stdout",
     "output_type": "stream",
     "text": [
      "Validation Set: Average Loss: 2.4760, Accuracy: 35.33%\n"
     ]
    },
    {
     "name": "stderr",
     "output_type": "stream",
     "text": [
      "Training Epoch #23: 100%|██████████| 990/990 [02:53<00:00,  5.70it/s, accuracy=66.2, loss=1.46] \n"
     ]
    },
    {
     "name": "stdout",
     "output_type": "stream",
     "text": [
      "Train Epoch: 23, Loss: 1.165202, Accuracy: 66.16%\n"
     ]
    },
    {
     "name": "stderr",
     "output_type": "stream",
     "text": [
      "Validation Epoch #23: 100%|██████████| 8/8 [00:01<00:00,  6.90it/s, accuracy=34.7, loss=2.49] \n"
     ]
    },
    {
     "name": "stdout",
     "output_type": "stream",
     "text": [
      "Validation Set: Average Loss: 2.4865, Accuracy: 34.67%\n"
     ]
    },
    {
     "name": "stderr",
     "output_type": "stream",
     "text": [
      "Training Epoch #24: 100%|██████████| 990/990 [02:53<00:00,  5.71it/s, accuracy=67.8, loss=1.45] \n"
     ]
    },
    {
     "name": "stdout",
     "output_type": "stream",
     "text": [
      "Train Epoch: 24, Loss: 1.110179, Accuracy: 67.78%\n"
     ]
    },
    {
     "name": "stderr",
     "output_type": "stream",
     "text": [
      "Validation Epoch #24: 100%|██████████| 8/8 [00:01<00:00,  6.81it/s, accuracy=35.8, loss=2.53] \n"
     ]
    },
    {
     "name": "stdout",
     "output_type": "stream",
     "text": [
      "Validation Set: Average Loss: 2.5263, Accuracy: 35.78%\n"
     ]
    },
    {
     "name": "stderr",
     "output_type": "stream",
     "text": [
      "Training Epoch #25: 100%|██████████| 990/990 [02:53<00:00,  5.70it/s, accuracy=69.3, loss=1.15] \n"
     ]
    },
    {
     "name": "stdout",
     "output_type": "stream",
     "text": [
      "Train Epoch: 25, Loss: 1.056775, Accuracy: 69.28%\n"
     ]
    },
    {
     "name": "stderr",
     "output_type": "stream",
     "text": [
      "Validation Epoch #25: 100%|██████████| 8/8 [00:01<00:00,  6.94it/s, accuracy=32.2, loss=2.68] \n"
     ]
    },
    {
     "name": "stdout",
     "output_type": "stream",
     "text": [
      "Validation Set: Average Loss: 2.6752, Accuracy: 32.22%\n"
     ]
    },
    {
     "name": "stderr",
     "output_type": "stream",
     "text": [
      "Training Epoch #26: 100%|██████████| 990/990 [02:53<00:00,  5.71it/s, accuracy=71.3, loss=1.27] \n"
     ]
    },
    {
     "name": "stdout",
     "output_type": "stream",
     "text": [
      "Train Epoch: 26, Loss: 0.994045, Accuracy: 71.34%\n"
     ]
    },
    {
     "name": "stderr",
     "output_type": "stream",
     "text": [
      "Validation Epoch #26: 100%|██████████| 8/8 [00:01<00:00,  7.01it/s, accuracy=33.1, loss=2.82] \n"
     ]
    },
    {
     "name": "stdout",
     "output_type": "stream",
     "text": [
      "Validation Set: Average Loss: 2.8245, Accuracy: 33.11%\n"
     ]
    },
    {
     "name": "stderr",
     "output_type": "stream",
     "text": [
      "Training Epoch #27: 100%|██████████| 990/990 [02:53<00:00,  5.70it/s, accuracy=73, loss=0.893]  \n"
     ]
    },
    {
     "name": "stdout",
     "output_type": "stream",
     "text": [
      "Train Epoch: 27, Loss: 0.943668, Accuracy: 73.01%\n"
     ]
    },
    {
     "name": "stderr",
     "output_type": "stream",
     "text": [
      "Validation Epoch #27: 100%|██████████| 8/8 [00:01<00:00,  6.97it/s, accuracy=31.3, loss=2.77] \n"
     ]
    },
    {
     "name": "stdout",
     "output_type": "stream",
     "text": [
      "Validation Set: Average Loss: 2.7693, Accuracy: 31.33%\n"
     ]
    },
    {
     "name": "stderr",
     "output_type": "stream",
     "text": [
      "Training Epoch #28: 100%|██████████| 990/990 [02:53<00:00,  5.71it/s, accuracy=74.5, loss=0.922]\n"
     ]
    },
    {
     "name": "stdout",
     "output_type": "stream",
     "text": [
      "Train Epoch: 28, Loss: 0.894272, Accuracy: 74.53%\n"
     ]
    },
    {
     "name": "stderr",
     "output_type": "stream",
     "text": [
      "Validation Epoch #28: 100%|██████████| 8/8 [00:01<00:00,  6.98it/s, accuracy=32.7, loss=2.75] \n"
     ]
    },
    {
     "name": "stdout",
     "output_type": "stream",
     "text": [
      "Validation Set: Average Loss: 2.7545, Accuracy: 32.67%\n"
     ]
    },
    {
     "name": "stderr",
     "output_type": "stream",
     "text": [
      "Training Epoch #29: 100%|██████████| 990/990 [02:53<00:00,  5.70it/s, accuracy=75.4, loss=0.812]\n"
     ]
    },
    {
     "name": "stdout",
     "output_type": "stream",
     "text": [
      "Train Epoch: 29, Loss: 0.862565, Accuracy: 75.40%\n"
     ]
    },
    {
     "name": "stderr",
     "output_type": "stream",
     "text": [
      "Validation Epoch #29: 100%|██████████| 8/8 [00:01<00:00,  6.97it/s, accuracy=33.3, loss=2.82] \n"
     ]
    },
    {
     "name": "stdout",
     "output_type": "stream",
     "text": [
      "Validation Set: Average Loss: 2.8161, Accuracy: 33.33%\n"
     ]
    },
    {
     "name": "stderr",
     "output_type": "stream",
     "text": [
      "Training Epoch #30: 100%|██████████| 990/990 [02:53<00:00,  5.69it/s, accuracy=76.7, loss=0.884]\n"
     ]
    },
    {
     "name": "stdout",
     "output_type": "stream",
     "text": [
      "Train Epoch: 30, Loss: 0.822482, Accuracy: 76.70%\n"
     ]
    },
    {
     "name": "stderr",
     "output_type": "stream",
     "text": [
      "Validation Epoch #30: 100%|██████████| 8/8 [00:01<00:00,  7.07it/s, accuracy=32.2, loss=3.03] "
     ]
    },
    {
     "name": "stdout",
     "output_type": "stream",
     "text": [
      "Validation Set: Average Loss: 3.0281, Accuracy: 32.22%\n",
      "Final Best Accuracy: 37.11%\n"
     ]
    },
    {
     "name": "stderr",
     "output_type": "stream",
     "text": [
      "\n"
     ]
    }
   ],
   "source": [
    "epochs = 30\n",
    "lr = 0.1\n",
    "momentum = 0.9\n",
    "weight_decay = 1e-4\n",
    "optimizer = optim.SGD(model.parameters(), lr = lr, momentum = momentum, weight_decay = weight_decay)\n",
    "\n",
    "def adjust_lr(optimizer, epoch):\n",
    "    if epoch in [epochs * 0.5, epochs * 0.75, epochs * 0.85]:\n",
    "        for p in optimizer.param_groups:\n",
    "            p['lr'] *= 0.1\n",
    "            lr = p['lr']\n",
    "        print('Adjusted lr:' + str(lr))\n",
    "\n",
    "def train(epoch):\n",
    "    model.train()\n",
    "    avg_loss = 0.\n",
    "    train_acc = 0.\n",
    "    adjust_lr(optimizer, epoch)\n",
    "    train_loader_len = len(train_loader.dataset)\n",
    "    train_loader_iter = tqdm(enumerate(train_loader), total = len(train_loader), desc = \"Training Epoch #{}\".format(epoch))\n",
    "    \n",
    "    for batch_idx, (data, label) in train_loader_iter:\n",
    "        data, label = data.to(device), label.to(device)\n",
    "        optimizer.zero_grad()\n",
    "        output = model(data)\n",
    "        loss = F.cross_entropy(output, label)\n",
    "        avg_loss += loss.item()\n",
    "        pred = output.data.max(1, keepdim = True)[1]\n",
    "        train_acc += pred.eq(label.data.view_as(pred)).cpu().sum()\n",
    "        loss.backward()\n",
    "        optimizer.step()\n",
    "        train_loader_iter.set_postfix(loss = loss.item(), accuracy = 100. * train_acc.item() / train_loader_len)\n",
    "    print('Train Epoch: {}, Loss: {:.6f}, Accuracy: {:.2f}%'.format(epoch, avg_loss / len(train_loader), 100. * train_acc / train_loader_len))\n",
    "\n",
    "def val(epoch):\n",
    "    model.eval()\n",
    "    test_loss = 0.\n",
    "    correct = 0\n",
    "    val_loader_iter = tqdm(val_loader, total = len(val_loader), desc = \"Validation Epoch #{}\".format(epoch))\n",
    "    \n",
    "    with torch.no_grad():\n",
    "        for data, label in val_loader_iter:\n",
    "            data, label = data.to(device), label.to(device)\n",
    "            output = model(data)\n",
    "            test_loss += F.cross_entropy(output, label, reduction = 'sum').item()\n",
    "            pred = output.data.max(1, keepdim = True)[1]\n",
    "            correct += pred.eq(label.data.view_as(pred)).cpu().sum()\n",
    "            val_loader_iter.set_postfix(loss = test_loss / len(val_loader.dataset), accuracy = 100. * correct.item() / len(val_loader.dataset))\n",
    "    \n",
    "    test_loss /= len(val_loader.dataset)\n",
    "    accuracy = 100. * correct / len(val_loader.dataset)\n",
    "    print('Validation Set: Average Loss: {:.4f}, Accuracy: {:.2f}%'.format(test_loss, accuracy))\n",
    "    return accuracy\n",
    "    \n",
    "best_val_acc = 0.\n",
    "for i in range(epochs):\n",
    "    train(i + 1)\n",
    "    temp_acc = val(i + 1)\n",
    "    if temp_acc > best_val_acc:\n",
    "        best_val_acc = temp_acc\n",
    "        torch.save(model.state_dict(), 'resnet18_best.pt')\n",
    "        print('Best Accuracy: {:.2f}%'.format(best_val_acc))\n",
    "print('Final Best Accuracy: {:.2f}%'.format(best_val_acc))"
   ]
  },
  {
   "cell_type": "markdown",
   "id": "07e20286-4310-446a-bc04-dba24bbc9424",
   "metadata": {},
   "source": [
    "## Load ResNet18"
   ]
  },
  {
   "cell_type": "code",
   "execution_count": 9,
   "id": "db7ef802-d2e2-4216-92ad-36e3461e9c54",
   "metadata": {},
   "outputs": [
    {
     "data": {
      "text/plain": [
       "ResNet(\n",
       "  (conv1): Conv2d(3, 64, kernel_size=(7, 7), stride=(2, 2), padding=(3, 3), bias=False)\n",
       "  (bn1): BatchNorm2d(64, eps=1e-05, momentum=0.1, affine=True, track_running_stats=True)\n",
       "  (relu): ReLU(inplace=True)\n",
       "  (maxpool): MaxPool2d(kernel_size=3, stride=2, padding=1, dilation=1, ceil_mode=False)\n",
       "  (layer1): Sequential(\n",
       "    (0): BasicBlock(\n",
       "      (conv1): Conv2d(64, 64, kernel_size=(3, 3), stride=(1, 1), padding=(1, 1), bias=False)\n",
       "      (bn1): BatchNorm2d(64, eps=1e-05, momentum=0.1, affine=True, track_running_stats=True)\n",
       "      (relu): ReLU(inplace=True)\n",
       "      (conv2): Conv2d(64, 64, kernel_size=(3, 3), stride=(1, 1), padding=(1, 1), bias=False)\n",
       "      (bn2): BatchNorm2d(64, eps=1e-05, momentum=0.1, affine=True, track_running_stats=True)\n",
       "    )\n",
       "    (1): BasicBlock(\n",
       "      (conv1): Conv2d(64, 64, kernel_size=(3, 3), stride=(1, 1), padding=(1, 1), bias=False)\n",
       "      (bn1): BatchNorm2d(64, eps=1e-05, momentum=0.1, affine=True, track_running_stats=True)\n",
       "      (relu): ReLU(inplace=True)\n",
       "      (conv2): Conv2d(64, 64, kernel_size=(3, 3), stride=(1, 1), padding=(1, 1), bias=False)\n",
       "      (bn2): BatchNorm2d(64, eps=1e-05, momentum=0.1, affine=True, track_running_stats=True)\n",
       "    )\n",
       "  )\n",
       "  (layer2): Sequential(\n",
       "    (0): BasicBlock(\n",
       "      (conv1): Conv2d(64, 128, kernel_size=(3, 3), stride=(2, 2), padding=(1, 1), bias=False)\n",
       "      (bn1): BatchNorm2d(128, eps=1e-05, momentum=0.1, affine=True, track_running_stats=True)\n",
       "      (relu): ReLU(inplace=True)\n",
       "      (conv2): Conv2d(128, 128, kernel_size=(3, 3), stride=(1, 1), padding=(1, 1), bias=False)\n",
       "      (bn2): BatchNorm2d(128, eps=1e-05, momentum=0.1, affine=True, track_running_stats=True)\n",
       "      (downsample): Sequential(\n",
       "        (0): Conv2d(64, 128, kernel_size=(1, 1), stride=(2, 2), bias=False)\n",
       "        (1): BatchNorm2d(128, eps=1e-05, momentum=0.1, affine=True, track_running_stats=True)\n",
       "      )\n",
       "    )\n",
       "    (1): BasicBlock(\n",
       "      (conv1): Conv2d(128, 128, kernel_size=(3, 3), stride=(1, 1), padding=(1, 1), bias=False)\n",
       "      (bn1): BatchNorm2d(128, eps=1e-05, momentum=0.1, affine=True, track_running_stats=True)\n",
       "      (relu): ReLU(inplace=True)\n",
       "      (conv2): Conv2d(128, 128, kernel_size=(3, 3), stride=(1, 1), padding=(1, 1), bias=False)\n",
       "      (bn2): BatchNorm2d(128, eps=1e-05, momentum=0.1, affine=True, track_running_stats=True)\n",
       "    )\n",
       "  )\n",
       "  (layer3): Sequential(\n",
       "    (0): BasicBlock(\n",
       "      (conv1): Conv2d(128, 256, kernel_size=(3, 3), stride=(2, 2), padding=(1, 1), bias=False)\n",
       "      (bn1): BatchNorm2d(256, eps=1e-05, momentum=0.1, affine=True, track_running_stats=True)\n",
       "      (relu): ReLU(inplace=True)\n",
       "      (conv2): Conv2d(256, 256, kernel_size=(3, 3), stride=(1, 1), padding=(1, 1), bias=False)\n",
       "      (bn2): BatchNorm2d(256, eps=1e-05, momentum=0.1, affine=True, track_running_stats=True)\n",
       "      (downsample): Sequential(\n",
       "        (0): Conv2d(128, 256, kernel_size=(1, 1), stride=(2, 2), bias=False)\n",
       "        (1): BatchNorm2d(256, eps=1e-05, momentum=0.1, affine=True, track_running_stats=True)\n",
       "      )\n",
       "    )\n",
       "    (1): BasicBlock(\n",
       "      (conv1): Conv2d(256, 256, kernel_size=(3, 3), stride=(1, 1), padding=(1, 1), bias=False)\n",
       "      (bn1): BatchNorm2d(256, eps=1e-05, momentum=0.1, affine=True, track_running_stats=True)\n",
       "      (relu): ReLU(inplace=True)\n",
       "      (conv2): Conv2d(256, 256, kernel_size=(3, 3), stride=(1, 1), padding=(1, 1), bias=False)\n",
       "      (bn2): BatchNorm2d(256, eps=1e-05, momentum=0.1, affine=True, track_running_stats=True)\n",
       "    )\n",
       "  )\n",
       "  (layer4): Sequential(\n",
       "    (0): BasicBlock(\n",
       "      (conv1): Conv2d(256, 512, kernel_size=(3, 3), stride=(2, 2), padding=(1, 1), bias=False)\n",
       "      (bn1): BatchNorm2d(512, eps=1e-05, momentum=0.1, affine=True, track_running_stats=True)\n",
       "      (relu): ReLU(inplace=True)\n",
       "      (conv2): Conv2d(512, 512, kernel_size=(3, 3), stride=(1, 1), padding=(1, 1), bias=False)\n",
       "      (bn2): BatchNorm2d(512, eps=1e-05, momentum=0.1, affine=True, track_running_stats=True)\n",
       "      (downsample): Sequential(\n",
       "        (0): Conv2d(256, 512, kernel_size=(1, 1), stride=(2, 2), bias=False)\n",
       "        (1): BatchNorm2d(512, eps=1e-05, momentum=0.1, affine=True, track_running_stats=True)\n",
       "      )\n",
       "    )\n",
       "    (1): BasicBlock(\n",
       "      (conv1): Conv2d(512, 512, kernel_size=(3, 3), stride=(1, 1), padding=(1, 1), bias=False)\n",
       "      (bn1): BatchNorm2d(512, eps=1e-05, momentum=0.1, affine=True, track_running_stats=True)\n",
       "      (relu): ReLU(inplace=True)\n",
       "      (conv2): Conv2d(512, 512, kernel_size=(3, 3), stride=(1, 1), padding=(1, 1), bias=False)\n",
       "      (bn2): BatchNorm2d(512, eps=1e-05, momentum=0.1, affine=True, track_running_stats=True)\n",
       "    )\n",
       "  )\n",
       "  (avgpool): AdaptiveAvgPool2d(output_size=(1, 1))\n",
       "  (fc): Linear(in_features=512, out_features=50, bias=True)\n",
       ")"
      ]
     },
     "execution_count": 9,
     "metadata": {},
     "output_type": "execute_result"
    }
   ],
   "source": [
    "resnet18_model = models.resnet18(pretrained = False)\n",
    "resnet18_model.fc = torch.nn.Linear(model.fc.in_features, 50)\n",
    "resnet18_model.load_state_dict(torch.load(\"resnet18_best.pt\"))\n",
    "resnet18_model.to(device)\n",
    "resnet18_model.eval()"
   ]
  },
  {
   "cell_type": "markdown",
   "id": "cf26dbf7-128d-4532-83c2-057a52219a4c",
   "metadata": {},
   "source": [
    "## Evaluate by testing dataset"
   ]
  },
  {
   "cell_type": "code",
   "execution_count": 10,
   "id": "136001a8-cdab-452c-9393-c9dbc22232ba",
   "metadata": {},
   "outputs": [
    {
     "name": "stderr",
     "output_type": "stream",
     "text": [
      "Testing: 100%|██████████| 8/8 [00:01<00:00,  7.05it/s, accuracy=38.4]\n"
     ]
    },
    {
     "name": "stdout",
     "output_type": "stream",
     "text": [
      "Accuracy: 38.44%, Precision: 38.91%, Recall: 38.44%, F1 Score: 37.66%, FLOPS: 296456064, Elapsed Time: 1.14 seconds\n"
     ]
    }
   ],
   "source": [
    "test_dataset = LoadData(file = 'test.txt', root = '')\n",
    "test_loader = DataLoader(test_dataset, batch_size = 64, shuffle = False)\n",
    "def test(model):\n",
    "    model.eval()\n",
    "    correct = 0\n",
    "    test_loader_len = len(test_loader.dataset)\n",
    "    test_loader_iter = tqdm(test_loader, total = len(test_loader), desc = \"Testing\")\n",
    "    all_preds = []\n",
    "    all_targets = []\n",
    "    start_time = time.time()\n",
    "    \n",
    "    with torch.no_grad():\n",
    "        for data, label in test_loader_iter:\n",
    "            data, label = data.to(device), label.to(device)\n",
    "            output = model(data)\n",
    "            pred = output.data.max(1, keepdim = True)[1]\n",
    "            correct += pred.eq(label.data.view_as(pred)).cpu().sum()\n",
    "            all_preds.extend(pred.cpu().numpy())\n",
    "            all_targets.extend(label.cpu().numpy())\n",
    "            test_loader_iter.set_postfix(accuracy = 100. * correct.item() / test_loader_len)\n",
    "    \n",
    "    end_time = time.time()\n",
    "    elapsed_time = end_time - start_time\n",
    "    accuracy = 100. * correct / test_loader_len\n",
    "\n",
    "    # Calculate precision, recall, and F1-score\n",
    "    precision = 100. * precision_score(all_targets, all_preds, average = 'macro')\n",
    "    recall = 100. * recall_score(all_targets, all_preds, average = 'macro')\n",
    "    f1 = 100. * f1_score(all_targets, all_preds, average = 'macro')\n",
    "    \n",
    "    # Calculate FLOPS\n",
    "    flops = torchprofile.profile_macs(model, torch.randn(1, *data.shape[1:]).to(device))\n",
    "    return accuracy.item(), precision, recall, f1, flops, elapsed_time\n",
    "\n",
    "resnet_acc, resnet_precision, resnet_recall, resnet_f1, resnet_flops, resnet_elapsed_time = test(resnet18_model)\n",
    "print(f\"Accuracy: {resnet_acc:.2f}%, Precision: {resnet_precision:.2f}%, Recall: {resnet_recall:.2f}%, F1 Score: {resnet_f1:.2f}%, FLOPS: {resnet_flops:d}, Elapsed Time: {resnet_elapsed_time:.2f} seconds\")"
   ]
  }
 ],
 "metadata": {
  "kernelspec": {
   "display_name": "Python 3",
   "language": "python",
   "name": "python3"
  },
  "language_info": {
   "codemirror_mode": {
    "name": "ipython",
    "version": 3
   },
   "file_extension": ".py",
   "mimetype": "text/x-python",
   "name": "python",
   "nbconvert_exporter": "python",
   "pygments_lexer": "ipython3",
   "version": "3.8.7"
  }
 },
 "nbformat": 4,
 "nbformat_minor": 5
}
